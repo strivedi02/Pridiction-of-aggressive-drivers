{
 "cells": [
  {
   "cell_type": "markdown",
   "metadata": {},
   "source": [
    "**Taking only the required libraries for the visualization**"
   ]
  },
  {
   "cell_type": "code",
   "execution_count": null,
   "metadata": {},
   "outputs": [],
   "source": [
    "import matplotlib.pyplot as plt\n",
    "import pandas as pd\n",
    "from numpy import *\n",
    "import numpy as np\n",
    "import seaborn as sns\n",
    "import plotly\n",
    "import plotly.offline as pyoff\n",
    "import plotly.figure_factory as ff\n",
    "from plotly.offline import init_notebook_mode, iplot, plot\n",
    "import plotly.graph_objs as go\n",
    "from xgboost import plot_importance\n",
    "# from matplotlib import pyplot\n",
    "%matplotlib inline\n",
    "from tqdm import tqdm_notebook\n",
    "import random\n",
    "import math\n",
    "import pandas_profiling\n",
    "import warnings\n",
    "import numpy as np\n",
    "from sklearn.metrics import precision_recall_fscore_support\n",
    "from sklearn.metrics import recall_score\n",
    "from sklearn.model_selection import train_test_split\n",
    "from sklearn.tree import DecisionTreeClassifier\n",
    "from sklearn.metrics import accuracy_score\n",
    "from sklearn.linear_model import SGDClassifier\n",
    "from sklearn.ensemble import AdaBoostClassifier\n",
    "# from imblearn.over_sampling import SMOTE\n",
    "from sklearn.ensemble import RandomForestClassifier\n",
    "from xgboost import XGBClassifier\n",
    "from sklearn.metrics import accuracy_score\n",
    "from sklearn.metrics import precision_score\n",
    "from sklearn.metrics import recall_score\n",
    "from sklearn.metrics import roc_auc_score\n",
    "from sklearn.metrics import f1_score\n",
    "from sklearn.metrics import confusion_matrix\n",
    "from sklearn.metrics import classification_report\n",
    "from sklearn.model_selection import GridSearchCV\n",
    "from catboost import CatBoostClassifier\n",
    "import lightgbm as lgb\n",
    "from sklearn.preprocessing import StandardScaler\n",
    "from sklearn.decomposition import PCA\n",
    "from sklearn.model_selection import KFold\n",
    "import sklearn\n",
    "warnings.filterwarnings('ignore')"
   ]
  },
  {
   "cell_type": "code",
   "execution_count": 680,
   "metadata": {},
   "outputs": [
    {
     "name": "stdout",
     "output_type": "stream",
     "text": [
      "scikit-learn version: 0.19.1\n"
     ]
    }
   ],
   "source": [
    "print(\"scikit-learn version: {}\". format(sklearn.__version__))"
   ]
  },
  {
   "cell_type": "code",
   "execution_count": 527,
   "metadata": {},
   "outputs": [
    {
     "data": {
      "text/html": [
       "<script type=\"text/javascript\">window.PlotlyConfig = {MathJaxConfig: 'local'};</script><script type=\"text/javascript\">if (window.MathJax) {MathJax.Hub.Config({SVG: {font: \"STIX-Web\"}});}</script><script>requirejs.config({paths: { 'plotly': ['https://cdn.plot.ly/plotly-latest.min']},});if(!window._Plotly) {require(['plotly'],function(plotly) {window._Plotly=plotly;});}</script>"
      ],
      "text/vnd.plotly.v1+html": [
       "<script type=\"text/javascript\">window.PlotlyConfig = {MathJaxConfig: 'local'};</script><script type=\"text/javascript\">if (window.MathJax) {MathJax.Hub.Config({SVG: {font: \"STIX-Web\"}});}</script><script>requirejs.config({paths: { 'plotly': ['https://cdn.plot.ly/plotly-latest.min']},});if(!window._Plotly) {require(['plotly'],function(plotly) {window._Plotly=plotly;});}</script>"
      ]
     },
     "metadata": {},
     "output_type": "display_data"
    }
   ],
   "source": [
    "init_notebook_mode(connected=True)"
   ]
  },
  {
   "cell_type": "markdown",
   "metadata": {},
   "source": [
    "## Reading Provided the dataset"
   ]
  },
  {
   "cell_type": "markdown",
   "metadata": {},
   "source": [
    "some NA values can't just 'NA' there could be a white space or a question mark"
   ]
  },
  {
   "cell_type": "markdown",
   "metadata": {},
   "source": [
    "na_values=[\" \",\".\",\"NA\",\"?\",\"-\",\"\"] so using in this way we can specify possible list of NA values"
   ]
  },
  {
   "cell_type": "code",
   "execution_count": 528,
   "metadata": {},
   "outputs": [],
   "source": [
    "train_data = pd.read_csv('Train.csv',na_values=[\" \",\".\",\"NA\",\"?\",\"-\",\"\"])\n",
    "train_vehicle = pd.read_csv('Train_Vehicletravellingdata.csv',na_values=[\" \",\".\",\"NA\",\"?\",\"-\",\"\"])\n",
    "train_weather = pd.read_csv('Train_WeatherData.csv',na_values=[\" \",\".\",\"NA\",\"?\",\"-\",\"\"])"
   ]
  },
  {
   "cell_type": "code",
   "execution_count": 529,
   "metadata": {},
   "outputs": [],
   "source": [
    "Class1_filter = train_data[train_data['DrivingStyle']==1]"
   ]
  },
  {
   "cell_type": "code",
   "execution_count": 530,
   "metadata": {},
   "outputs": [],
   "source": [
    "Class2_filter = train_data[train_data['DrivingStyle']==2]"
   ]
  },
  {
   "cell_type": "code",
   "execution_count": 531,
   "metadata": {},
   "outputs": [],
   "source": [
    "Class2_filter = Class2_filter[0:2774]"
   ]
  },
  {
   "cell_type": "code",
   "execution_count": 532,
   "metadata": {},
   "outputs": [],
   "source": [
    "Class3_filter = train_data[train_data['DrivingStyle']==3]"
   ]
  },
  {
   "cell_type": "code",
   "execution_count": 533,
   "metadata": {},
   "outputs": [],
   "source": [
    "Class3_filter = Class3_filter[0:2774]"
   ]
  },
  {
   "cell_type": "code",
   "execution_count": 534,
   "metadata": {},
   "outputs": [],
   "source": [
    "del train_data"
   ]
  },
  {
   "cell_type": "code",
   "execution_count": 535,
   "metadata": {},
   "outputs": [
    {
     "name": "stdout",
     "output_type": "stream",
     "text": [
      "(2774, 5)\n",
      "(2774, 5)\n",
      "(2774, 5)\n"
     ]
    }
   ],
   "source": [
    "print(Class1_filter.shape)\n",
    "print(Class2_filter.shape)\n",
    "print(Class3_filter.shape)"
   ]
  },
  {
   "cell_type": "code",
   "execution_count": 536,
   "metadata": {},
   "outputs": [],
   "source": [
    "class_list = [Class1_filter,Class2_filter,Class3_filter]"
   ]
  },
  {
   "cell_type": "code",
   "execution_count": 537,
   "metadata": {},
   "outputs": [],
   "source": [
    "train_data = pd.concat(class_list,axis=0)"
   ]
  },
  {
   "cell_type": "markdown",
   "metadata": {},
   "source": [
    "First we will take The Train.csv file and do the basic observation of the data like info and shape as well as count of null values"
   ]
  },
  {
   "cell_type": "markdown",
   "metadata": {},
   "source": [
    "We will also rename the columns for easy interpretation"
   ]
  },
  {
   "cell_type": "markdown",
   "metadata": {},
   "source": [
    "**Let's take one dataset at a time: Train data**"
   ]
  },
  {
   "cell_type": "markdown",
   "metadata": {},
   "source": [
    "ID              :\"ID\"\n",
    "V2              :\"vehicle_length_cm\"\n",
    "V5              :\"vehicle_weight_kg\"\n",
    "V6              :\"number_of_axles\"\n",
    "DrivingStyle    :\"DrivingStyle\"(Target)"
   ]
  },
  {
   "cell_type": "code",
   "execution_count": 538,
   "metadata": {},
   "outputs": [
    {
     "data": {
      "text/plain": [
       "3    2774\n",
       "2    2774\n",
       "1    2774\n",
       "Name: DrivingStyle, dtype: int64"
      ]
     },
     "execution_count": 538,
     "metadata": {},
     "output_type": "execute_result"
    }
   ],
   "source": [
    "train_data['DrivingStyle'].value_counts()"
   ]
  },
  {
   "cell_type": "code",
   "execution_count": 539,
   "metadata": {},
   "outputs": [
    {
     "name": "stdout",
     "output_type": "stream",
     "text": [
      "(8322, 5)\n"
     ]
    },
    {
     "data": {
      "text/plain": [
       "ID              0\n",
       "V2              0\n",
       "V5              0\n",
       "V6              0\n",
       "DrivingStyle    0\n",
       "dtype: int64"
      ]
     },
     "execution_count": 539,
     "metadata": {},
     "output_type": "execute_result"
    }
   ],
   "source": [
    "print(train_data.shape)\n",
    "train_data.isnull().sum()"
   ]
  },
  {
   "cell_type": "code",
   "execution_count": 540,
   "metadata": {},
   "outputs": [],
   "source": [
    "train_data.columns = [\"ID\",\"vehicle_length_cm\",\"vehicle_weight_kg\",\"number_of_axles\",\"DrivingStyle\"]"
   ]
  },
  {
   "cell_type": "code",
   "execution_count": 541,
   "metadata": {},
   "outputs": [
    {
     "name": "stdout",
     "output_type": "stream",
     "text": [
      "<class 'pandas.core.frame.DataFrame'>\n",
      "Int64Index: 8322 entries, 8 to 9406\n",
      "Data columns (total 5 columns):\n",
      "ID                   8322 non-null object\n",
      "vehicle_length_cm    8322 non-null int64\n",
      "vehicle_weight_kg    8322 non-null int64\n",
      "number_of_axles      8322 non-null int64\n",
      "DrivingStyle         8322 non-null int64\n",
      "dtypes: int64(4), object(1)\n",
      "memory usage: 390.1+ KB\n"
     ]
    }
   ],
   "source": [
    "train_data.info()"
   ]
  },
  {
   "cell_type": "markdown",
   "metadata": {},
   "source": [
    "from above output it is evident that there is no null value"
   ]
  },
  {
   "cell_type": "markdown",
   "metadata": {},
   "source": [
    "**Let's take the Second dataset: Vehicle data**"
   ]
  },
  {
   "cell_type": "markdown",
   "metadata": {},
   "source": [
    "We will perform the same operations as above"
   ]
  },
  {
   "cell_type": "code",
   "execution_count": 542,
   "metadata": {},
   "outputs": [],
   "source": [
    "train_vehicle.columns = [\"ID\",\"trip_datetime\",\"lane_no\",\"vehicle_speed\",\"pvehicle_id\",\"pvehicle_speed_kph\",\"pvehicle_weight_kg\",\"pvehicle_length_cm\",\"pvehicle_timegap\",\"weather_road_cond\"]"
   ]
  },
  {
   "cell_type": "markdown",
   "metadata": {},
   "source": [
    "Column pvehicle_timegap has 2455 null values"
   ]
  },
  {
   "cell_type": "code",
   "execution_count": 543,
   "metadata": {},
   "outputs": [
    {
     "name": "stdout",
     "output_type": "stream",
     "text": [
      "(162566, 10)\n"
     ]
    },
    {
     "data": {
      "text/plain": [
       "ID                       0\n",
       "trip_datetime            0\n",
       "lane_no                  0\n",
       "vehicle_speed            0\n",
       "pvehicle_id              0\n",
       "pvehicle_speed_kph       0\n",
       "pvehicle_weight_kg       0\n",
       "pvehicle_length_cm       0\n",
       "pvehicle_timegap      2455\n",
       "weather_road_cond        0\n",
       "dtype: int64"
      ]
     },
     "execution_count": 543,
     "metadata": {},
     "output_type": "execute_result"
    }
   ],
   "source": [
    "# checking null values in train_vehicle\n",
    "print(train_vehicle.shape)\n",
    "train_vehicle.isnull().sum()"
   ]
  },
  {
   "cell_type": "markdown",
   "metadata": {},
   "source": [
    "for pvehicle_timegap we will do a mean imputation. But the value generated by mean calculation will be in floating point, hence converting the mean value to the closest value by converting it to integer datatype"
   ]
  },
  {
   "cell_type": "code",
   "execution_count": 544,
   "metadata": {},
   "outputs": [],
   "source": [
    "train_vehicle['pvehicle_timegap'] = train_vehicle['pvehicle_timegap'].fillna(train_vehicle['pvehicle_timegap'].mean())"
   ]
  },
  {
   "cell_type": "code",
   "execution_count": 545,
   "metadata": {},
   "outputs": [],
   "source": [
    "train_vehicle['pvehicle_timegap'] = train_vehicle['pvehicle_timegap'].astype('int64')"
   ]
  },
  {
   "cell_type": "markdown",
   "metadata": {},
   "source": [
    "We will also change the datatype of trip_datetime to datetime64 so that we can use that in future as and when required"
   ]
  },
  {
   "cell_type": "code",
   "execution_count": 546,
   "metadata": {},
   "outputs": [],
   "source": [
    "train_vehicle['trip_datetime'] = train_vehicle['trip_datetime'].astype('datetime64')"
   ]
  },
  {
   "cell_type": "code",
   "execution_count": 547,
   "metadata": {},
   "outputs": [
    {
     "name": "stdout",
     "output_type": "stream",
     "text": [
      "<class 'pandas.core.frame.DataFrame'>\n",
      "RangeIndex: 162566 entries, 0 to 162565\n",
      "Data columns (total 10 columns):\n",
      "ID                    162566 non-null object\n",
      "trip_datetime         162566 non-null datetime64[ns]\n",
      "lane_no               162566 non-null int64\n",
      "vehicle_speed         162566 non-null int64\n",
      "pvehicle_id           162566 non-null int64\n",
      "pvehicle_speed_kph    162566 non-null int64\n",
      "pvehicle_weight_kg    162566 non-null int64\n",
      "pvehicle_length_cm    162566 non-null int64\n",
      "pvehicle_timegap      162566 non-null int64\n",
      "weather_road_cond     162566 non-null object\n",
      "dtypes: datetime64[ns](1), int64(7), object(2)\n",
      "memory usage: 12.4+ MB\n"
     ]
    }
   ],
   "source": [
    "train_vehicle.info()"
   ]
  },
  {
   "cell_type": "markdown",
   "metadata": {},
   "source": [
    "**Let's take the Second dataset: Weather data**"
   ]
  },
  {
   "cell_type": "markdown",
   "metadata": {},
   "source": [
    "We will perform the same operations here as well"
   ]
  },
  {
   "cell_type": "code",
   "execution_count": 548,
   "metadata": {},
   "outputs": [],
   "source": [
    "train_weather.columns = [\"ID\",'trip_datetime','air_temp','prep_type','prep_intensity','realtive_humidity','wind_direction','wind_speed_ms','daylight_cond']"
   ]
  },
  {
   "cell_type": "code",
   "execution_count": 549,
   "metadata": {},
   "outputs": [
    {
     "name": "stdout",
     "output_type": "stream",
     "text": [
      "<class 'pandas.core.frame.DataFrame'>\n",
      "RangeIndex: 162566 entries, 0 to 162565\n",
      "Data columns (total 9 columns):\n",
      "ID                   162566 non-null object\n",
      "trip_datetime        162566 non-null object\n",
      "air_temp             160509 non-null float64\n",
      "prep_type            162566 non-null object\n",
      "prep_intensity       160292 non-null object\n",
      "realtive_humidity    160461 non-null float64\n",
      "wind_direction       160452 non-null float64\n",
      "wind_speed_ms        160102 non-null float64\n",
      "daylight_cond        162566 non-null object\n",
      "dtypes: float64(4), object(5)\n",
      "memory usage: 11.2+ MB\n"
     ]
    }
   ],
   "source": [
    "train_weather.info()"
   ]
  },
  {
   "cell_type": "code",
   "execution_count": 550,
   "metadata": {},
   "outputs": [
    {
     "name": "stdout",
     "output_type": "stream",
     "text": [
      "(162566, 9)\n"
     ]
    },
    {
     "data": {
      "text/plain": [
       "ID                      0\n",
       "trip_datetime           0\n",
       "air_temp             2057\n",
       "prep_type               0\n",
       "prep_intensity       2274\n",
       "realtive_humidity    2105\n",
       "wind_direction       2114\n",
       "wind_speed_ms        2464\n",
       "daylight_cond           0\n",
       "dtype: int64"
      ]
     },
     "execution_count": 550,
     "metadata": {},
     "output_type": "execute_result"
    }
   ],
   "source": [
    "# checking null values in train_weather\n",
    "print(train_weather.shape)\n",
    "train_weather.isnull().sum()"
   ]
  },
  {
   "cell_type": "markdown",
   "metadata": {},
   "source": [
    "Mode imputation for prep_intensity and for the rest of the null value columns we will do mean Imputation and try to bring them to their nearest value by using ceil and floor functions"
   ]
  },
  {
   "cell_type": "code",
   "execution_count": 551,
   "metadata": {},
   "outputs": [],
   "source": [
    "train_weather['air_temp'] = train_weather['air_temp'].fillna(math.ceil(train_weather['air_temp'].mean()))  #ceil\n",
    "train_weather['realtive_humidity'] = train_weather['realtive_humidity'].fillna(math.ceil(train_weather['realtive_humidity'].mean()))\n",
    "train_weather['wind_direction'] = train_weather['wind_direction'].fillna(180) #ceil\n",
    "train_weather['wind_speed_ms'] = train_weather['wind_speed_ms'].fillna(math.floor(train_weather['wind_speed_ms'].mean()))"
   ]
  },
  {
   "cell_type": "code",
   "execution_count": 552,
   "metadata": {},
   "outputs": [],
   "source": [
    "train_weather['prep_intensity'] = train_weather['prep_intensity'].astype('category')"
   ]
  },
  {
   "cell_type": "code",
   "execution_count": 553,
   "metadata": {},
   "outputs": [],
   "source": [
    "# train_weather['prep_intensity'].mode()"
   ]
  },
  {
   "cell_type": "code",
   "execution_count": 554,
   "metadata": {},
   "outputs": [],
   "source": [
    "train_weather['prep_intensity'] = train_weather['prep_intensity'].fillna(train_weather['prep_intensity'].mode()[0])"
   ]
  },
  {
   "cell_type": "code",
   "execution_count": 555,
   "metadata": {},
   "outputs": [
    {
     "data": {
      "text/plain": [
       "ID                   0\n",
       "trip_datetime        0\n",
       "air_temp             0\n",
       "prep_type            0\n",
       "prep_intensity       0\n",
       "realtive_humidity    0\n",
       "wind_direction       0\n",
       "wind_speed_ms        0\n",
       "daylight_cond        0\n",
       "dtype: int64"
      ]
     },
     "execution_count": 555,
     "metadata": {},
     "output_type": "execute_result"
    }
   ],
   "source": [
    "train_weather.isnull().sum()"
   ]
  },
  {
   "cell_type": "code",
   "execution_count": 556,
   "metadata": {},
   "outputs": [],
   "source": [
    "train_weather['trip_datetime'] = train_weather['trip_datetime'].astype('datetime64')"
   ]
  },
  {
   "cell_type": "markdown",
   "metadata": {},
   "source": [
    "**The basic preprocessing finishes here now we will join all the dataset using 'Inner' Join**"
   ]
  },
  {
   "cell_type": "markdown",
   "metadata": {},
   "source": [
    "The Inner join between the train data and vehicle data will be done on the basis of 'ID' column"
   ]
  },
  {
   "cell_type": "markdown",
   "metadata": {},
   "source": [
    "The Inner join between the joined data and weather data will be done on the basis of 'ID' and 'trip_datetime' column"
   ]
  },
  {
   "cell_type": "code",
   "execution_count": 557,
   "metadata": {},
   "outputs": [
    {
     "name": "stdout",
     "output_type": "stream",
     "text": [
      "(103155, 14)\n",
      "(103155, 21)\n"
     ]
    }
   ],
   "source": [
    "data = pd.merge(train_data,train_vehicle,on='ID',how='inner')\n",
    "print(data.shape)\n",
    "data = pd.merge(data,train_weather,on=['ID','trip_datetime'],how='inner')\n",
    "print(data.shape)"
   ]
  },
  {
   "cell_type": "code",
   "execution_count": 558,
   "metadata": {},
   "outputs": [],
   "source": [
    "# for efficient memory usage\n",
    "del train_data\n",
    "del train_vehicle\n",
    "del train_weather"
   ]
  },
  {
   "cell_type": "markdown",
   "metadata": {},
   "source": [
    "converting all the object data type columns to categories"
   ]
  },
  {
   "cell_type": "code",
   "execution_count": 559,
   "metadata": {},
   "outputs": [],
   "source": [
    "for column in data.columns:\n",
    "    if data[column].dtypes == 'object':\n",
    "        data[column] = data[column].astype('category')"
   ]
  },
  {
   "cell_type": "markdown",
   "metadata": {},
   "source": [
    "checking the summary statistics for all the columns"
   ]
  },
  {
   "cell_type": "code",
   "execution_count": 560,
   "metadata": {},
   "outputs": [
    {
     "data": {
      "text/html": [
       "<div>\n",
       "<style scoped>\n",
       "    .dataframe tbody tr th:only-of-type {\n",
       "        vertical-align: middle;\n",
       "    }\n",
       "\n",
       "    .dataframe tbody tr th {\n",
       "        vertical-align: top;\n",
       "    }\n",
       "\n",
       "    .dataframe thead th {\n",
       "        text-align: right;\n",
       "    }\n",
       "</style>\n",
       "<table border=\"1\" class=\"dataframe\">\n",
       "  <thead>\n",
       "    <tr style=\"text-align: right;\">\n",
       "      <th></th>\n",
       "      <th>count</th>\n",
       "      <th>unique</th>\n",
       "      <th>top</th>\n",
       "      <th>freq</th>\n",
       "      <th>first</th>\n",
       "      <th>last</th>\n",
       "      <th>mean</th>\n",
       "      <th>std</th>\n",
       "      <th>min</th>\n",
       "      <th>25%</th>\n",
       "      <th>50%</th>\n",
       "      <th>75%</th>\n",
       "      <th>max</th>\n",
       "    </tr>\n",
       "  </thead>\n",
       "  <tbody>\n",
       "    <tr>\n",
       "      <th>ID</th>\n",
       "      <td>103155</td>\n",
       "      <td>8322</td>\n",
       "      <td>DR_19735</td>\n",
       "      <td>91</td>\n",
       "      <td>NaN</td>\n",
       "      <td>NaN</td>\n",
       "      <td>NaN</td>\n",
       "      <td>NaN</td>\n",
       "      <td>NaN</td>\n",
       "      <td>NaN</td>\n",
       "      <td>NaN</td>\n",
       "      <td>NaN</td>\n",
       "      <td>NaN</td>\n",
       "    </tr>\n",
       "    <tr>\n",
       "      <th>vehicle_length_cm</th>\n",
       "      <td>103155</td>\n",
       "      <td>NaN</td>\n",
       "      <td>NaN</td>\n",
       "      <td>NaN</td>\n",
       "      <td>NaN</td>\n",
       "      <td>NaN</td>\n",
       "      <td>891.835</td>\n",
       "      <td>513.181</td>\n",
       "      <td>155</td>\n",
       "      <td>551</td>\n",
       "      <td>579</td>\n",
       "      <td>1301</td>\n",
       "      <td>2337</td>\n",
       "    </tr>\n",
       "    <tr>\n",
       "      <th>vehicle_weight_kg</th>\n",
       "      <td>103155</td>\n",
       "      <td>NaN</td>\n",
       "      <td>NaN</td>\n",
       "      <td>NaN</td>\n",
       "      <td>NaN</td>\n",
       "      <td>NaN</td>\n",
       "      <td>6573.14</td>\n",
       "      <td>8533.34</td>\n",
       "      <td>44</td>\n",
       "      <td>1643</td>\n",
       "      <td>2083</td>\n",
       "      <td>9486</td>\n",
       "      <td>57230</td>\n",
       "    </tr>\n",
       "    <tr>\n",
       "      <th>number_of_axles</th>\n",
       "      <td>103155</td>\n",
       "      <td>NaN</td>\n",
       "      <td>NaN</td>\n",
       "      <td>NaN</td>\n",
       "      <td>NaN</td>\n",
       "      <td>NaN</td>\n",
       "      <td>2.92816</td>\n",
       "      <td>1.52322</td>\n",
       "      <td>2</td>\n",
       "      <td>2</td>\n",
       "      <td>2</td>\n",
       "      <td>4</td>\n",
       "      <td>9</td>\n",
       "    </tr>\n",
       "    <tr>\n",
       "      <th>DrivingStyle</th>\n",
       "      <td>103155</td>\n",
       "      <td>NaN</td>\n",
       "      <td>NaN</td>\n",
       "      <td>NaN</td>\n",
       "      <td>NaN</td>\n",
       "      <td>NaN</td>\n",
       "      <td>2.09628</td>\n",
       "      <td>0.769772</td>\n",
       "      <td>1</td>\n",
       "      <td>1</td>\n",
       "      <td>2</td>\n",
       "      <td>3</td>\n",
       "      <td>3</td>\n",
       "    </tr>\n",
       "    <tr>\n",
       "      <th>trip_datetime</th>\n",
       "      <td>103155</td>\n",
       "      <td>103139</td>\n",
       "      <td>2012-05-23 03:09:18</td>\n",
       "      <td>2</td>\n",
       "      <td>2012-03-21 09:14:55</td>\n",
       "      <td>2013-04-30 16:57:08</td>\n",
       "      <td>NaN</td>\n",
       "      <td>NaN</td>\n",
       "      <td>NaN</td>\n",
       "      <td>NaN</td>\n",
       "      <td>NaN</td>\n",
       "      <td>NaN</td>\n",
       "      <td>NaN</td>\n",
       "    </tr>\n",
       "    <tr>\n",
       "      <th>lane_no</th>\n",
       "      <td>103155</td>\n",
       "      <td>NaN</td>\n",
       "      <td>NaN</td>\n",
       "      <td>NaN</td>\n",
       "      <td>NaN</td>\n",
       "      <td>NaN</td>\n",
       "      <td>1.49588</td>\n",
       "      <td>0.499985</td>\n",
       "      <td>1</td>\n",
       "      <td>1</td>\n",
       "      <td>1</td>\n",
       "      <td>2</td>\n",
       "      <td>2</td>\n",
       "    </tr>\n",
       "    <tr>\n",
       "      <th>vehicle_speed</th>\n",
       "      <td>103155</td>\n",
       "      <td>NaN</td>\n",
       "      <td>NaN</td>\n",
       "      <td>NaN</td>\n",
       "      <td>NaN</td>\n",
       "      <td>NaN</td>\n",
       "      <td>83.4984</td>\n",
       "      <td>9.56393</td>\n",
       "      <td>8</td>\n",
       "      <td>78</td>\n",
       "      <td>83</td>\n",
       "      <td>88</td>\n",
       "      <td>161</td>\n",
       "    </tr>\n",
       "    <tr>\n",
       "      <th>pvehicle_id</th>\n",
       "      <td>103155</td>\n",
       "      <td>NaN</td>\n",
       "      <td>NaN</td>\n",
       "      <td>NaN</td>\n",
       "      <td>NaN</td>\n",
       "      <td>NaN</td>\n",
       "      <td>321166</td>\n",
       "      <td>249248</td>\n",
       "      <td>20</td>\n",
       "      <td>111074</td>\n",
       "      <td>164566</td>\n",
       "      <td>585536</td>\n",
       "      <td>794435</td>\n",
       "    </tr>\n",
       "    <tr>\n",
       "      <th>pvehicle_speed_kph</th>\n",
       "      <td>103155</td>\n",
       "      <td>NaN</td>\n",
       "      <td>NaN</td>\n",
       "      <td>NaN</td>\n",
       "      <td>NaN</td>\n",
       "      <td>NaN</td>\n",
       "      <td>83.4891</td>\n",
       "      <td>9.55539</td>\n",
       "      <td>0</td>\n",
       "      <td>78</td>\n",
       "      <td>83</td>\n",
       "      <td>88</td>\n",
       "      <td>161</td>\n",
       "    </tr>\n",
       "    <tr>\n",
       "      <th>pvehicle_weight_kg</th>\n",
       "      <td>103155</td>\n",
       "      <td>NaN</td>\n",
       "      <td>NaN</td>\n",
       "      <td>NaN</td>\n",
       "      <td>NaN</td>\n",
       "      <td>NaN</td>\n",
       "      <td>5292.13</td>\n",
       "      <td>7775.51</td>\n",
       "      <td>3</td>\n",
       "      <td>1516</td>\n",
       "      <td>1904</td>\n",
       "      <td>2836</td>\n",
       "      <td>69548</td>\n",
       "    </tr>\n",
       "    <tr>\n",
       "      <th>pvehicle_length_cm</th>\n",
       "      <td>103155</td>\n",
       "      <td>NaN</td>\n",
       "      <td>NaN</td>\n",
       "      <td>NaN</td>\n",
       "      <td>NaN</td>\n",
       "      <td>NaN</td>\n",
       "      <td>803.805</td>\n",
       "      <td>492.277</td>\n",
       "      <td>102</td>\n",
       "      <td>528</td>\n",
       "      <td>561</td>\n",
       "      <td>763</td>\n",
       "      <td>2981</td>\n",
       "    </tr>\n",
       "    <tr>\n",
       "      <th>pvehicle_timegap</th>\n",
       "      <td>103155</td>\n",
       "      <td>NaN</td>\n",
       "      <td>NaN</td>\n",
       "      <td>NaN</td>\n",
       "      <td>NaN</td>\n",
       "      <td>NaN</td>\n",
       "      <td>106.093</td>\n",
       "      <td>176.787</td>\n",
       "      <td>1</td>\n",
       "      <td>7</td>\n",
       "      <td>46</td>\n",
       "      <td>124</td>\n",
       "      <td>1797</td>\n",
       "    </tr>\n",
       "    <tr>\n",
       "      <th>weather_road_cond</th>\n",
       "      <td>103155</td>\n",
       "      <td>4</td>\n",
       "      <td>Dry</td>\n",
       "      <td>69772</td>\n",
       "      <td>NaN</td>\n",
       "      <td>NaN</td>\n",
       "      <td>NaN</td>\n",
       "      <td>NaN</td>\n",
       "      <td>NaN</td>\n",
       "      <td>NaN</td>\n",
       "      <td>NaN</td>\n",
       "      <td>NaN</td>\n",
       "      <td>NaN</td>\n",
       "    </tr>\n",
       "    <tr>\n",
       "      <th>air_temp</th>\n",
       "      <td>103155</td>\n",
       "      <td>NaN</td>\n",
       "      <td>NaN</td>\n",
       "      <td>NaN</td>\n",
       "      <td>NaN</td>\n",
       "      <td>NaN</td>\n",
       "      <td>4.86217</td>\n",
       "      <td>3.19605</td>\n",
       "      <td>-13</td>\n",
       "      <td>3</td>\n",
       "      <td>5</td>\n",
       "      <td>7</td>\n",
       "      <td>24</td>\n",
       "    </tr>\n",
       "    <tr>\n",
       "      <th>prep_type</th>\n",
       "      <td>103155</td>\n",
       "      <td>3</td>\n",
       "      <td>clear</td>\n",
       "      <td>95297</td>\n",
       "      <td>NaN</td>\n",
       "      <td>NaN</td>\n",
       "      <td>NaN</td>\n",
       "      <td>NaN</td>\n",
       "      <td>NaN</td>\n",
       "      <td>NaN</td>\n",
       "      <td>NaN</td>\n",
       "      <td>NaN</td>\n",
       "      <td>NaN</td>\n",
       "    </tr>\n",
       "    <tr>\n",
       "      <th>prep_intensity</th>\n",
       "      <td>103155</td>\n",
       "      <td>4</td>\n",
       "      <td>None</td>\n",
       "      <td>96764</td>\n",
       "      <td>NaN</td>\n",
       "      <td>NaN</td>\n",
       "      <td>NaN</td>\n",
       "      <td>NaN</td>\n",
       "      <td>NaN</td>\n",
       "      <td>NaN</td>\n",
       "      <td>NaN</td>\n",
       "      <td>NaN</td>\n",
       "      <td>NaN</td>\n",
       "    </tr>\n",
       "    <tr>\n",
       "      <th>realtive_humidity</th>\n",
       "      <td>103155</td>\n",
       "      <td>NaN</td>\n",
       "      <td>NaN</td>\n",
       "      <td>NaN</td>\n",
       "      <td>NaN</td>\n",
       "      <td>NaN</td>\n",
       "      <td>63.2226</td>\n",
       "      <td>18.4962</td>\n",
       "      <td>16</td>\n",
       "      <td>48</td>\n",
       "      <td>61</td>\n",
       "      <td>80</td>\n",
       "      <td>97</td>\n",
       "    </tr>\n",
       "    <tr>\n",
       "      <th>wind_direction</th>\n",
       "      <td>103155</td>\n",
       "      <td>NaN</td>\n",
       "      <td>NaN</td>\n",
       "      <td>NaN</td>\n",
       "      <td>NaN</td>\n",
       "      <td>NaN</td>\n",
       "      <td>184.646</td>\n",
       "      <td>98.2287</td>\n",
       "      <td>6</td>\n",
       "      <td>141</td>\n",
       "      <td>180</td>\n",
       "      <td>231</td>\n",
       "      <td>360</td>\n",
       "    </tr>\n",
       "    <tr>\n",
       "      <th>wind_speed_ms</th>\n",
       "      <td>103155</td>\n",
       "      <td>NaN</td>\n",
       "      <td>NaN</td>\n",
       "      <td>NaN</td>\n",
       "      <td>NaN</td>\n",
       "      <td>NaN</td>\n",
       "      <td>4.12493</td>\n",
       "      <td>3.02677</td>\n",
       "      <td>0</td>\n",
       "      <td>1</td>\n",
       "      <td>4</td>\n",
       "      <td>7</td>\n",
       "      <td>16</td>\n",
       "    </tr>\n",
       "    <tr>\n",
       "      <th>daylight_cond</th>\n",
       "      <td>103155</td>\n",
       "      <td>3</td>\n",
       "      <td>night</td>\n",
       "      <td>64470</td>\n",
       "      <td>NaN</td>\n",
       "      <td>NaN</td>\n",
       "      <td>NaN</td>\n",
       "      <td>NaN</td>\n",
       "      <td>NaN</td>\n",
       "      <td>NaN</td>\n",
       "      <td>NaN</td>\n",
       "      <td>NaN</td>\n",
       "      <td>NaN</td>\n",
       "    </tr>\n",
       "  </tbody>\n",
       "</table>\n",
       "</div>"
      ],
      "text/plain": [
       "                     count  unique                  top   freq  \\\n",
       "ID                  103155    8322             DR_19735     91   \n",
       "vehicle_length_cm   103155     NaN                  NaN    NaN   \n",
       "vehicle_weight_kg   103155     NaN                  NaN    NaN   \n",
       "number_of_axles     103155     NaN                  NaN    NaN   \n",
       "DrivingStyle        103155     NaN                  NaN    NaN   \n",
       "trip_datetime       103155  103139  2012-05-23 03:09:18      2   \n",
       "lane_no             103155     NaN                  NaN    NaN   \n",
       "vehicle_speed       103155     NaN                  NaN    NaN   \n",
       "pvehicle_id         103155     NaN                  NaN    NaN   \n",
       "pvehicle_speed_kph  103155     NaN                  NaN    NaN   \n",
       "pvehicle_weight_kg  103155     NaN                  NaN    NaN   \n",
       "pvehicle_length_cm  103155     NaN                  NaN    NaN   \n",
       "pvehicle_timegap    103155     NaN                  NaN    NaN   \n",
       "weather_road_cond   103155       4                  Dry  69772   \n",
       "air_temp            103155     NaN                  NaN    NaN   \n",
       "prep_type           103155       3                clear  95297   \n",
       "prep_intensity      103155       4                 None  96764   \n",
       "realtive_humidity   103155     NaN                  NaN    NaN   \n",
       "wind_direction      103155     NaN                  NaN    NaN   \n",
       "wind_speed_ms       103155     NaN                  NaN    NaN   \n",
       "daylight_cond       103155       3                night  64470   \n",
       "\n",
       "                                  first                 last     mean  \\\n",
       "ID                                  NaN                  NaN      NaN   \n",
       "vehicle_length_cm                   NaN                  NaN  891.835   \n",
       "vehicle_weight_kg                   NaN                  NaN  6573.14   \n",
       "number_of_axles                     NaN                  NaN  2.92816   \n",
       "DrivingStyle                        NaN                  NaN  2.09628   \n",
       "trip_datetime       2012-03-21 09:14:55  2013-04-30 16:57:08      NaN   \n",
       "lane_no                             NaN                  NaN  1.49588   \n",
       "vehicle_speed                       NaN                  NaN  83.4984   \n",
       "pvehicle_id                         NaN                  NaN   321166   \n",
       "pvehicle_speed_kph                  NaN                  NaN  83.4891   \n",
       "pvehicle_weight_kg                  NaN                  NaN  5292.13   \n",
       "pvehicle_length_cm                  NaN                  NaN  803.805   \n",
       "pvehicle_timegap                    NaN                  NaN  106.093   \n",
       "weather_road_cond                   NaN                  NaN      NaN   \n",
       "air_temp                            NaN                  NaN  4.86217   \n",
       "prep_type                           NaN                  NaN      NaN   \n",
       "prep_intensity                      NaN                  NaN      NaN   \n",
       "realtive_humidity                   NaN                  NaN  63.2226   \n",
       "wind_direction                      NaN                  NaN  184.646   \n",
       "wind_speed_ms                       NaN                  NaN  4.12493   \n",
       "daylight_cond                       NaN                  NaN      NaN   \n",
       "\n",
       "                         std  min     25%     50%     75%     max  \n",
       "ID                       NaN  NaN     NaN     NaN     NaN     NaN  \n",
       "vehicle_length_cm    513.181  155     551     579    1301    2337  \n",
       "vehicle_weight_kg    8533.34   44    1643    2083    9486   57230  \n",
       "number_of_axles      1.52322    2       2       2       4       9  \n",
       "DrivingStyle        0.769772    1       1       2       3       3  \n",
       "trip_datetime            NaN  NaN     NaN     NaN     NaN     NaN  \n",
       "lane_no             0.499985    1       1       1       2       2  \n",
       "vehicle_speed        9.56393    8      78      83      88     161  \n",
       "pvehicle_id           249248   20  111074  164566  585536  794435  \n",
       "pvehicle_speed_kph   9.55539    0      78      83      88     161  \n",
       "pvehicle_weight_kg   7775.51    3    1516    1904    2836   69548  \n",
       "pvehicle_length_cm   492.277  102     528     561     763    2981  \n",
       "pvehicle_timegap     176.787    1       7      46     124    1797  \n",
       "weather_road_cond        NaN  NaN     NaN     NaN     NaN     NaN  \n",
       "air_temp             3.19605  -13       3       5       7      24  \n",
       "prep_type                NaN  NaN     NaN     NaN     NaN     NaN  \n",
       "prep_intensity           NaN  NaN     NaN     NaN     NaN     NaN  \n",
       "realtive_humidity    18.4962   16      48      61      80      97  \n",
       "wind_direction       98.2287    6     141     180     231     360  \n",
       "wind_speed_ms        3.02677    0       1       4       7      16  \n",
       "daylight_cond            NaN  NaN     NaN     NaN     NaN     NaN  "
      ]
     },
     "execution_count": 560,
     "metadata": {},
     "output_type": "execute_result"
    }
   ],
   "source": [
    "data.describe(include='all').T"
   ]
  },
  {
   "cell_type": "markdown",
   "metadata": {},
   "source": [
    "Checking the corealtion of all the columns with each other"
   ]
  },
  {
   "cell_type": "code",
   "execution_count": 561,
   "metadata": {},
   "outputs": [
    {
     "data": {
      "text/plain": [
       "<matplotlib.axes._subplots.AxesSubplot at 0x1a6beac8>"
      ]
     },
     "execution_count": 561,
     "metadata": {},
     "output_type": "execute_result"
    },
    {
     "data": {
      "image/png": "[encoded data removed]",
      "text/plain": [
       "<Figure size 936x648 with 2 Axes>"
      ]
     },
     "metadata": {},
     "output_type": "display_data"
    }
   ],
   "source": [
    "f, ax = plt.subplots(figsize=(13,9))\n",
    "sns.heatmap(data.corr(),annot=True)"
   ]
  },
  {
   "cell_type": "markdown",
   "metadata": {},
   "source": [
    "so from above graph it is evident that features have less correlation with each other, which means each feature has lot of variance. Further check the values between vehicle_length_cm vs pvehicle_length_cm"
   ]
  },
  {
   "cell_type": "markdown",
   "metadata": {},
   "source": [
    "we'll try to further disect down the time_gap columns into following: Day, Month, Year, Hour, Minute, Second"
   ]
  },
  {
   "cell_type": "code",
   "execution_count": 562,
   "metadata": {},
   "outputs": [],
   "source": [
    "data['trip_date'] = data['trip_datetime'].dt.date\n",
    "data['trip_date_day'] = data['trip_datetime'].dt.day\n",
    "data['trip_month'] = data['trip_datetime'].dt.month\n",
    "data['trip_year'] = data['trip_datetime'].dt.year\n",
    "data['trip_time'] = data['trip_datetime'].dt.time\n",
    "data['trip_hour'] = data['trip_datetime'].dt.hour\n",
    "data['trip_minute'] = data['trip_datetime'].dt.minute\n",
    "data['trip_sec'] = data['trip_datetime'].dt.second"
   ]
  },
  {
   "cell_type": "markdown",
   "metadata": {},
   "source": [
    "Calculating the speed differnce between the current vehicle and the preceeding vehicle"
   ]
  },
  {
   "cell_type": "code",
   "execution_count": 563,
   "metadata": {},
   "outputs": [],
   "source": [
    "data['speed_difference'] = data['vehicle_speed'] - data['pvehicle_speed_kph']"
   ]
  },
  {
   "cell_type": "markdown",
   "metadata": {},
   "source": [
    "since we have the speed and timegap between the current vehicle and preceeding vehicle we will make of this formula to calculate the distance between the current and the preceeding vehicle"
   ]
  },
  {
   "cell_type": "markdown",
   "metadata": {},
   "source": [
    "                                               speed=distance/time"
   ]
  },
  {
   "cell_type": "code",
   "execution_count": 564,
   "metadata": {},
   "outputs": [],
   "source": [
    "data['distance'] = (data['pvehicle_speed_kph']/3.6)*data['pvehicle_timegap']"
   ]
  },
  {
   "cell_type": "code",
   "execution_count": 565,
   "metadata": {},
   "outputs": [],
   "source": [
    "data['distance'] = data['distance'].astype('int64')"
   ]
  },
  {
   "cell_type": "code",
   "execution_count": 566,
   "metadata": {},
   "outputs": [],
   "source": [
    "# calculating the bin size\n",
    "bins = list(range(0,data['distance'].max()+10,18613))"
   ]
  },
  {
   "cell_type": "code",
   "execution_count": 567,
   "metadata": {},
   "outputs": [
    {
     "data": {
      "text/plain": [
       "Low       101682\n",
       "Medium      1337\n",
       "High         135\n",
       "Name: binned_distance, dtype: int64"
      ]
     },
     "execution_count": 567,
     "metadata": {},
     "output_type": "execute_result"
    }
   ],
   "source": [
    "labels = ['Low','Medium','High']\n",
    "data['binned_distance'] = pd.cut(data['distance'], bins=bins, labels=labels)\n",
    "data['binned_distance'].value_counts()"
   ]
  },
  {
   "cell_type": "code",
   "execution_count": 568,
   "metadata": {},
   "outputs": [
    {
     "data": {
      "text/plain": [
       "Index(['ID', 'vehicle_length_cm', 'vehicle_weight_kg', 'number_of_axles',\n",
       "       'DrivingStyle', 'trip_datetime', 'lane_no', 'vehicle_speed',\n",
       "       'pvehicle_id', 'pvehicle_speed_kph', 'pvehicle_weight_kg',\n",
       "       'pvehicle_length_cm', 'pvehicle_timegap', 'weather_road_cond',\n",
       "       'air_temp', 'prep_type', 'prep_intensity', 'realtive_humidity',\n",
       "       'wind_direction', 'wind_speed_ms', 'daylight_cond', 'trip_date',\n",
       "       'trip_date_day', 'trip_month', 'trip_year', 'trip_time', 'trip_hour',\n",
       "       'trip_minute', 'trip_sec', 'speed_difference', 'distance',\n",
       "       'binned_distance'],\n",
       "      dtype='object')"
      ]
     },
     "execution_count": 568,
     "metadata": {},
     "output_type": "execute_result"
    }
   ],
   "source": [
    "data.columns"
   ]
  },
  {
   "cell_type": "markdown",
   "metadata": {},
   "source": [
    "PCA Clustering\n",
    "1. Decision Tree\n",
    "2. Random Forest\n",
    "3. Adaboost\n",
    "4. XGBoost\n",
    "5. Catboost\n",
    "6. LightGBM\n",
    "\n",
    "Then SMOTING\n",
    "-Then try w1 method"
   ]
  },
  {
   "cell_type": "markdown",
   "metadata": {},
   "source": [
    "**Plot yearly basis graph**"
   ]
  },
  {
   "cell_type": "code",
   "execution_count": 569,
   "metadata": {},
   "outputs": [
    {
     "data": {
      "text/plain": [
       "Index(['ID', 'vehicle_length_cm', 'vehicle_weight_kg', 'number_of_axles',\n",
       "       'DrivingStyle', 'trip_datetime', 'lane_no', 'vehicle_speed',\n",
       "       'pvehicle_id', 'pvehicle_speed_kph', 'pvehicle_weight_kg',\n",
       "       'pvehicle_length_cm', 'pvehicle_timegap', 'weather_road_cond',\n",
       "       'air_temp', 'prep_type', 'prep_intensity', 'realtive_humidity',\n",
       "       'wind_direction', 'wind_speed_ms', 'daylight_cond', 'trip_date',\n",
       "       'trip_date_day', 'trip_month', 'trip_year', 'trip_time', 'trip_hour',\n",
       "       'trip_minute', 'trip_sec', 'speed_difference', 'distance',\n",
       "       'binned_distance'],\n",
       "      dtype='object')"
      ]
     },
     "execution_count": 569,
     "metadata": {},
     "output_type": "execute_result"
    }
   ],
   "source": [
    "data.columns"
   ]
  },
  {
   "cell_type": "code",
   "execution_count": 570,
   "metadata": {},
   "outputs": [
    {
     "data": {
      "text/plain": [
       "<matplotlib.axes._subplots.AxesSubplot at 0x1860f4a8>"
      ]
     },
     "execution_count": 570,
     "metadata": {},
     "output_type": "execute_result"
    },
    {
     "data": {
      "image/png": "[encoded data removed]",
      "text/plain": [
       "<Figure size 1368x792 with 2 Axes>"
      ]
     },
     "metadata": {},
     "output_type": "display_data"
    }
   ],
   "source": [
    "f, ax = plt.subplots(figsize=(19,11))\n",
    "sns.heatmap(data.corr(),annot=True)"
   ]
  },
  {
   "cell_type": "code",
   "execution_count": 571,
   "metadata": {},
   "outputs": [],
   "source": [
    "categorical_columns = ['number_of_axles','DrivingStyle','lane_no','weather_road_cond','prep_type','prep_intensity','daylight_cond']"
   ]
  },
  {
   "cell_type": "code",
   "execution_count": 572,
   "metadata": {},
   "outputs": [],
   "source": [
    "copy_data = data.copy()"
   ]
  },
  {
   "cell_type": "code",
   "execution_count": 573,
   "metadata": {},
   "outputs": [],
   "source": [
    "copy_data[categorical_columns] = copy_data[categorical_columns].astype('category')"
   ]
  },
  {
   "cell_type": "code",
   "execution_count": 574,
   "metadata": {},
   "outputs": [
    {
     "data": {
      "text/plain": [
       "Index(['ID', 'vehicle_length_cm', 'vehicle_weight_kg', 'number_of_axles',\n",
       "       'DrivingStyle', 'trip_datetime', 'lane_no', 'vehicle_speed',\n",
       "       'pvehicle_id', 'pvehicle_speed_kph', 'pvehicle_weight_kg',\n",
       "       'pvehicle_length_cm', 'pvehicle_timegap', 'weather_road_cond',\n",
       "       'air_temp', 'prep_type', 'prep_intensity', 'realtive_humidity',\n",
       "       'wind_direction', 'wind_speed_ms', 'daylight_cond', 'trip_date',\n",
       "       'trip_date_day', 'trip_month', 'trip_year', 'trip_time', 'trip_hour',\n",
       "       'trip_minute', 'trip_sec', 'speed_difference', 'distance',\n",
       "       'binned_distance'],\n",
       "      dtype='object')"
      ]
     },
     "execution_count": 574,
     "metadata": {},
     "output_type": "execute_result"
    }
   ],
   "source": [
    "data.columns"
   ]
  },
  {
   "cell_type": "code",
   "execution_count": 575,
   "metadata": {},
   "outputs": [
    {
     "name": "stdout",
     "output_type": "stream",
     "text": [
      "\n",
      "\n",
      "number_of_axles   [3, 6, 2, 5, 4, 7, 9, 8]\n",
      "Categories (8, int64): [3, 6, 2, 5, 4, 7, 9, 8]\n",
      "\n",
      "\n",
      "DrivingStyle   [1, 2, 3]\n",
      "Categories (3, int64): [1, 2, 3]\n",
      "\n",
      "\n",
      "lane_no   [2, 1]\n",
      "Categories (2, int64): [2, 1]\n",
      "\n",
      "\n",
      "weather_road_cond   [Wet, Dry, Snow covered, Visible tracks]\n",
      "Categories (4, object): [Wet, Dry, Snow covered, Visible tracks]\n",
      "\n",
      "\n",
      "prep_type   [clear, rain, snow]\n",
      "Categories (3, object): [clear, rain, snow]\n",
      "\n",
      "\n",
      "prep_intensity   [None, Low, Moderate, High]\n",
      "Categories (4, object): [None, Low, Moderate, High]\n",
      "\n",
      "\n",
      "daylight_cond   [daylight, night, twilight]\n",
      "Categories (3, object): [daylight, night, twilight]\n"
     ]
    }
   ],
   "source": [
    "for i in categorical_columns:\n",
    "    print(\"\\n\")\n",
    "    print(i,\" \",copy_data[i].unique())"
   ]
  },
  {
   "cell_type": "code",
   "execution_count": 576,
   "metadata": {},
   "outputs": [
    {
     "name": "stdout",
     "output_type": "stream",
     "text": [
      "<class 'pandas.core.frame.DataFrame'>\n",
      "Int64Index: 103155 entries, 0 to 103154\n",
      "Data columns (total 32 columns):\n",
      "ID                    103155 non-null category\n",
      "vehicle_length_cm     103155 non-null int64\n",
      "vehicle_weight_kg     103155 non-null int64\n",
      "number_of_axles       103155 non-null category\n",
      "DrivingStyle          103155 non-null category\n",
      "trip_datetime         103155 non-null datetime64[ns]\n",
      "lane_no               103155 non-null category\n",
      "vehicle_speed         103155 non-null int64\n",
      "pvehicle_id           103155 non-null int64\n",
      "pvehicle_speed_kph    103155 non-null int64\n",
      "pvehicle_weight_kg    103155 non-null int64\n",
      "pvehicle_length_cm    103155 non-null int64\n",
      "pvehicle_timegap      103155 non-null int64\n",
      "weather_road_cond     103155 non-null category\n",
      "air_temp              103155 non-null float64\n",
      "prep_type             103155 non-null category\n",
      "prep_intensity        103155 non-null category\n",
      "realtive_humidity     103155 non-null float64\n",
      "wind_direction        103155 non-null float64\n",
      "wind_speed_ms         103155 non-null float64\n",
      "daylight_cond         103155 non-null category\n",
      "trip_date             103155 non-null object\n",
      "trip_date_day         103155 non-null int64\n",
      "trip_month            103155 non-null int64\n",
      "trip_year             103155 non-null int64\n",
      "trip_time             103155 non-null object\n",
      "trip_hour             103155 non-null int64\n",
      "trip_minute           103155 non-null int64\n",
      "trip_sec              103155 non-null int64\n",
      "speed_difference      103155 non-null int64\n",
      "distance              103155 non-null int64\n",
      "binned_distance       103154 non-null category\n",
      "dtypes: category(9), datetime64[ns](1), float64(4), int64(16), object(2)\n",
      "memory usage: 20.2+ MB\n"
     ]
    }
   ],
   "source": [
    "copy_data.info()"
   ]
  },
  {
   "cell_type": "code",
   "execution_count": 577,
   "metadata": {},
   "outputs": [],
   "source": [
    "id_col= copy_data['ID']\n",
    "pvehicle_id = copy_data['pvehicle_id']"
   ]
  },
  {
   "cell_type": "code",
   "execution_count": 578,
   "metadata": {},
   "outputs": [
    {
     "data": {
      "text/plain": [
       "Index(['ID', 'vehicle_length_cm', 'vehicle_weight_kg', 'number_of_axles',\n",
       "       'DrivingStyle', 'trip_datetime', 'lane_no', 'vehicle_speed',\n",
       "       'pvehicle_id', 'pvehicle_speed_kph', 'pvehicle_weight_kg',\n",
       "       'pvehicle_length_cm', 'pvehicle_timegap', 'weather_road_cond',\n",
       "       'air_temp', 'prep_type', 'prep_intensity', 'realtive_humidity',\n",
       "       'wind_direction', 'wind_speed_ms', 'daylight_cond', 'trip_date',\n",
       "       'trip_date_day', 'trip_month', 'trip_year', 'trip_time', 'trip_hour',\n",
       "       'trip_minute', 'trip_sec', 'speed_difference', 'distance',\n",
       "       'binned_distance'],\n",
       "      dtype='object')"
      ]
     },
     "execution_count": 578,
     "metadata": {},
     "output_type": "execute_result"
    }
   ],
   "source": [
    "copy_data.columns"
   ]
  },
  {
   "cell_type": "code",
   "execution_count": 579,
   "metadata": {},
   "outputs": [],
   "source": [
    "dropping_columns = ['trip_date', 'trip_date_day', 'trip_month', 'trip_year', 'trip_time', 'trip_hour', 'trip_minute', 'trip_sec', 'ID', 'trip_datetime','speed_difference', 'distance', 'binned_distance','pvehicle_id']"
   ]
  },
  {
   "cell_type": "code",
   "execution_count": 580,
   "metadata": {},
   "outputs": [],
   "source": [
    "copy_data.drop(dropping_columns,axis=1,inplace=True)"
   ]
  },
  {
   "cell_type": "code",
   "execution_count": 581,
   "metadata": {},
   "outputs": [],
   "source": [
    "DrivingStyle_df = copy_data['DrivingStyle']"
   ]
  },
  {
   "cell_type": "code",
   "execution_count": 582,
   "metadata": {},
   "outputs": [],
   "source": [
    "dummified_df =pd.get_dummies(copy_data[categorical_columns])"
   ]
  },
  {
   "cell_type": "code",
   "execution_count": 583,
   "metadata": {},
   "outputs": [],
   "source": [
    "copy_data.drop(categorical_columns,axis=1,inplace=True)"
   ]
  },
  {
   "cell_type": "code",
   "execution_count": 584,
   "metadata": {},
   "outputs": [],
   "source": [
    "dummified_df.drop(['DrivingStyle_1', 'DrivingStyle_2', 'DrivingStyle_3'],axis=1,inplace=True)"
   ]
  },
  {
   "cell_type": "code",
   "execution_count": 585,
   "metadata": {},
   "outputs": [
    {
     "data": {
      "text/plain": [
       "StandardScaler(copy=True, with_mean=True, with_std=True)"
      ]
     },
     "execution_count": 585,
     "metadata": {},
     "output_type": "execute_result"
    }
   ],
   "source": [
    "scaler = StandardScaler()\n",
    "scaler.fit(copy_data)\n"
   ]
  },
  {
   "cell_type": "code",
   "execution_count": 586,
   "metadata": {},
   "outputs": [],
   "source": [
    "scale_df = data[['vehicle_length_cm', 'vehicle_weight_kg', 'vehicle_speed', 'pvehicle_speed_kph', 'pvehicle_weight_kg', 'pvehicle_length_cm', 'pvehicle_timegap', 'air_temp', 'realtive_humidity', 'wind_direction', 'wind_speed_ms']]"
   ]
  },
  {
   "cell_type": "code",
   "execution_count": 587,
   "metadata": {},
   "outputs": [
    {
     "data": {
      "text/plain": [
       "Index(['vehicle_length_cm', 'vehicle_weight_kg', 'vehicle_speed',\n",
       "       'pvehicle_speed_kph', 'pvehicle_weight_kg', 'pvehicle_length_cm',\n",
       "       'pvehicle_timegap', 'air_temp', 'realtive_humidity', 'wind_direction',\n",
       "       'wind_speed_ms'],\n",
       "      dtype='object')"
      ]
     },
     "execution_count": 587,
     "metadata": {},
     "output_type": "execute_result"
    }
   ],
   "source": [
    "scale_df.columns"
   ]
  },
  {
   "cell_type": "code",
   "execution_count": 588,
   "metadata": {},
   "outputs": [],
   "source": [
    "# pca_df[['air_temp','realtive_humidity','wind_direction','wind_speed_ms','trip_hour']] = pca_df[['air_temp','realtive_humidity','wind_direction','wind_speed_ms','trip_hour']].astype('int64')\n",
    "scaler = StandardScaler()\n",
    "\n",
    "# Fit on training set only.\n",
    "scaler.fit(scale_df)\n",
    "\n",
    "# Apply transform to both the training set and the test set.\n",
    "scaled_df = scaler.transform(scale_df)\n",
    "# test_img = scaler.transform(test_img)"
   ]
  },
  {
   "cell_type": "code",
   "execution_count": 589,
   "metadata": {},
   "outputs": [],
   "source": [
    "scaled_df = pd.DataFrame(scaled_df,columns=['vehicle_length_cm', 'vehicle_weight_kg', 'vehicle_speed', 'pvehicle_speed_kph', 'pvehicle_weight_kg','pvehicle_length_cm', 'pvehicle_timegap', 'air_temp','realtive_humidity', 'wind_direction', 'wind_speed_ms'])"
   ]
  },
  {
   "cell_type": "code",
   "execution_count": 590,
   "metadata": {},
   "outputs": [],
   "source": [
    "df_list  = [scaled_df,dummified_df]\n",
    "copy_data = pd.concat(df_list,axis='columns')"
   ]
  },
  {
   "cell_type": "code",
   "execution_count": 591,
   "metadata": {},
   "outputs": [
    {
     "data": {
      "text/plain": [
       "(103155, 35)"
      ]
     },
     "execution_count": 591,
     "metadata": {},
     "output_type": "execute_result"
    }
   ],
   "source": [
    "copy_data.shape"
   ]
  },
  {
   "cell_type": "code",
   "execution_count": 592,
   "metadata": {},
   "outputs": [
    {
     "data": {
      "text/plain": [
       "Index(['vehicle_length_cm', 'vehicle_weight_kg', 'vehicle_speed',\n",
       "       'pvehicle_speed_kph', 'pvehicle_weight_kg', 'pvehicle_length_cm',\n",
       "       'pvehicle_timegap', 'air_temp', 'realtive_humidity', 'wind_direction',\n",
       "       'wind_speed_ms', 'number_of_axles_2', 'number_of_axles_3',\n",
       "       'number_of_axles_4', 'number_of_axles_5', 'number_of_axles_6',\n",
       "       'number_of_axles_7', 'number_of_axles_8', 'number_of_axles_9',\n",
       "       'lane_no_1', 'lane_no_2', 'weather_road_cond_Dry',\n",
       "       'weather_road_cond_Snow covered', 'weather_road_cond_Visible tracks',\n",
       "       'weather_road_cond_Wet', 'prep_type_clear', 'prep_type_rain',\n",
       "       'prep_type_snow', 'prep_intensity_High', 'prep_intensity_Low',\n",
       "       'prep_intensity_Moderate', 'prep_intensity_None',\n",
       "       'daylight_cond_daylight', 'daylight_cond_night',\n",
       "       'daylight_cond_twilight'],\n",
       "      dtype='object')"
      ]
     },
     "execution_count": 592,
     "metadata": {},
     "output_type": "execute_result"
    }
   ],
   "source": [
    "copy_data.columns"
   ]
  },
  {
   "cell_type": "code",
   "execution_count": 593,
   "metadata": {},
   "outputs": [],
   "source": [
    "# DrivingStyle_df = copy_data[['DrivingStyle_1', 'DrivingStyle_2', 'DrivingStyle_3']]"
   ]
  },
  {
   "cell_type": "code",
   "execution_count": 594,
   "metadata": {},
   "outputs": [],
   "source": [
    "# copy_data.drop(['DrivingStyle_1', 'DrivingStyle_2', 'DrivingStyle_3'],axis=1,inplace=True)"
   ]
  },
  {
   "cell_type": "code",
   "execution_count": 595,
   "metadata": {},
   "outputs": [
    {
     "data": {
      "text/plain": [
       "Index(['ID', 'vehicle_length_cm', 'vehicle_weight_kg', 'number_of_axles',\n",
       "       'DrivingStyle', 'trip_datetime', 'lane_no', 'vehicle_speed',\n",
       "       'pvehicle_id', 'pvehicle_speed_kph', 'pvehicle_weight_kg',\n",
       "       'pvehicle_length_cm', 'pvehicle_timegap', 'weather_road_cond',\n",
       "       'air_temp', 'prep_type', 'prep_intensity', 'realtive_humidity',\n",
       "       'wind_direction', 'wind_speed_ms', 'daylight_cond', 'trip_date',\n",
       "       'trip_date_day', 'trip_month', 'trip_year', 'trip_time', 'trip_hour',\n",
       "       'trip_minute', 'trip_sec', 'speed_difference', 'distance',\n",
       "       'binned_distance'],\n",
       "      dtype='object')"
      ]
     },
     "execution_count": 595,
     "metadata": {},
     "output_type": "execute_result"
    }
   ],
   "source": [
    "data.columns"
   ]
  },
  {
   "cell_type": "code",
   "execution_count": 596,
   "metadata": {},
   "outputs": [],
   "source": [
    "# pca_df = data[['vehicle_length_cm', 'vehicle_weight_kg', 'vehicle_speed', 'pvehicle_id', 'pvehicle_speed_kph', 'pvehicle_weight_kg', 'pvehicle_length_cm', 'pvehicle_timegap', 'air_temp', 'realtive_humidity', 'wind_direction', 'wind_speed_ms', 'trip_date_day', 'trip_month', 'trip_year', 'trip_hour', 'trip_minute', 'trip_sec', 'speed_difference', 'distance']]"
   ]
  },
  {
   "cell_type": "code",
   "execution_count": 597,
   "metadata": {},
   "outputs": [],
   "source": [
    "# len(pca_df.columns)"
   ]
  },
  {
   "cell_type": "code",
   "execution_count": 598,
   "metadata": {},
   "outputs": [],
   "source": [
    "# pca = PCA(.99)"
   ]
  },
  {
   "cell_type": "code",
   "execution_count": 599,
   "metadata": {},
   "outputs": [],
   "source": [
    "# pca.fit(pcadf_scaled)"
   ]
  },
  {
   "cell_type": "code",
   "execution_count": 600,
   "metadata": {},
   "outputs": [],
   "source": [
    "# pca.n_components_"
   ]
  },
  {
   "cell_type": "code",
   "execution_count": 601,
   "metadata": {},
   "outputs": [],
   "source": [
    "# pcadf_scaled = pd.DataFrame(pcadf_scaled)"
   ]
  },
  {
   "cell_type": "code",
   "execution_count": 602,
   "metadata": {},
   "outputs": [],
   "source": [
    "# pcadf_scaled.head()"
   ]
  },
  {
   "cell_type": "code",
   "execution_count": 657,
   "metadata": {},
   "outputs": [],
   "source": [
    "train_split_X, val_split_X, train_split_Y, val_split_Y = train_test_split(copy_data, DrivingStyle_df, test_size=0.40, random_state=42,stratify=DrivingStyle_df)"
   ]
  },
  {
   "cell_type": "code",
   "execution_count": 658,
   "metadata": {},
   "outputs": [
    {
     "name": "stdout",
     "output_type": "stream",
     "text": [
      "(61893, 35)\n",
      "(41262, 35)\n",
      "(61893,)\n",
      "(41262,)\n"
     ]
    }
   ],
   "source": [
    "print(train_split_X.shape)\n",
    "print(val_split_X.shape)\n",
    "print(train_split_Y.shape)\n",
    "print(val_split_Y.shape)"
   ]
  },
  {
   "cell_type": "code",
   "execution_count": 605,
   "metadata": {},
   "outputs": [],
   "source": [
    "# list_of_all_columns = train_split_X.columns"
   ]
  },
  {
   "cell_type": "code",
   "execution_count": 606,
   "metadata": {},
   "outputs": [],
   "source": [
    "def decision_tree():\n",
    "    print(\"-\"*30,\"Decision_Tree\")\n",
    "    # Creating an object for decision Trees\n",
    "    clf = DecisionTreeClassifier(criterion='gini',class_weight='balanced')\n",
    "\n",
    "    #Using the object created for decision Trees to fit on train data\n",
    "    clf.fit(train_split_X, train_split_Y)\n",
    "    \n",
    "    feat_importance(clf.feature_importances_,\"Decision Tree\")\n",
    "\n",
    "    #Using the object created for decision Trees to predict on validation data\n",
    "    y_pred_dt = clf.predict(val_split_X)\n",
    "\n",
    "    #Using the object created for decision Trees to predict on test data\n",
    "#     test_y_pred_dt = clf.predict(test_data_cluster_4)\n",
    "\n",
    "    #Calculating the accuracy of train data\n",
    "    acc_dt_train = round( clf.score(train_split_X, train_split_Y) * 100, 2)\n",
    "    print ('train_accuracy_dt: ' +' '+str(acc_dt_train) + ' percent')\n",
    "\n",
    "    #Calculating the accuracy of validation data\n",
    "    acc_dt_validation = accuracy_score(val_split_Y, y_pred_dt)\n",
    "    print('validation_accuracy_dt: '+str(round((acc_dt_validation)*100,2)) + 'percent')\n",
    "    print(classification_report(val_split_Y, y_pred_dt))\n",
    "#     dt_precision,dt_recall,dt_fscore,dt_support = precision_recall_fscore_support(val_split_Y, y_pred_dt, average='micro',labels=[1])\n",
    "#     print(\"Recall: \",dt_recall)\n",
    "#     print(\"Precision: \",dt_precision)\n",
    "# nestimator,criterion,spliiter,classweight,min_sample_split"
   ]
  },
  {
   "cell_type": "code",
   "execution_count": 607,
   "metadata": {},
   "outputs": [],
   "source": [
    "def feat_importance(best_features,algo):\n",
    "    col = train_split_X.columns\n",
    "    #modelname.feature_importance_\n",
    "    y = best_features\n",
    "    #plot\n",
    "    fig, ax = plt.subplots() \n",
    "    width = 0.4 # the width of the bars \n",
    "    ind = np.arange(len(y)) # the x locations for the groups\n",
    "    ax.barh(ind, y, width, color=\"green\")\n",
    "    ax.set_yticks(ind+width/10)\n",
    "    ax.set_yticklabels(col, minor=False)\n",
    "    plt.title('Feature importance in '+algo)\n",
    "    plt.xlabel('Relative importance')\n",
    "    plt.ylabel('feature') \n",
    "    plt.figure(figsize=(5,7))\n",
    "    fig.set_size_inches(6.5, 9.5, forward=True)"
   ]
  },
  {
   "cell_type": "code",
   "execution_count": 608,
   "metadata": {},
   "outputs": [],
   "source": [
    "def random_forest():\n",
    "    print(\"-\"*30,\"Random Forest\")\n",
    "    # Creating an object for Random Forest\n",
    "    clf = RandomForestClassifier(n_estimators= 1000, min_samples_split= 2, min_samples_leaf= 1, max_features= 'auto', max_depth= 50, bootstrap= False,n_jobs=-1)\n",
    "\n",
    "    #Using the object created for Random Forest to fit on train data\n",
    "    clf.fit(train_split_X, train_split_Y)\n",
    "\n",
    "    #checking the feature importance\n",
    "    feat_importance(clf.feature_importances_,\"Random Forest\")\n",
    "    \n",
    "    #Using the object created for Random Forest to predict on validation data\n",
    "    y_pred_rf = clf.predict(val_split_X)\n",
    "\n",
    "    #Using the object created for Random Forest to predict on test data\n",
    "#     test_y_pred_rf = clf.predict(test_data_cluster_4)\n",
    "\n",
    "    #Calculating the accuracy of train data\n",
    "    acc_rf_train = round( clf.score(train_split_X, train_split_Y) * 100, 2)\n",
    "    print ('train_accuracy_rf: ' +' '+str(acc_rf_train) + ' percent')\n",
    "\n",
    "    #Calculating the accuracy of validation data\n",
    "    acc_rf_validation = accuracy_score(val_split_Y, y_pred_rf)\n",
    "    print('validation_accuracy_rf: '+str(round((acc_rf_validation)*100,2)) + 'percent')\n",
    "    print(classification_report(val_split_Y, y_pred_rf))\n",
    "#     rf_precision,rf_recall,rf_fscore,rf_support = precision_recall_fscore_support(val_split_Y, y_pred_rf, average='micro',labels=[1])\n",
    "#     print(\"Recall: \",rf_recall)\n",
    "#     print(\"Precision: \",rf_precision)"
   ]
  },
  {
   "cell_type": "code",
   "execution_count": 609,
   "metadata": {},
   "outputs": [],
   "source": [
    "# from sklearn.model_selection import RandomizedSearchCV\n",
    "# # Number of trees in random forest\n",
    "# n_estimators = [int(x) for x in np.linspace(start = 200, stop = 2000, num = 10)]\n",
    "# # Number of features to consider at every split\n",
    "# max_features = ['auto', 'sqrt']\n",
    "# # Maximum number of levels in tree\n",
    "# max_depth = [int(x) for x in np.linspace(10, 110, num = 11)]\n",
    "# max_depth.append(None)\n",
    "# # Minimum number of samples required to split a node\n",
    "# min_samples_split = [2, 5, 10]\n",
    "# # Minimum number of samples required at each leaf node\n",
    "# min_samples_leaf = [1, 2, 4]\n",
    "# # Method of selecting samples for training each tree\n",
    "# bootstrap = [True, False]\n",
    "# # Create the random grid\n",
    "# random_grid = {'n_estimators': n_estimators,\n",
    "#                'max_features': max_features,\n",
    "#                'max_depth': max_depth,\n",
    "#                'min_samples_split': min_samples_split,\n",
    "#                'min_samples_leaf': min_samples_leaf,\n",
    "#                'bootstrap': bootstrap\n",
    "#               }\n",
    "# # Use the random grid to search for best hyperparameters\n",
    "# # First create the base model to tune\n",
    "# rf = RandomForestClassifier()\n",
    "# # Random search of parameters, using 3 fold cross validation, \n",
    "# # search across 100 different combinations, and use all available cores\n",
    "# rf_random = RandomizedSearchCV(estimator = rf, param_distributions = random_grid, n_iter = 100, cv = 3, verbose=2, random_state=42, n_jobs = -1)\n",
    "\n",
    "# # Fit the random search model\n",
    "# rf_random.fit(val_split_X, val_split_Y)\n",
    "# print(\"gsearch2b.best_params_\",rf_random.best_params_)\n",
    "# y_pred_rf = rf_random.predict(val_split_Y)\n",
    "# print(classification_report(val_split_Y, y_pred_rf))\n"
   ]
  },
  {
   "cell_type": "code",
   "execution_count": 674,
   "metadata": {},
   "outputs": [],
   "source": [
    "def adaboost():\n",
    "    print(\"-\"*30,\"Adaboost\")\n",
    "    # Creating an object for Adaboost\n",
    "    clf = AdaBoostClassifier()\n",
    "\n",
    "    #Using the object created for Adaboost to fit on train data\n",
    "    clf.fit(train_split_X, train_split_Y)\n",
    "\n",
    "    #Using the object created for Adaboost to predict on validation data\n",
    "    y_pred_adaboost = clf.predict(val_split_X)\n",
    "    feat_importance(clf.feature_importances_,\"ADABoost\")\n",
    "\n",
    "    #Using the object created for Adaboost to predict on test data\n",
    "#     test_y_pred_adaboost = clf.predict(test_data_cluster_4)\n",
    "\n",
    "    #Calculating the accuracy of train data\n",
    "    acc_adaboost_train = round( clf.score(train_split_X, train_split_Y) * 100, 2)\n",
    "    print ('train_accuracy_adaboost: ' +' '+str(acc_adaboost_train) + ' percent')\n",
    "\n",
    "    #Calculating the accuracy of validation data\n",
    "    acc_adaboost_validation = accuracy_score(val_split_Y, y_pred_adaboost)\n",
    "    print('validation_accuracy_adaboost: '+str(round((acc_adaboost_validation)*100,2)) + 'percent')\n",
    "    print(classification_report(val_split_Y, y_pred_adaboost))\n",
    "#     print(\"Recall: \",ada_recall)\n",
    "#     print(\"Precision: \",ada_precision)"
   ]
  },
  {
   "cell_type": "code",
   "execution_count": 681,
   "metadata": {},
   "outputs": [],
   "source": [
    "def sgd():\n",
    "    print(\"-\"*30,\"SGD\")\n",
    "    # Creating an object for Stocahstic gradient decsent\n",
    "    clf = SGDClassifier(max_iter=5, tol=None,n_jobs=-1,)\n",
    "\n",
    "    #Using the object created for Stocahstic gradient decsent to fit on train data\n",
    "    clf.fit(train_split_X, train_split_Y)\n",
    "\n",
    "    #Using the object created for Stocahstic gradient decsent to predict on validation data\n",
    "    y_pred_sgd = clf.predict(val_split_X)\n",
    "#     feat_importance(clf.feature_importances_,\"SGBoost\")\n",
    "\n",
    "    #Using the object created for Stocahstic gradient decsent to predict on test data\n",
    "#     test_y_pred_sgd = clf.predict(test_data_cluster_4)\n",
    "\n",
    "    #Calculating the accuracy of train data\n",
    "    acc_sgd_train = round( clf.score(train_split_X, train_split_Y) * 100, 2)\n",
    "    print ('train_accuracy' +' '+str(acc_sgd_train) + ' percent')\n",
    "\n",
    "    #Calculating the accuracy of validation data\n",
    "    acc_sgd_validation = accuracy_score(val_split_Y, y_pred_sgd)\n",
    "    print('validation_accuracy '+str(round((acc_sgd_validation)*100,2)) + 'percent')\n",
    "    print(classification_report(val_split_Y, y_pred_sgd))\n",
    "\n",
    "#     print(precision_recall_fscore_support(val_split_Y, acc_sgd_validation))\n",
    "#     print(\"Recall: \",sgd_recall)\n",
    "#     print(\"Precision: \",sgd_precision)"
   ]
  },
  {
   "cell_type": "code",
   "execution_count": 676,
   "metadata": {},
   "outputs": [],
   "source": [
    "def xgboost():\n",
    "    print(\"-\"*30,\"XGBoost\")\n",
    "    # Creating an object for Stocahstic gradient decsent\n",
    "    clf = XGBClassifier(max_iter=5, tol=None,n_jobs=-1)\n",
    "\n",
    "    #Using the object created for Stocahstic gradient decsent to fit on train data\n",
    "    clf.fit(train_split_X, train_split_Y,)\n",
    "\n",
    "    #Using the object created for Stocahstic gradient decsent to predict on validation data\n",
    "    y_pred_xgb = clf.predict(val_split_X)\n",
    "    feat_importance(clf.feature_importances_,\"XGBoost\")\n",
    "#     plt.bar(range(len(clf.feature_importances_)), clf.feature_importances_)\n",
    "#     pyplot.show()\n",
    "#     plot_importance(clf)\n",
    "#     plt.show()\n",
    "\n",
    "    #Using the object created for Stocahstic gradient decsent to predict on test data\n",
    "#     test_y_pred_sgd = clf.predict(test_data_cluster_4)\n",
    "\n",
    "    #Calculating the accuracy of train data\n",
    "    acc_xgb_train = round( clf.score(train_split_X, train_split_Y) * 100, 2)\n",
    "    print ('train_accuracy' +' '+str(acc_xgb_train) + ' percent')\n",
    "\n",
    "    #Calculating the accuracy of validation data\n",
    "    acc_xgb_validation = accuracy_score(val_split_Y, y_pred_xgb)\n",
    "    print('validation_accuracy '+str(round((acc_xgb_validation)*100,2)) + 'percent')\n",
    "    print(classification_report(val_split_Y, y_pred_xgb))\n",
    "#     print(precision_recall_fscore_support(val_split_Y, acc_sgd_validation))\n",
    "#     print(\"Recall: \",sgd_recall)\n",
    "#     print(\"Precision: \",sgd_precision)\n",
    "#     print(confusion_matrix(y_pred_sgd, val_split_Y))\n",
    "#     predictions = [value for value in val_split_Y]\n",
    "#     accuracy = accuracy_score(y_pred_sgd, predictions)\n",
    "#     precision = precision_score(y_pred_sgd, predictions,average='micro')\n",
    "#     recall = recall_score(y_pred_sgd, predictions,average='micro')\n",
    "#     f1 = f1_score(y_pred_sgd, predictions,average='micro')\n",
    "#     print(\"Accuracy_score: %.2f%% on test dataset\" % (accuracy * 100.0))\n",
    "#     print(\"precision_score: %.2f%% on test dataset\" % (precision * 100.0))\n",
    "#     print(\"recall_score: %.2f%% on test dataset\" % (recall * 100.0))\n",
    "#     print(\"f1_score: %.2f%% on test dataset\" % (f1 * 100.0))\n",
    "# # print(\"roc_auc test set\", roc_auc_score(y_test, model.predict_proba(X_test)[:,1]))\n",
    "# # print(\"roc_auc training set\", roc_auc_score(y_train, model.predict_proba(X_train)[:,1]))"
   ]
  },
  {
   "cell_type": "code",
   "execution_count": 613,
   "metadata": {},
   "outputs": [],
   "source": [
    "# param_test2b = {\n",
    "#   'min_child_weight':[5,6],\n",
    "#   'max_depth': range(3,10,2),\n",
    "#   'n_estimators':[150,200,300,400],\n",
    "#   'scale_pos_weight':[1,2,3,4],\n",
    "#   'colsample_bytree':[0.7,0.8], \n",
    "#   'subsample':[0.7,0.8],\n",
    "#   'gamma':[0,0.2,0.4]\n",
    "    \n",
    "# }\n",
    "# gsearch2b = GridSearchCV(estimator = XGBClassifier(learning_rate=0.1, n_estimators=150, max_depth=5,min_child_weight=1, gamma=0, subsample=0.8, colsample_bytree=0.8, nthread=4, scale_pos_weight=3,seed=27), param_grid = param_test2b, scoring='accuracy',n_jobs=4,iid=False, cv=5)\n",
    "# # objective= 'binary:logistic',\n",
    "# gsearch2b.fit(train_split_X, train_split_Y)\n",
    "# print(gsearch2b.grid_scores_)\n",
    "# print(\"gsearch2b.best_params_\",gsearch2b.best_params_)\n",
    "# print(\"gsearch2b.best_score_\",gsearch2b.best_score_)"
   ]
  },
  {
   "cell_type": "code",
   "execution_count": 614,
   "metadata": {},
   "outputs": [],
   "source": [
    "# modelXg = XGBClassifier(learning_rate=0.1, n_estimators=200, max_depth=4, min_child_weight=7, \n",
    "#                       gamma=0.4,nthread=4, subsample=0.8, colsample_bytree=0.8, objective= 'binary:logistic',scale_pos_weight=3,seed=29)\n",
    "# modelXg.fit(X_train, y_train)\n",
    "# y_xg = modelXg.predict(X_test)"
   ]
  },
  {
   "cell_type": "code",
   "execution_count": 615,
   "metadata": {},
   "outputs": [],
   "source": [
    "# ## Determine whether your model is overfitting or not , with the help of ROC.\n",
    "# print(confusion_matrix(y_test, y_xg))\n",
    "# predictions = [value for value in y_xg]\n",
    "# accuracy = accuracy_score(y_test, predictions)\n",
    "# # precision = precision_score(y_test, predictions)\n",
    "# recall = recall_score(y_test, predictions)\n",
    "# f1 = f1_score(y_test, predictions)\n",
    "# print(\"Accuracy_score: %.2f%% on test dataset\" % (accuracy * 100.0))\n",
    "# print(\"precision_score: %.2f%% on test dataset\" % (precision * 100.0))\n",
    "# print(\"recall_score: %.2f%% on test dataset\" % (recall * 100.0))\n",
    "# print(\"f1_score: %.2f%% on test dataset\" % (f1 * 100.0))\n",
    "# print(\"roc_auc test set\", roc_auc_score(y_test, model.predict_proba(X_test)[:,1]))\n",
    "# print(\"roc_auc training set\", roc_auc_score(y_train, model.predict_proba(X_train)[:,1]))"
   ]
  },
  {
   "cell_type": "code",
   "execution_count": 649,
   "metadata": {},
   "outputs": [],
   "source": [
    "def catboost():\n",
    "#     params = {'depth':[3,1,2,6,4,5,7,8,9,10],\n",
    "#           'iterations':[250,100,500,1000],\n",
    "#           'learning_rate':[0.03,0.001,0.01,0.1,0.2,0.3], \n",
    "#           'l2_leaf_reg':[3,1,5,10,100],\n",
    "#           'border_count':[32,5,10,20,50,100,200],\n",
    "#           'ctr_border_count':[50,5,10,20,100,200],\n",
    "#           'thread_count':4\n",
    "#              }\n",
    "    clf = CatBoostClassifier(iterations=2, learning_rate=0.5, depth=2, loss_function='MultiClass')\n",
    "    # Fit model\n",
    "    #Using the object created for Stocahstic gradient decsent to fit on train data\n",
    "#     gsearch2b = GridSearchCV(estimator = clf, scoring='recall',n_jobs=-1,iid=False, cv=5,verbose=3,param_grid=params)\n",
    "    clf.fit(train_split_X, train_split_Y)\n",
    "    clf.fit(val_split_X, val_split_Y)\n",
    "#     print(\"gsearch2b.best_params_\",gsearch2b.best_params_)\n",
    "\n",
    "#     print(classification_report(val_split_Y, y_pred_rf))\n",
    "\n",
    "    #Using the object created for Stocahstic gradient decsent to predict on validation data\n",
    "    y_pred_cat = clf.predict(val_split_X)\n",
    "\n",
    "    #Using the object created for Stocahstic gradient decsent to predict on test data\n",
    "#     test_y_pred_sgd = clf.predict(test_data_cluster_4)\n",
    "\n",
    "    #Calculating the accuracy of train data\n",
    "    acc_cat_train = round( clf.score(train_split_X, train_split_Y) * 100, 2)\n",
    "    print ('train_accuracy' +' '+str(acc_cat_train) + ' percent')\n",
    "\n",
    "    #Calculating the accuracy of validation data\n",
    "    acc_cat_validation = accuracy_score(val_split_Y, y_pred_cat)\n",
    "    print('validation_accuracy '+str(round((acc_cat_validation)*100,2)) + 'percent')\n",
    "    print(classification_report(val_split_Y, y_pred_cat))\n",
    "#     print(precision_recall_fscore_support(val_split_Y, acc_sgd_validation))\n",
    "#     print(\"Recall: \",sgd_recall)\n",
    "#     print(\"Precision: \",sgd_precision)\n",
    "#     print(confusion_matrix(y_pred_cat, val_split_Y))\n",
    "#     predictions = [value for value in val_split_Y]\n",
    "    accuracy = accuracy_score(val_split_Y,y_pred_cat)\n",
    "#     precision = precision_score(y_pred_cat, predictions,average='micro')\n",
    "#     recall = recall_score(y_pred_cat, predictions,average='micro')\n",
    "#     f1 = f1_score(y_pred_cat, predictions,average='micro')\n",
    "    print(\"Accuracy_score: %.2f%% on test dataset\" % (accuracy * 100.0))\n",
    "#     print(\"precision_score: %.2f%% on test dataset\" % (precision * 100.0))\n",
    "#     print(\"recall_score: %.2f%% on test dataset\" % (recall * 100.0))\n",
    "#     print(\"f1_score: %.2f%% on test dataset\" % (f1 * 100.0))\n",
    "# print(\"roc_auc test set\", roc_auc_score(y_test, model.predict_proba(X_test)[:,1]))\n",
    "# print(\"roc_auc training set\", roc_auc_score(y_train, model.predict_proba(X_train)[:,1]))\n",
    "    "
   ]
  },
  {
   "cell_type": "code",
   "execution_count": 617,
   "metadata": {},
   "outputs": [],
   "source": [
    "def lightgbm():\n",
    "#     lgb_train = lgb.Dataset(train_split_X, train_split_Y)\n",
    "#     lgb_eval = lgb.Dataset(val_split_X, val_split_Y, reference=lgb_train)\n",
    "#     params = {\n",
    "#     'boosting_type': 'gbdt',\n",
    "#     'objective': 'multiclass',\n",
    "#     'metric': 'multi_logloss',\n",
    "#     'num_leaves': 31,\n",
    "#     'learning_rate': 0.05,\n",
    "#     'feature_fraction': 0.9,\n",
    "#     'bagging_fraction': 0.8,\n",
    "#     'bagging_freq': 5,\n",
    "#     'verbose': 0\n",
    "#     }\n",
    "#     clf = lgb.train(train_split_X, 2000, valid_sets=[train_split_X, train_split_Y], early_stopping_rounds=100, verbose_eval=200)\n",
    "    \n",
    "    gbm = lgb.LGBMClassifier(num_leaves=31,learning_rate=0.05,n_estimators=20,feature_fraction= 0.9,bagging_fraction= 0.8,bagging_freq=5,verbose=1)\n",
    "    gbm.fit(train_split_X, train_split_Y,eval_set=[(val_split_X, val_split_Y)],eval_metric='multi_logloss')\n",
    "\n",
    "    print('Starting predicting...')\n",
    "    # predict\n",
    "    y_pred_gbm = gbm.predict(val_split_X, num_iteration=gbm.best_iteration_)\n",
    "#     feat_importance(gbm.best_iteration_,\"LightGBM\")\n",
    "    # eval\n",
    "#     predictions = [value for value in val_split_Y]\n",
    "    accuracy = accuracy_score(val_split_Y, y_pred_gbm)\n",
    "#     precision = precision_score(val_split_Y, y_pred,average='micro')\n",
    "#     recall = recall_score(val_split_Y, y_pred,average='micro')\n",
    "    print(\"Accuracy_score: %.2f%% on test dataset\" % (accuracy * 100.0))\n",
    "#     print(\"precision_score: %.2f%% on test dataset\" % (precision * 100.0))\n",
    "#     print(\"precision_score: %.2f%% on test dataset\" % (recall * 100.0))\n",
    "#     # feature importances\n",
    "#     print('Feature importances:', list(gbm.feature_importances_))\n",
    "    print(classification_report(val_split_Y, y_pred_gbm))"
   ]
  },
  {
   "cell_type": "code",
   "execution_count": 682,
   "metadata": {
    "scrolled": false
   },
   "outputs": [
    {
     "name": "stdout",
     "output_type": "stream",
     "text": [
      "------------------------------ Decision_Tree\n",
      "train_accuracy_dt:  100.0 percent\n",
      "validation_accuracy_dt: 93.35percent\n",
      "             precision    recall  f1-score   support\n",
      "\n",
      "          1       0.92      0.92      0.92     10430\n",
      "          2       0.94      0.94      0.94     16430\n",
      "          3       0.93      0.93      0.93     14402\n",
      "\n",
      "avg / total       0.93      0.93      0.93     41262\n",
      "\n",
      "------------------------------ Random Forest\n",
      "train_accuracy_rf:  100.0 percent\n",
      "validation_accuracy_rf: 93.92percent\n",
      "             precision    recall  f1-score   support\n",
      "\n",
      "          1       0.91      0.93      0.92     10430\n",
      "          2       0.96      0.93      0.94     16430\n",
      "          3       0.94      0.96      0.95     14402\n",
      "\n",
      "avg / total       0.94      0.94      0.94     41262\n",
      "\n",
      "------------------------------ Adaboost\n",
      "train_accuracy_adaboost:  65.1 percent\n",
      "validation_accuracy_adaboost: 64.82percent\n",
      "             precision    recall  f1-score   support\n",
      "\n",
      "          1       0.61      0.49      0.54     10430\n",
      "          2       0.73      0.64      0.68     16430\n",
      "          3       0.60      0.77      0.68     14402\n",
      "\n",
      "avg / total       0.65      0.65      0.64     41262\n",
      "\n",
      "------------------------------ SGD\n",
      "train_accuracy 60.69 percent\n",
      "validation_accuracy 60.72percent\n",
      "             precision    recall  f1-score   support\n",
      "\n",
      "          1       0.58      0.33      0.42     10430\n",
      "          2       0.66      0.62      0.64     16430\n",
      "          3       0.58      0.79      0.67     14402\n",
      "\n",
      "avg / total       0.61      0.61      0.59     41262\n",
      "\n",
      "------------------------------ XGBoost\n",
      "train_accuracy 70.62 percent\n",
      "validation_accuracy 70.41percent\n",
      "             precision    recall  f1-score   support\n",
      "\n",
      "          1       0.62      0.63      0.63     10430\n",
      "          2       0.81      0.66      0.73     16430\n",
      "          3       0.67      0.80      0.73     14402\n",
      "\n",
      "avg / total       0.71      0.70      0.70     41262\n",
      "\n",
      "0:\tlearn: -0.9150338\ttotal: 58.7ms\tremaining: 58.7ms\n",
      "1:\tlearn: -0.8568326\ttotal: 123ms\tremaining: 0us\n",
      "0:\tlearn: -0.9185191\ttotal: 162ms\tremaining: 162ms\n",
      "1:\tlearn: -0.8599922\ttotal: 323ms\tremaining: 0us\n",
      "train_accuracy 63.24 percent\n",
      "validation_accuracy 62.88percent\n",
      "             precision    recall  f1-score   support\n",
      "\n",
      "          1       0.66      0.47      0.55     10430\n",
      "          2       0.84      0.49      0.62     16430\n",
      "          3       0.54      0.90      0.67     14402\n",
      "\n",
      "avg / total       0.69      0.63      0.62     41262\n",
      "\n",
      "Accuracy_score: 62.88% on test dataset\n",
      "[1]\tvalid_0's multi_logloss: 1.05591\tvalid_0's multi_logloss: 1.05591\n",
      "[2]\tvalid_0's multi_logloss: 1.03189\tvalid_0's multi_logloss: 1.03189\n",
      "[3]\tvalid_0's multi_logloss: 1.00996\tvalid_0's multi_logloss: 1.00996\n",
      "[4]\tvalid_0's multi_logloss: 0.990502\tvalid_0's multi_logloss: 0.990502\n",
      "[5]\tvalid_0's multi_logloss: 0.972241\tvalid_0's multi_logloss: 0.972241\n",
      "[6]\tvalid_0's multi_logloss: 0.954034\tvalid_0's multi_logloss: 0.954034\n",
      "[7]\tvalid_0's multi_logloss: 0.938092\tvalid_0's multi_logloss: 0.938092\n",
      "[8]\tvalid_0's multi_logloss: 0.922075\tvalid_0's multi_logloss: 0.922075\n",
      "[9]\tvalid_0's multi_logloss: 0.907382\tvalid_0's multi_logloss: 0.907382\n",
      "[10]\tvalid_0's multi_logloss: 0.895843\tvalid_0's multi_logloss: 0.895843\n",
      "[11]\tvalid_0's multi_logloss: 0.883379\tvalid_0's multi_logloss: 0.883379\n",
      "[12]\tvalid_0's multi_logloss: 0.871257\tvalid_0's multi_logloss: 0.871257\n",
      "[13]\tvalid_0's multi_logloss: 0.85983\tvalid_0's multi_logloss: 0.85983\n",
      "[14]\tvalid_0's multi_logloss: 0.849775\tvalid_0's multi_logloss: 0.849775\n",
      "[15]\tvalid_0's multi_logloss: 0.840493\tvalid_0's multi_logloss: 0.840493\n",
      "[16]\tvalid_0's multi_logloss: 0.831134\tvalid_0's multi_logloss: 0.831134\n",
      "[17]\tvalid_0's multi_logloss: 0.822148\tvalid_0's multi_logloss: 0.822148\n",
      "[18]\tvalid_0's multi_logloss: 0.813797\tvalid_0's multi_logloss: 0.813797\n",
      "[19]\tvalid_0's multi_logloss: 0.805907\tvalid_0's multi_logloss: 0.805907\n",
      "[20]\tvalid_0's multi_logloss: 0.798616\tvalid_0's multi_logloss: 0.798616\n",
      "Starting predicting...\n",
      "Accuracy_score: 71.80% on test dataset\n",
      "             precision    recall  f1-score   support\n",
      "\n",
      "          1       0.67      0.60      0.63     10430\n",
      "          2       0.77      0.73      0.75     16430\n",
      "          3       0.70      0.80      0.74     14402\n",
      "\n",
      "avg / total       0.72      0.72      0.72     41262\n",
      "\n"
     ]
    },
    {
     "data": {
      "image/png": "[encoded data removed]",
      "text/plain": [
       "<Figure size 468x684 with 1 Axes>"
      ]
     },
     "metadata": {},
     "output_type": "display_data"
    },
    {
     "data": {
      "text/plain": [
       "<Figure size 360x504 with 0 Axes>"
      ]
     },
     "metadata": {},
     "output_type": "display_data"
    },
    {
     "data": {
      "image/png": "[encoded data removed]",
      "text/plain": [
       "<Figure size 468x684 with 1 Axes>"
      ]
     },
     "metadata": {},
     "output_type": "display_data"
    },
    {
     "data": {
      "text/plain": [
       "<Figure size 360x504 with 0 Axes>"
      ]
     },
     "metadata": {},
     "output_type": "display_data"
    },
    {
     "data": {
      "image/png": "[encoded data removed]",
      "text/plain": [
       "<Figure size 468x684 with 1 Axes>"
      ]
     },
     "metadata": {},
     "output_type": "display_data"
    },
    {
     "data": {
      "text/plain": [
       "<Figure size 360x504 with 0 Axes>"
      ]
     },
     "metadata": {},
     "output_type": "display_data"
    },
    {
     "data": {
      "image/png": "[encoded data removed]",
      "text/plain": [
       "<Figure size 468x684 with 1 Axes>"
      ]
     },
     "metadata": {},
     "output_type": "display_data"
    },
    {
     "data": {
      "text/plain": [
       "<Figure size 360x504 with 0 Axes>"
      ]
     },
     "metadata": {},
     "output_type": "display_data"
    }
   ],
   "source": [
    "decision_tree()\n",
    "random_forest()\n",
    "adaboost()\n",
    "sgd()\n",
    "xgboost()\n",
    "catboost()\n",
    "lightgbm()"
   ]
  },
  {
   "cell_type": "code",
   "execution_count": 670,
   "metadata": {},
   "outputs": [
    {
     "data": {
      "text/plain": [
       "Index(['vehicle_length_cm', 'vehicle_weight_kg', 'vehicle_speed',\n",
       "       'pvehicle_speed_kph', 'pvehicle_weight_kg', 'pvehicle_length_cm',\n",
       "       'pvehicle_timegap', 'air_temp', 'realtive_humidity', 'wind_direction',\n",
       "       'wind_speed_ms', 'number_of_axles_2', 'number_of_axles_3',\n",
       "       'number_of_axles_4', 'number_of_axles_5', 'number_of_axles_6',\n",
       "       'number_of_axles_7', 'number_of_axles_8', 'number_of_axles_9',\n",
       "       'lane_no_1', 'lane_no_2', 'weather_road_cond_Dry',\n",
       "       'weather_road_cond_Snow covered', 'weather_road_cond_Visible tracks',\n",
       "       'weather_road_cond_Wet', 'prep_type_clear', 'prep_type_rain',\n",
       "       'prep_type_snow', 'prep_intensity_High', 'prep_intensity_Low',\n",
       "       'prep_intensity_Moderate', 'prep_intensity_None',\n",
       "       'daylight_cond_daylight', 'daylight_cond_night',\n",
       "       'daylight_cond_twilight'],\n",
       "      dtype='object')"
      ]
     },
     "execution_count": 670,
     "metadata": {},
     "output_type": "execute_result"
    }
   ],
   "source": [
    "train_split_X.columns"
   ]
  },
  {
   "cell_type": "code",
   "execution_count": 659,
   "metadata": {},
   "outputs": [
    {
     "name": "stdout",
     "output_type": "stream",
     "text": [
      "(103155, 35)\n",
      "(61893,)\n"
     ]
    }
   ],
   "source": [
    "print(copy_data.shape)\n",
    "print(train_split_Y.shape)"
   ]
  },
  {
   "cell_type": "code",
   "execution_count": 619,
   "metadata": {},
   "outputs": [
    {
     "name": "stdout",
     "output_type": "stream",
     "text": [
      "(26074, 32)\n",
      "(41075, 32)\n",
      "(36006, 32)\n"
     ]
    }
   ],
   "source": [
    "print(data[data['DrivingStyle']==1].shape)\n",
    "print(data[data['DrivingStyle']==2].shape)\n",
    "print(data[data['DrivingStyle']==3].shape)"
   ]
  },
  {
   "cell_type": "code",
   "execution_count": 620,
   "metadata": {},
   "outputs": [
    {
     "data": {
      "text/plain": [
       "(103155, 32)"
      ]
     },
     "execution_count": 620,
     "metadata": {},
     "output_type": "execute_result"
    }
   ],
   "source": [
    "data.shape"
   ]
  },
  {
   "cell_type": "code",
   "execution_count": null,
   "metadata": {},
   "outputs": [],
   "source": [
    "# y_true = np.array([0, 1, 1, 0, 1])\n",
    "# y_pred = np.array([1, 0, 1, 0, 1])\n",
    "# y_act = np.empty(3,dtype=int)\n",
    "# y_pre = np.empty(3,dtype=int)\n",
    "# #keep 1's\n",
    "# # y_true, y_pred = zip(*[[y_true[i], y_pred[i]] for i in range(len(y_true)) if y_true[i]==\"1\"])\n",
    "# print(\"y_true:\",y_true)\n",
    "# print(\"y_pred:\",y_pred)\n",
    "# # y_true, y_pred = [[y_true[i], y_pred[i]] for i in range(len(y_true)) if y_true[i]==1]\n",
    "# count=0\n",
    "# for i in range(len(y_true)):\n",
    "#     if y_true[i]==1:\n",
    "#         y_act[count] = y_true[i]\n",
    "#         y_pre[count] = y_pred[i]\n",
    "#         count+=1\n",
    "# print(\"y_act:\",y_act)\n",
    "# print(\"y_pre:\",y_pre)\n",
    "\n",
    "# out = precision_recall_fscore_support(y_true, y_pred, average='micro')\n",
    "# print(recall_score(y_act, y_pre))"
   ]
  },
  {
   "cell_type": "code",
   "execution_count": 7,
   "metadata": {},
   "outputs": [
    {
     "data": {
      "text/plain": [
       "(0.6, 0.6, 0.6, None)"
      ]
     },
     "execution_count": 7,
     "metadata": {},
     "output_type": "execute_result"
    }
   ],
   "source": [
    "# out"
   ]
  },
  {
   "cell_type": "markdown",
   "metadata": {},
   "source": [
    "## Test Dataset preprocessing"
   ]
  },
  {
   "cell_type": "code",
   "execution_count": 68,
   "metadata": {},
   "outputs": [],
   "source": [
    "test_data = pd.read_csv('Test.csv',na_values=[\" \",\".\",\"NA\",\"?\",\"-\",\"\"])\n",
    "test_vehicle = pd.read_csv('Test_Vehicletravellingdata.csv',na_values=[\" \",\".\",\"NA\",\"?\",\"-\",\"\"])\n",
    "test_weather = pd.read_csv('Test_WeatherData.csv',na_values=[\" \",\".\",\"NA\",\"?\",\"-\",\"\"])"
   ]
  },
  {
   "cell_type": "markdown",
   "metadata": {},
   "source": [
    "#### Test_data preprocessing"
   ]
  },
  {
   "cell_type": "code",
   "execution_count": 69,
   "metadata": {},
   "outputs": [
    {
     "name": "stdout",
     "output_type": "stream",
     "text": [
      "(4880, 4)\n"
     ]
    },
    {
     "data": {
      "text/plain": [
       "ID    0\n",
       "V2    0\n",
       "V5    0\n",
       "V6    0\n",
       "dtype: int64"
      ]
     },
     "execution_count": 69,
     "metadata": {},
     "output_type": "execute_result"
    }
   ],
   "source": [
    "# checking null values in train_data\n",
    "print(test_data.shape)\n",
    "test_data.isnull().sum()"
   ]
  },
  {
   "cell_type": "code",
   "execution_count": 70,
   "metadata": {},
   "outputs": [],
   "source": [
    "test_data.columns = [\"ID\",\"vehicle_length_cm\",\"vehicle_weight_kg\",\"number_of_axles\"]"
   ]
  },
  {
   "cell_type": "code",
   "execution_count": 71,
   "metadata": {},
   "outputs": [
    {
     "name": "stdout",
     "output_type": "stream",
     "text": [
      "<class 'pandas.core.frame.DataFrame'>\n",
      "RangeIndex: 4880 entries, 0 to 4879\n",
      "Data columns (total 4 columns):\n",
      "ID                   4880 non-null object\n",
      "vehicle_length_cm    4880 non-null int64\n",
      "vehicle_weight_kg    4880 non-null int64\n",
      "number_of_axles      4880 non-null int64\n",
      "dtypes: int64(3), object(1)\n",
      "memory usage: 152.6+ KB\n"
     ]
    }
   ],
   "source": [
    "test_data.info()"
   ]
  },
  {
   "cell_type": "markdown",
   "metadata": {},
   "source": [
    "#### Test Vehicle data"
   ]
  },
  {
   "cell_type": "code",
   "execution_count": 72,
   "metadata": {},
   "outputs": [
    {
     "name": "stdout",
     "output_type": "stream",
     "text": [
      "(61671, 10)\n"
     ]
    },
    {
     "data": {
      "text/plain": [
       "ID       0\n",
       "V1       0\n",
       "V3       0\n",
       "V4       0\n",
       "V7       0\n",
       "V8       0\n",
       "V9       0\n",
       "V10      0\n",
       "V11    956\n",
       "V18      0\n",
       "dtype: int64"
      ]
     },
     "execution_count": 72,
     "metadata": {},
     "output_type": "execute_result"
    }
   ],
   "source": [
    "# checking null values in train_vehicle\n",
    "print(test_vehicle.shape)\n",
    "test_vehicle.isnull().sum()"
   ]
  },
  {
   "cell_type": "code",
   "execution_count": 73,
   "metadata": {},
   "outputs": [],
   "source": [
    "test_vehicle.columns = [\"ID\",\"trip_datetime\",\"lane_no\",\"vehicle_speed\",\"pvehicle_id\",\"pvehicle_speed_kph\",\"pvehicle_weight_kg\",\"pvehicle_length_cm\",\"pvehicle_timegap\",\"weather_road_cond\"]"
   ]
  },
  {
   "cell_type": "code",
   "execution_count": 74,
   "metadata": {},
   "outputs": [
    {
     "name": "stdout",
     "output_type": "stream",
     "text": [
      "(61671, 10)\n"
     ]
    },
    {
     "data": {
      "text/plain": [
       "ID                      0\n",
       "trip_datetime           0\n",
       "lane_no                 0\n",
       "vehicle_speed           0\n",
       "pvehicle_id             0\n",
       "pvehicle_speed_kph      0\n",
       "pvehicle_weight_kg      0\n",
       "pvehicle_length_cm      0\n",
       "pvehicle_timegap      956\n",
       "weather_road_cond       0\n",
       "dtype: int64"
      ]
     },
     "execution_count": 74,
     "metadata": {},
     "output_type": "execute_result"
    }
   ],
   "source": [
    "# checking null values in train_weather\n",
    "print(test_vehicle.shape)\n",
    "test_vehicle.isnull().sum()"
   ]
  },
  {
   "cell_type": "code",
   "execution_count": 75,
   "metadata": {},
   "outputs": [],
   "source": [
    "test_vehicle['pvehicle_timegap'] = test_vehicle['pvehicle_timegap'].fillna(data['pvehicle_timegap'].mean())"
   ]
  },
  {
   "cell_type": "code",
   "execution_count": 76,
   "metadata": {
    "scrolled": true
   },
   "outputs": [],
   "source": [
    "test_vehicle['pvehicle_timegap'] = test_vehicle['pvehicle_timegap'].astype('int64')"
   ]
  },
  {
   "cell_type": "code",
   "execution_count": 77,
   "metadata": {},
   "outputs": [
    {
     "data": {
      "text/plain": [
       "ID                    0\n",
       "trip_datetime         0\n",
       "lane_no               0\n",
       "vehicle_speed         0\n",
       "pvehicle_id           0\n",
       "pvehicle_speed_kph    0\n",
       "pvehicle_weight_kg    0\n",
       "pvehicle_length_cm    0\n",
       "pvehicle_timegap      0\n",
       "weather_road_cond     0\n",
       "dtype: int64"
      ]
     },
     "execution_count": 77,
     "metadata": {},
     "output_type": "execute_result"
    }
   ],
   "source": [
    "test_vehicle.isnull().sum()"
   ]
  },
  {
   "cell_type": "code",
   "execution_count": 78,
   "metadata": {},
   "outputs": [],
   "source": [
    "test_vehicle['trip_datetime'] = test_vehicle['trip_datetime'].astype('datetime64')"
   ]
  },
  {
   "cell_type": "markdown",
   "metadata": {},
   "source": [
    "#### Test Weather data"
   ]
  },
  {
   "cell_type": "code",
   "execution_count": 79,
   "metadata": {},
   "outputs": [
    {
     "name": "stdout",
     "output_type": "stream",
     "text": [
      "(61671, 9)\n"
     ]
    },
    {
     "data": {
      "text/plain": [
       "ID       0\n",
       "V1       0\n",
       "V12    934\n",
       "V13      0\n",
       "V14    973\n",
       "V15    943\n",
       "V16    964\n",
       "V17    983\n",
       "V19      0\n",
       "dtype: int64"
      ]
     },
     "execution_count": 79,
     "metadata": {},
     "output_type": "execute_result"
    }
   ],
   "source": [
    "# checking null values in train_data\n",
    "print(test_weather.shape)\n",
    "test_weather.isnull().sum()"
   ]
  },
  {
   "cell_type": "code",
   "execution_count": 80,
   "metadata": {},
   "outputs": [],
   "source": [
    "test_weather.columns = [\"ID\",'trip_datetime','air_temp','prep_type','prep_intensity','realtive_humidity','wind_direction','wind_speed_ms','daylight_cond']"
   ]
  },
  {
   "cell_type": "code",
   "execution_count": 81,
   "metadata": {},
   "outputs": [
    {
     "name": "stdout",
     "output_type": "stream",
     "text": [
      "<class 'pandas.core.frame.DataFrame'>\n",
      "RangeIndex: 61671 entries, 0 to 61670\n",
      "Data columns (total 9 columns):\n",
      "ID                   61671 non-null object\n",
      "trip_datetime        61671 non-null object\n",
      "air_temp             60737 non-null float64\n",
      "prep_type            61671 non-null object\n",
      "prep_intensity       60698 non-null object\n",
      "realtive_humidity    60728 non-null float64\n",
      "wind_direction       60707 non-null float64\n",
      "wind_speed_ms        60688 non-null float64\n",
      "daylight_cond        61671 non-null object\n",
      "dtypes: float64(4), object(5)\n",
      "memory usage: 4.2+ MB\n"
     ]
    }
   ],
   "source": [
    "test_weather.info()"
   ]
  },
  {
   "cell_type": "code",
   "execution_count": 82,
   "metadata": {},
   "outputs": [],
   "source": [
    "test_weather['air_temp'] = test_weather['air_temp'].fillna(math.ceil(data['air_temp'].mean()))  #ceil\n",
    "test_weather['realtive_humidity'] = test_weather['realtive_humidity'].fillna(math.ceil(data['realtive_humidity'].mean()))\n",
    "test_weather['wind_direction'] = test_weather['wind_direction'].fillna(180) #ceil\n",
    "test_weather['wind_speed_ms'] = test_weather['wind_speed_ms'].fillna(math.floor(data['wind_speed_ms'].mean()))"
   ]
  },
  {
   "cell_type": "code",
   "execution_count": 83,
   "metadata": {},
   "outputs": [],
   "source": [
    "test_weather['prep_intensity'] = test_weather['prep_intensity'].astype('category')"
   ]
  },
  {
   "cell_type": "code",
   "execution_count": 84,
   "metadata": {},
   "outputs": [],
   "source": [
    "test_weather['prep_intensity'] = test_weather['prep_intensity'].fillna(data['prep_intensity'].mode()[0])"
   ]
  },
  {
   "cell_type": "code",
   "execution_count": 85,
   "metadata": {},
   "outputs": [
    {
     "data": {
      "text/plain": [
       "ID                   0\n",
       "trip_datetime        0\n",
       "air_temp             0\n",
       "prep_type            0\n",
       "prep_intensity       0\n",
       "realtive_humidity    0\n",
       "wind_direction       0\n",
       "wind_speed_ms        0\n",
       "daylight_cond        0\n",
       "dtype: int64"
      ]
     },
     "execution_count": 85,
     "metadata": {},
     "output_type": "execute_result"
    }
   ],
   "source": [
    "test_weather.isnull().sum()"
   ]
  },
  {
   "cell_type": "code",
   "execution_count": 86,
   "metadata": {},
   "outputs": [],
   "source": [
    "test_weather['trip_datetime'] = test_weather['trip_datetime'].astype('datetime64')"
   ]
  },
  {
   "cell_type": "markdown",
   "metadata": {},
   "source": [
    "**Applying inner join on test datasets**"
   ]
  },
  {
   "cell_type": "code",
   "execution_count": 87,
   "metadata": {},
   "outputs": [
    {
     "name": "stdout",
     "output_type": "stream",
     "text": [
      "(61671, 13)\n",
      "(61671, 20)\n"
     ]
    }
   ],
   "source": [
    "test = pd.merge(test_data,test_vehicle,on='ID',how='inner')\n",
    "print(test.shape)\n",
    "test = pd.merge(test,test_weather,on=['ID','trip_datetime'],how='inner')\n",
    "print(test.shape)"
   ]
  },
  {
   "cell_type": "code",
   "execution_count": 88,
   "metadata": {},
   "outputs": [
    {
     "data": {
      "text/plain": [
       "ID                    0\n",
       "vehicle_length_cm     0\n",
       "vehicle_weight_kg     0\n",
       "number_of_axles       0\n",
       "trip_datetime         0\n",
       "lane_no               0\n",
       "vehicle_speed         0\n",
       "pvehicle_id           0\n",
       "pvehicle_speed_kph    0\n",
       "pvehicle_weight_kg    0\n",
       "pvehicle_length_cm    0\n",
       "pvehicle_timegap      0\n",
       "weather_road_cond     0\n",
       "air_temp              0\n",
       "prep_type             0\n",
       "prep_intensity        0\n",
       "realtive_humidity     0\n",
       "wind_direction        0\n",
       "wind_speed_ms         0\n",
       "daylight_cond         0\n",
       "dtype: int64"
      ]
     },
     "execution_count": 88,
     "metadata": {},
     "output_type": "execute_result"
    }
   ],
   "source": [
    "test.isnull().sum()"
   ]
  },
  {
   "cell_type": "code",
   "execution_count": 89,
   "metadata": {},
   "outputs": [],
   "source": [
    "del test_data\n",
    "del test_vehicle\n",
    "del test_weather"
   ]
  },
  {
   "cell_type": "code",
   "execution_count": 90,
   "metadata": {},
   "outputs": [],
   "source": [
    "for column in test.columns:\n",
    "    if test[column].dtypes == 'object':\n",
    "        test[column] = test[column].astype('category')"
   ]
  },
  {
   "cell_type": "code",
   "execution_count": 91,
   "metadata": {},
   "outputs": [
    {
     "data": {
      "text/plain": [
       "ID                          category\n",
       "vehicle_length_cm              int64\n",
       "vehicle_weight_kg              int64\n",
       "number_of_axles                int64\n",
       "trip_datetime         datetime64[ns]\n",
       "lane_no                        int64\n",
       "vehicle_speed                  int64\n",
       "pvehicle_id                    int64\n",
       "pvehicle_speed_kph             int64\n",
       "pvehicle_weight_kg             int64\n",
       "pvehicle_length_cm             int64\n",
       "pvehicle_timegap               int64\n",
       "weather_road_cond           category\n",
       "air_temp                     float64\n",
       "prep_type                   category\n",
       "prep_intensity              category\n",
       "realtive_humidity            float64\n",
       "wind_direction               float64\n",
       "wind_speed_ms                float64\n",
       "daylight_cond               category\n",
       "dtype: object"
      ]
     },
     "execution_count": 91,
     "metadata": {},
     "output_type": "execute_result"
    }
   ],
   "source": [
    "test.dtypes"
   ]
  },
  {
   "cell_type": "code",
   "execution_count": 92,
   "metadata": {},
   "outputs": [
    {
     "data": {
      "text/html": [
       "<div>\n",
       "<style scoped>\n",
       "    .dataframe tbody tr th:only-of-type {\n",
       "        vertical-align: middle;\n",
       "    }\n",
       "\n",
       "    .dataframe tbody tr th {\n",
       "        vertical-align: top;\n",
       "    }\n",
       "\n",
       "    .dataframe thead th {\n",
       "        text-align: right;\n",
       "    }\n",
       "</style>\n",
       "<table border=\"1\" class=\"dataframe\">\n",
       "  <thead>\n",
       "    <tr style=\"text-align: right;\">\n",
       "      <th></th>\n",
       "      <th>count</th>\n",
       "      <th>unique</th>\n",
       "      <th>top</th>\n",
       "      <th>freq</th>\n",
       "      <th>first</th>\n",
       "      <th>last</th>\n",
       "      <th>mean</th>\n",
       "      <th>std</th>\n",
       "      <th>min</th>\n",
       "      <th>25%</th>\n",
       "      <th>50%</th>\n",
       "      <th>75%</th>\n",
       "      <th>max</th>\n",
       "    </tr>\n",
       "  </thead>\n",
       "  <tbody>\n",
       "    <tr>\n",
       "      <th>ID</th>\n",
       "      <td>61671</td>\n",
       "      <td>4880</td>\n",
       "      <td>DR_86793</td>\n",
       "      <td>99</td>\n",
       "      <td>NaN</td>\n",
       "      <td>NaN</td>\n",
       "      <td>NaN</td>\n",
       "      <td>NaN</td>\n",
       "      <td>NaN</td>\n",
       "      <td>NaN</td>\n",
       "      <td>NaN</td>\n",
       "      <td>NaN</td>\n",
       "      <td>NaN</td>\n",
       "    </tr>\n",
       "    <tr>\n",
       "      <th>vehicle_length_cm</th>\n",
       "      <td>61671</td>\n",
       "      <td>NaN</td>\n",
       "      <td>NaN</td>\n",
       "      <td>NaN</td>\n",
       "      <td>NaN</td>\n",
       "      <td>NaN</td>\n",
       "      <td>860.136</td>\n",
       "      <td>489.797</td>\n",
       "      <td>256</td>\n",
       "      <td>549</td>\n",
       "      <td>576</td>\n",
       "      <td>1039.5</td>\n",
       "      <td>2392</td>\n",
       "    </tr>\n",
       "    <tr>\n",
       "      <th>vehicle_weight_kg</th>\n",
       "      <td>61671</td>\n",
       "      <td>NaN</td>\n",
       "      <td>NaN</td>\n",
       "      <td>NaN</td>\n",
       "      <td>NaN</td>\n",
       "      <td>NaN</td>\n",
       "      <td>5954.41</td>\n",
       "      <td>7846.32</td>\n",
       "      <td>94</td>\n",
       "      <td>1632</td>\n",
       "      <td>2010</td>\n",
       "      <td>5064</td>\n",
       "      <td>45185</td>\n",
       "    </tr>\n",
       "    <tr>\n",
       "      <th>number_of_axles</th>\n",
       "      <td>61671</td>\n",
       "      <td>NaN</td>\n",
       "      <td>NaN</td>\n",
       "      <td>NaN</td>\n",
       "      <td>NaN</td>\n",
       "      <td>NaN</td>\n",
       "      <td>2.84374</td>\n",
       "      <td>1.46403</td>\n",
       "      <td>2</td>\n",
       "      <td>2</td>\n",
       "      <td>2</td>\n",
       "      <td>3</td>\n",
       "      <td>9</td>\n",
       "    </tr>\n",
       "    <tr>\n",
       "      <th>trip_datetime</th>\n",
       "      <td>61671</td>\n",
       "      <td>61668</td>\n",
       "      <td>2012-12-12 05:03:27</td>\n",
       "      <td>2</td>\n",
       "      <td>2012-03-21 10:30:27</td>\n",
       "      <td>2013-04-30 16:25:52</td>\n",
       "      <td>NaN</td>\n",
       "      <td>NaN</td>\n",
       "      <td>NaN</td>\n",
       "      <td>NaN</td>\n",
       "      <td>NaN</td>\n",
       "      <td>NaN</td>\n",
       "      <td>NaN</td>\n",
       "    </tr>\n",
       "    <tr>\n",
       "      <th>lane_no</th>\n",
       "      <td>61671</td>\n",
       "      <td>NaN</td>\n",
       "      <td>NaN</td>\n",
       "      <td>NaN</td>\n",
       "      <td>NaN</td>\n",
       "      <td>NaN</td>\n",
       "      <td>1.50383</td>\n",
       "      <td>0.499989</td>\n",
       "      <td>1</td>\n",
       "      <td>1</td>\n",
       "      <td>2</td>\n",
       "      <td>2</td>\n",
       "      <td>2</td>\n",
       "    </tr>\n",
       "    <tr>\n",
       "      <th>vehicle_speed</th>\n",
       "      <td>61671</td>\n",
       "      <td>NaN</td>\n",
       "      <td>NaN</td>\n",
       "      <td>NaN</td>\n",
       "      <td>NaN</td>\n",
       "      <td>NaN</td>\n",
       "      <td>83.4105</td>\n",
       "      <td>9.30759</td>\n",
       "      <td>1</td>\n",
       "      <td>78</td>\n",
       "      <td>83</td>\n",
       "      <td>88</td>\n",
       "      <td>169</td>\n",
       "    </tr>\n",
       "    <tr>\n",
       "      <th>pvehicle_id</th>\n",
       "      <td>61671</td>\n",
       "      <td>NaN</td>\n",
       "      <td>NaN</td>\n",
       "      <td>NaN</td>\n",
       "      <td>NaN</td>\n",
       "      <td>NaN</td>\n",
       "      <td>458079</td>\n",
       "      <td>271055</td>\n",
       "      <td>26</td>\n",
       "      <td>146376</td>\n",
       "      <td>590071</td>\n",
       "      <td>691036</td>\n",
       "      <td>794379</td>\n",
       "    </tr>\n",
       "    <tr>\n",
       "      <th>pvehicle_speed_kph</th>\n",
       "      <td>61671</td>\n",
       "      <td>NaN</td>\n",
       "      <td>NaN</td>\n",
       "      <td>NaN</td>\n",
       "      <td>NaN</td>\n",
       "      <td>NaN</td>\n",
       "      <td>83.4238</td>\n",
       "      <td>9.32066</td>\n",
       "      <td>1</td>\n",
       "      <td>78</td>\n",
       "      <td>83</td>\n",
       "      <td>88</td>\n",
       "      <td>169</td>\n",
       "    </tr>\n",
       "    <tr>\n",
       "      <th>pvehicle_weight_kg</th>\n",
       "      <td>61671</td>\n",
       "      <td>NaN</td>\n",
       "      <td>NaN</td>\n",
       "      <td>NaN</td>\n",
       "      <td>NaN</td>\n",
       "      <td>NaN</td>\n",
       "      <td>5058.39</td>\n",
       "      <td>7487.26</td>\n",
       "      <td>8</td>\n",
       "      <td>1504</td>\n",
       "      <td>1867</td>\n",
       "      <td>2682</td>\n",
       "      <td>65063</td>\n",
       "    </tr>\n",
       "    <tr>\n",
       "      <th>pvehicle_length_cm</th>\n",
       "      <td>61671</td>\n",
       "      <td>NaN</td>\n",
       "      <td>NaN</td>\n",
       "      <td>NaN</td>\n",
       "      <td>NaN</td>\n",
       "      <td>NaN</td>\n",
       "      <td>792.057</td>\n",
       "      <td>482.569</td>\n",
       "      <td>107</td>\n",
       "      <td>528</td>\n",
       "      <td>560</td>\n",
       "      <td>708</td>\n",
       "      <td>2645</td>\n",
       "    </tr>\n",
       "    <tr>\n",
       "      <th>pvehicle_timegap</th>\n",
       "      <td>61671</td>\n",
       "      <td>NaN</td>\n",
       "      <td>NaN</td>\n",
       "      <td>NaN</td>\n",
       "      <td>NaN</td>\n",
       "      <td>NaN</td>\n",
       "      <td>104.084</td>\n",
       "      <td>175.529</td>\n",
       "      <td>1</td>\n",
       "      <td>7</td>\n",
       "      <td>44</td>\n",
       "      <td>121</td>\n",
       "      <td>1799</td>\n",
       "    </tr>\n",
       "    <tr>\n",
       "      <th>weather_road_cond</th>\n",
       "      <td>61671</td>\n",
       "      <td>4</td>\n",
       "      <td>Dry</td>\n",
       "      <td>45083</td>\n",
       "      <td>NaN</td>\n",
       "      <td>NaN</td>\n",
       "      <td>NaN</td>\n",
       "      <td>NaN</td>\n",
       "      <td>NaN</td>\n",
       "      <td>NaN</td>\n",
       "      <td>NaN</td>\n",
       "      <td>NaN</td>\n",
       "      <td>NaN</td>\n",
       "    </tr>\n",
       "    <tr>\n",
       "      <th>air_temp</th>\n",
       "      <td>61671</td>\n",
       "      <td>NaN</td>\n",
       "      <td>NaN</td>\n",
       "      <td>NaN</td>\n",
       "      <td>NaN</td>\n",
       "      <td>NaN</td>\n",
       "      <td>4.68489</td>\n",
       "      <td>3.19503</td>\n",
       "      <td>-13</td>\n",
       "      <td>2</td>\n",
       "      <td>5</td>\n",
       "      <td>7</td>\n",
       "      <td>23</td>\n",
       "    </tr>\n",
       "    <tr>\n",
       "      <th>prep_type</th>\n",
       "      <td>61671</td>\n",
       "      <td>3</td>\n",
       "      <td>clear</td>\n",
       "      <td>57620</td>\n",
       "      <td>NaN</td>\n",
       "      <td>NaN</td>\n",
       "      <td>NaN</td>\n",
       "      <td>NaN</td>\n",
       "      <td>NaN</td>\n",
       "      <td>NaN</td>\n",
       "      <td>NaN</td>\n",
       "      <td>NaN</td>\n",
       "      <td>NaN</td>\n",
       "    </tr>\n",
       "    <tr>\n",
       "      <th>prep_intensity</th>\n",
       "      <td>61671</td>\n",
       "      <td>4</td>\n",
       "      <td>None</td>\n",
       "      <td>58735</td>\n",
       "      <td>NaN</td>\n",
       "      <td>NaN</td>\n",
       "      <td>NaN</td>\n",
       "      <td>NaN</td>\n",
       "      <td>NaN</td>\n",
       "      <td>NaN</td>\n",
       "      <td>NaN</td>\n",
       "      <td>NaN</td>\n",
       "      <td>NaN</td>\n",
       "    </tr>\n",
       "    <tr>\n",
       "      <th>realtive_humidity</th>\n",
       "      <td>61671</td>\n",
       "      <td>NaN</td>\n",
       "      <td>NaN</td>\n",
       "      <td>NaN</td>\n",
       "      <td>NaN</td>\n",
       "      <td>NaN</td>\n",
       "      <td>60.4832</td>\n",
       "      <td>18.0134</td>\n",
       "      <td>16</td>\n",
       "      <td>46</td>\n",
       "      <td>58</td>\n",
       "      <td>75</td>\n",
       "      <td>97</td>\n",
       "    </tr>\n",
       "    <tr>\n",
       "      <th>wind_direction</th>\n",
       "      <td>61671</td>\n",
       "      <td>NaN</td>\n",
       "      <td>NaN</td>\n",
       "      <td>NaN</td>\n",
       "      <td>NaN</td>\n",
       "      <td>NaN</td>\n",
       "      <td>180.323</td>\n",
       "      <td>87.5461</td>\n",
       "      <td>6</td>\n",
       "      <td>152</td>\n",
       "      <td>180</td>\n",
       "      <td>208</td>\n",
       "      <td>360</td>\n",
       "    </tr>\n",
       "    <tr>\n",
       "      <th>wind_speed_ms</th>\n",
       "      <td>61671</td>\n",
       "      <td>NaN</td>\n",
       "      <td>NaN</td>\n",
       "      <td>NaN</td>\n",
       "      <td>NaN</td>\n",
       "      <td>NaN</td>\n",
       "      <td>4.13285</td>\n",
       "      <td>2.99557</td>\n",
       "      <td>0</td>\n",
       "      <td>1</td>\n",
       "      <td>4</td>\n",
       "      <td>7</td>\n",
       "      <td>16</td>\n",
       "    </tr>\n",
       "    <tr>\n",
       "      <th>daylight_cond</th>\n",
       "      <td>61671</td>\n",
       "      <td>3</td>\n",
       "      <td>night</td>\n",
       "      <td>37332</td>\n",
       "      <td>NaN</td>\n",
       "      <td>NaN</td>\n",
       "      <td>NaN</td>\n",
       "      <td>NaN</td>\n",
       "      <td>NaN</td>\n",
       "      <td>NaN</td>\n",
       "      <td>NaN</td>\n",
       "      <td>NaN</td>\n",
       "      <td>NaN</td>\n",
       "    </tr>\n",
       "  </tbody>\n",
       "</table>\n",
       "</div>"
      ],
      "text/plain": [
       "                    count unique                  top   freq  \\\n",
       "ID                  61671   4880             DR_86793     99   \n",
       "vehicle_length_cm   61671    NaN                  NaN    NaN   \n",
       "vehicle_weight_kg   61671    NaN                  NaN    NaN   \n",
       "number_of_axles     61671    NaN                  NaN    NaN   \n",
       "trip_datetime       61671  61668  2012-12-12 05:03:27      2   \n",
       "lane_no             61671    NaN                  NaN    NaN   \n",
       "vehicle_speed       61671    NaN                  NaN    NaN   \n",
       "pvehicle_id         61671    NaN                  NaN    NaN   \n",
       "pvehicle_speed_kph  61671    NaN                  NaN    NaN   \n",
       "pvehicle_weight_kg  61671    NaN                  NaN    NaN   \n",
       "pvehicle_length_cm  61671    NaN                  NaN    NaN   \n",
       "pvehicle_timegap    61671    NaN                  NaN    NaN   \n",
       "weather_road_cond   61671      4                  Dry  45083   \n",
       "air_temp            61671    NaN                  NaN    NaN   \n",
       "prep_type           61671      3                clear  57620   \n",
       "prep_intensity      61671      4                 None  58735   \n",
       "realtive_humidity   61671    NaN                  NaN    NaN   \n",
       "wind_direction      61671    NaN                  NaN    NaN   \n",
       "wind_speed_ms       61671    NaN                  NaN    NaN   \n",
       "daylight_cond       61671      3                night  37332   \n",
       "\n",
       "                                  first                 last     mean  \\\n",
       "ID                                  NaN                  NaN      NaN   \n",
       "vehicle_length_cm                   NaN                  NaN  860.136   \n",
       "vehicle_weight_kg                   NaN                  NaN  5954.41   \n",
       "number_of_axles                     NaN                  NaN  2.84374   \n",
       "trip_datetime       2012-03-21 10:30:27  2013-04-30 16:25:52      NaN   \n",
       "lane_no                             NaN                  NaN  1.50383   \n",
       "vehicle_speed                       NaN                  NaN  83.4105   \n",
       "pvehicle_id                         NaN                  NaN   458079   \n",
       "pvehicle_speed_kph                  NaN                  NaN  83.4238   \n",
       "pvehicle_weight_kg                  NaN                  NaN  5058.39   \n",
       "pvehicle_length_cm                  NaN                  NaN  792.057   \n",
       "pvehicle_timegap                    NaN                  NaN  104.084   \n",
       "weather_road_cond                   NaN                  NaN      NaN   \n",
       "air_temp                            NaN                  NaN  4.68489   \n",
       "prep_type                           NaN                  NaN      NaN   \n",
       "prep_intensity                      NaN                  NaN      NaN   \n",
       "realtive_humidity                   NaN                  NaN  60.4832   \n",
       "wind_direction                      NaN                  NaN  180.323   \n",
       "wind_speed_ms                       NaN                  NaN  4.13285   \n",
       "daylight_cond                       NaN                  NaN      NaN   \n",
       "\n",
       "                         std  min     25%     50%     75%     max  \n",
       "ID                       NaN  NaN     NaN     NaN     NaN     NaN  \n",
       "vehicle_length_cm    489.797  256     549     576  1039.5    2392  \n",
       "vehicle_weight_kg    7846.32   94    1632    2010    5064   45185  \n",
       "number_of_axles      1.46403    2       2       2       3       9  \n",
       "trip_datetime            NaN  NaN     NaN     NaN     NaN     NaN  \n",
       "lane_no             0.499989    1       1       2       2       2  \n",
       "vehicle_speed        9.30759    1      78      83      88     169  \n",
       "pvehicle_id           271055   26  146376  590071  691036  794379  \n",
       "pvehicle_speed_kph   9.32066    1      78      83      88     169  \n",
       "pvehicle_weight_kg   7487.26    8    1504    1867    2682   65063  \n",
       "pvehicle_length_cm   482.569  107     528     560     708    2645  \n",
       "pvehicle_timegap     175.529    1       7      44     121    1799  \n",
       "weather_road_cond        NaN  NaN     NaN     NaN     NaN     NaN  \n",
       "air_temp             3.19503  -13       2       5       7      23  \n",
       "prep_type                NaN  NaN     NaN     NaN     NaN     NaN  \n",
       "prep_intensity           NaN  NaN     NaN     NaN     NaN     NaN  \n",
       "realtive_humidity    18.0134   16      46      58      75      97  \n",
       "wind_direction       87.5461    6     152     180     208     360  \n",
       "wind_speed_ms        2.99557    0       1       4       7      16  \n",
       "daylight_cond            NaN  NaN     NaN     NaN     NaN     NaN  "
      ]
     },
     "execution_count": 92,
     "metadata": {},
     "output_type": "execute_result"
    }
   ],
   "source": [
    "test.describe(include='all').T"
   ]
  },
  {
   "cell_type": "code",
   "execution_count": 93,
   "metadata": {},
   "outputs": [],
   "source": [
    "test['trip_date'] = test['trip_datetime'].dt.date\n",
    "test['trip_date_day'] = test['trip_datetime'].dt.day\n",
    "test['trip_month'] = test['trip_datetime'].dt.month\n",
    "test['trip_year'] = test['trip_datetime'].dt.year\n",
    "test['trip_time'] = test['trip_datetime'].dt.time\n",
    "test['trip_hour'] = test['trip_datetime'].dt.hour\n",
    "test['trip_minute'] = test['trip_datetime'].dt.minute\n",
    "test['trip_sec'] = test['trip_datetime'].dt.second"
   ]
  },
  {
   "cell_type": "code",
   "execution_count": 94,
   "metadata": {},
   "outputs": [],
   "source": [
    "test['speed_difference'] = test['vehicle_speed'] - test['pvehicle_speed_kph']"
   ]
  },
  {
   "cell_type": "code",
   "execution_count": 95,
   "metadata": {},
   "outputs": [],
   "source": [
    "test['distance'] = (test['pvehicle_speed_kph']/3.6)*test['pvehicle_timegap']"
   ]
  },
  {
   "cell_type": "code",
   "execution_count": 96,
   "metadata": {},
   "outputs": [],
   "source": [
    "test['distance'] = test['distance'].astype('int64')"
   ]
  },
  {
   "cell_type": "code",
   "execution_count": 97,
   "metadata": {},
   "outputs": [],
   "source": [
    "# calculating the bin size\n",
    "bins = list(range(0,data['distance'].max()+10,18613))"
   ]
  },
  {
   "cell_type": "code",
   "execution_count": 98,
   "metadata": {},
   "outputs": [
    {
     "data": {
      "text/plain": [
       "Low       60840\n",
       "Medium      750\n",
       "High         81\n",
       "Name: binned_distance, dtype: int64"
      ]
     },
     "execution_count": 98,
     "metadata": {},
     "output_type": "execute_result"
    }
   ],
   "source": [
    "labels = ['Low','Medium','High']\n",
    "test['binned_distance'] = pd.cut(test['distance'], bins=bins, labels=labels)\n",
    "test['binned_distance'].value_counts()"
   ]
  },
  {
   "cell_type": "code",
   "execution_count": 117,
   "metadata": {},
   "outputs": [],
   "source": [
    "test['number_of_axles'] = test['number_of_axles'].astype('category')"
   ]
  },
  {
   "cell_type": "code",
   "execution_count": 128,
   "metadata": {},
   "outputs": [],
   "source": [
    "test['lane_no'] = test['lane_no'].astype('category')"
   ]
  },
  {
   "cell_type": "code",
   "execution_count": 129,
   "metadata": {},
   "outputs": [],
   "source": [
    "test.to_csv(\"consolidate_test.csv\",sep=\",\",index=None)"
   ]
  },
  {
   "cell_type": "code",
   "execution_count": 312,
   "metadata": {},
   "outputs": [],
   "source": [
    "test_copy = test.copy()"
   ]
  },
  {
   "cell_type": "code",
   "execution_count": 313,
   "metadata": {},
   "outputs": [],
   "source": [
    "test_IDs = test.ID"
   ]
  },
  {
   "cell_type": "code",
   "execution_count": 314,
   "metadata": {},
   "outputs": [
    {
     "data": {
      "text/plain": [
       "Index(['ID', 'vehicle_length_cm', 'vehicle_weight_kg', 'number_of_axles',\n",
       "       'trip_datetime', 'lane_no', 'vehicle_speed', 'pvehicle_id',\n",
       "       'pvehicle_speed_kph', 'pvehicle_weight_kg', 'pvehicle_length_cm',\n",
       "       'pvehicle_timegap', 'weather_road_cond', 'air_temp', 'prep_type',\n",
       "       'prep_intensity', 'realtive_humidity', 'wind_direction',\n",
       "       'wind_speed_ms', 'daylight_cond', 'trip_date', 'trip_date_day',\n",
       "       'trip_month', 'trip_year', 'trip_time', 'trip_hour', 'trip_minute',\n",
       "       'trip_sec', 'speed_difference', 'distance', 'binned_distance'],\n",
       "      dtype='object')"
      ]
     },
     "execution_count": 314,
     "metadata": {},
     "output_type": "execute_result"
    }
   ],
   "source": [
    "test.columns"
   ]
  },
  {
   "cell_type": "code",
   "execution_count": 315,
   "metadata": {},
   "outputs": [],
   "source": [
    "test_copy.drop(dropping_columns,axis=1,inplace=True)"
   ]
  },
  {
   "cell_type": "code",
   "execution_count": 316,
   "metadata": {},
   "outputs": [],
   "source": [
    "test_categorical_columns = ['number_of_axles','lane_no','weather_road_cond','prep_type','prep_intensity','daylight_cond']"
   ]
  },
  {
   "cell_type": "code",
   "execution_count": 317,
   "metadata": {},
   "outputs": [],
   "source": [
    "test_dummified_df =pd.get_dummies(test_copy[test_categorical_columns])"
   ]
  },
  {
   "cell_type": "code",
   "execution_count": 318,
   "metadata": {},
   "outputs": [],
   "source": [
    "test_copy.drop(test_categorical_columns,axis=1,inplace=True)"
   ]
  },
  {
   "cell_type": "code",
   "execution_count": 319,
   "metadata": {},
   "outputs": [],
   "source": [
    "test_df_list  = [test_copy,test_dummified_df]\n",
    "test_copy = pd.concat(test_df_list,axis='columns')"
   ]
  },
  {
   "cell_type": "code",
   "execution_count": 320,
   "metadata": {
    "scrolled": true
   },
   "outputs": [
    {
     "data": {
      "text/plain": [
       "Index(['vehicle_length_cm', 'vehicle_weight_kg', 'vehicle_speed',\n",
       "       'pvehicle_id', 'pvehicle_speed_kph', 'pvehicle_weight_kg',\n",
       "       'pvehicle_length_cm', 'pvehicle_timegap', 'air_temp',\n",
       "       'realtive_humidity', 'wind_direction', 'wind_speed_ms',\n",
       "       'number_of_axles_2', 'number_of_axles_3', 'number_of_axles_4',\n",
       "       'number_of_axles_5', 'number_of_axles_6', 'number_of_axles_7',\n",
       "       'number_of_axles_9', 'lane_no_1', 'lane_no_2', 'weather_road_cond_Dry',\n",
       "       'weather_road_cond_Snow covered', 'weather_road_cond_Visible tracks',\n",
       "       'weather_road_cond_Wet', 'prep_type_clear', 'prep_type_rain',\n",
       "       'prep_type_snow', 'prep_intensity_High', 'prep_intensity_Low',\n",
       "       'prep_intensity_Moderate', 'prep_intensity_None',\n",
       "       'daylight_cond_daylight', 'daylight_cond_night',\n",
       "       'daylight_cond_twilight'],\n",
       "      dtype='object')"
      ]
     },
     "execution_count": 320,
     "metadata": {},
     "output_type": "execute_result"
    }
   ],
   "source": [
    "test_copy.columns"
   ]
  },
  {
   "cell_type": "code",
   "execution_count": 321,
   "metadata": {},
   "outputs": [],
   "source": [
    "test_copy['number_of_axles_8'] = 0"
   ]
  },
  {
   "cell_type": "code",
   "execution_count": 322,
   "metadata": {
    "scrolled": true
   },
   "outputs": [
    {
     "name": "stdout",
     "output_type": "stream",
     "text": [
      "<class 'pandas.core.frame.DataFrame'>\n",
      "Int64Index: 61671 entries, 0 to 61670\n",
      "Data columns (total 36 columns):\n",
      "vehicle_length_cm                   61671 non-null int64\n",
      "vehicle_weight_kg                   61671 non-null int64\n",
      "vehicle_speed                       61671 non-null int64\n",
      "pvehicle_id                         61671 non-null int64\n",
      "pvehicle_speed_kph                  61671 non-null int64\n",
      "pvehicle_weight_kg                  61671 non-null int64\n",
      "pvehicle_length_cm                  61671 non-null int64\n",
      "pvehicle_timegap                    61671 non-null int64\n",
      "air_temp                            61671 non-null float64\n",
      "realtive_humidity                   61671 non-null float64\n",
      "wind_direction                      61671 non-null float64\n",
      "wind_speed_ms                       61671 non-null float64\n",
      "number_of_axles_2                   61671 non-null uint8\n",
      "number_of_axles_3                   61671 non-null uint8\n",
      "number_of_axles_4                   61671 non-null uint8\n",
      "number_of_axles_5                   61671 non-null uint8\n",
      "number_of_axles_6                   61671 non-null uint8\n",
      "number_of_axles_7                   61671 non-null uint8\n",
      "number_of_axles_9                   61671 non-null uint8\n",
      "lane_no_1                           61671 non-null uint8\n",
      "lane_no_2                           61671 non-null uint8\n",
      "weather_road_cond_Dry               61671 non-null uint8\n",
      "weather_road_cond_Snow covered      61671 non-null uint8\n",
      "weather_road_cond_Visible tracks    61671 non-null uint8\n",
      "weather_road_cond_Wet               61671 non-null uint8\n",
      "prep_type_clear                     61671 non-null uint8\n",
      "prep_type_rain                      61671 non-null uint8\n",
      "prep_type_snow                      61671 non-null uint8\n",
      "prep_intensity_High                 61671 non-null uint8\n",
      "prep_intensity_Low                  61671 non-null uint8\n",
      "prep_intensity_Moderate             61671 non-null uint8\n",
      "prep_intensity_None                 61671 non-null uint8\n",
      "daylight_cond_daylight              61671 non-null uint8\n",
      "daylight_cond_night                 61671 non-null uint8\n",
      "daylight_cond_twilight              61671 non-null uint8\n",
      "number_of_axles_8                   61671 non-null int64\n",
      "dtypes: float64(4), int64(9), uint8(23)\n",
      "memory usage: 7.9 MB\n"
     ]
    }
   ],
   "source": [
    "test_copy.info()"
   ]
  },
  {
   "cell_type": "code",
   "execution_count": null,
   "metadata": {},
   "outputs": [],
   "source": []
  },
  {
   "cell_type": "code",
   "execution_count": 283,
   "metadata": {},
   "outputs": [],
   "source": [
    "# testpca_scaled = pca.transform(test_copy)"
   ]
  },
  {
   "cell_type": "code",
   "execution_count": 323,
   "metadata": {},
   "outputs": [
    {
     "name": "stdout",
     "output_type": "stream",
     "text": [
      "train_accuracy_dt:  100.0 percent\n",
      "validation_accuracy_dt: 93.67percent\n",
      "             precision    recall  f1-score   support\n",
      "\n",
      "          1       0.92      0.92      0.92      7858\n",
      "          2       0.95      0.95      0.95     25967\n",
      "          3       0.92      0.92      0.92     14945\n",
      "\n",
      "avg / total       0.94      0.94      0.94     48770\n",
      "\n"
     ]
    },
    {
     "data": {
      "image/png": "[encoded data removed]",
      "text/plain": [
       "<Figure size 468x684 with 1 Axes>"
      ]
     },
     "metadata": {},
     "output_type": "display_data"
    },
    {
     "data": {
      "text/plain": [
       "<Figure size 360x504 with 0 Axes>"
      ]
     },
     "metadata": {},
     "output_type": "display_data"
    }
   ],
   "source": [
    "clf = DecisionTreeClassifier(criterion='gini',class_weight='balanced')\n",
    "\n",
    "#Using the object created for decision Trees to fit on train data\n",
    "clf.fit(train_split_X, train_split_Y)\n",
    "\n",
    "feat_importance(clf.feature_importances_,\"Decision Tree\")\n",
    "\n",
    "#Using the object created for decision Trees to predict on validation data\n",
    "y_pred_dt = clf.predict(val_split_X)\n",
    "y_pred_dt_test = clf.predict(test_copy)\n",
    "\n",
    "#Using the object created for decision Trees to predict on test data\n",
    "#     test_y_pred_dt = clf.predict(test_data_cluster_4)\n",
    "\n",
    "#Calculating the accuracy of train data\n",
    "acc_dt_train = round( clf.score(train_split_X, train_split_Y) * 100, 2)\n",
    "print ('train_accuracy_dt: ' +' '+str(acc_dt_train) + ' percent')\n",
    "\n",
    "#Calculating the accuracy of validation data\n",
    "acc_dt_validation = accuracy_score(val_split_Y, y_pred_dt)\n",
    "print('validation_accuracy_dt: '+str(round((acc_dt_validation)*100,2)) + 'percent')\n",
    "print(classification_report(val_split_Y, y_pred_dt))"
   ]
  },
  {
   "cell_type": "code",
   "execution_count": 359,
   "metadata": {
    "scrolled": false
   },
   "outputs": [
    {
     "name": "stdout",
     "output_type": "stream",
     "text": [
      "------------------------------ Random Forest\n",
      "train_accuracy_rf:  100.0 percent\n",
      "validation_accuracy_rf: 96.7percent\n",
      "             precision    recall  f1-score   support\n",
      "\n",
      "          1       0.96      0.94      0.95      7858\n",
      "          2       0.97      0.97      0.97     25967\n",
      "          3       0.96      0.97      0.96     14945\n",
      "\n",
      "avg / total       0.97      0.97      0.97     48770\n",
      "\n"
     ]
    },
    {
     "data": {
      "image/png": "[encoded data removed]",
      "text/plain": [
       "<Figure size 468x684 with 1 Axes>"
      ]
     },
     "metadata": {},
     "output_type": "display_data"
    },
    {
     "data": {
      "text/plain": [
       "<Figure size 360x504 with 0 Axes>"
      ]
     },
     "metadata": {},
     "output_type": "display_data"
    }
   ],
   "source": [
    "print(\"-\"*30,\"Random Forest\")\n",
    "# Creating an object for Random Forest\n",
    "# 'n_estimators': 1000, 'min_samples_split': 2, 'min_samples_leaf': 1, 'max_features': 'auto', 'max_depth': 50, 'bootstrap': False\n",
    "clf = RandomForestClassifier(n_estimators= 1000, min_samples_split= 2,min_samples_leaf= 1, max_features= 'auto', max_depth= 50,bootstrap= False,n_jobs=-1,class_weight='balanced',)\n",
    "\n",
    "#Using the object created for Random Forest to fit on train data\n",
    "clf.fit(train_split_X, train_split_Y)\n",
    "\n",
    "#checking the feature importance\n",
    "feat_importance(clf.feature_importances_,\"Random Forest\")\n",
    "\n",
    "#Using the object created for Random Forest to predict on validation data\n",
    "y_pred_rf = clf.predict(val_split_X)\n",
    "y_pred_rf_test = clf.predict(test_copy)\n",
    "\n",
    "#Using the object created for Random Forest to predict on test data\n",
    "#     test_y_pred_rf = clf.predict(test_data_cluster_4)\n",
    "\n",
    "#Calculating the accuracy of train data\n",
    "acc_rf_train = round( clf.score(train_split_X, train_split_Y) * 100, 2)\n",
    "print ('train_accuracy_rf: ' +' '+str(acc_rf_train) + ' percent')\n",
    "\n",
    "#Calculating the accuracy of validation data\n",
    "acc_rf_validation = accuracy_score(val_split_Y, y_pred_rf)\n",
    "print('validation_accuracy_rf: '+str(round((acc_rf_validation)*100,2)) + 'percent')\n",
    "print(classification_report(val_split_Y, y_pred_rf))\n",
    "#     rf_precision,rf_recall,rf_fscore,rf_support = precision_recall_fscore_support(val_split_Y, y_pred_rf, average='micro',labels=[1])\n",
    "#     print(\"Recall: \",rf_recall)\n",
    "#     print(\"Precision: \",rf_precision)"
   ]
  },
  {
   "cell_type": "code",
   "execution_count": null,
   "metadata": {},
   "outputs": [],
   "source": []
  },
  {
   "cell_type": "code",
   "execution_count": 333,
   "metadata": {},
   "outputs": [],
   "source": [
    "submission_df = pd.DataFrame(test_IDs,index=None)"
   ]
  },
  {
   "cell_type": "code",
   "execution_count": 334,
   "metadata": {},
   "outputs": [],
   "source": [
    "submission_df['DrivingStyle'] = y_pred_rf_test"
   ]
  },
  {
   "cell_type": "code",
   "execution_count": 335,
   "metadata": {},
   "outputs": [
    {
     "data": {
      "text/html": [
       "<div>\n",
       "<style scoped>\n",
       "    .dataframe tbody tr th:only-of-type {\n",
       "        vertical-align: middle;\n",
       "    }\n",
       "\n",
       "    .dataframe tbody tr th {\n",
       "        vertical-align: top;\n",
       "    }\n",
       "\n",
       "    .dataframe thead th {\n",
       "        text-align: right;\n",
       "    }\n",
       "</style>\n",
       "<table border=\"1\" class=\"dataframe\">\n",
       "  <thead>\n",
       "    <tr style=\"text-align: right;\">\n",
       "      <th></th>\n",
       "      <th>ID</th>\n",
       "      <th>DrivingStyle</th>\n",
       "    </tr>\n",
       "  </thead>\n",
       "  <tbody>\n",
       "    <tr>\n",
       "      <th>0</th>\n",
       "      <td>DR_79986</td>\n",
       "      <td>3</td>\n",
       "    </tr>\n",
       "    <tr>\n",
       "      <th>1</th>\n",
       "      <td>DR_79986</td>\n",
       "      <td>3</td>\n",
       "    </tr>\n",
       "    <tr>\n",
       "      <th>2</th>\n",
       "      <td>DR_79986</td>\n",
       "      <td>3</td>\n",
       "    </tr>\n",
       "    <tr>\n",
       "      <th>3</th>\n",
       "      <td>DR_79986</td>\n",
       "      <td>3</td>\n",
       "    </tr>\n",
       "    <tr>\n",
       "      <th>4</th>\n",
       "      <td>DR_79986</td>\n",
       "      <td>3</td>\n",
       "    </tr>\n",
       "  </tbody>\n",
       "</table>\n",
       "</div>"
      ],
      "text/plain": [
       "         ID  DrivingStyle\n",
       "0  DR_79986             3\n",
       "1  DR_79986             3\n",
       "2  DR_79986             3\n",
       "3  DR_79986             3\n",
       "4  DR_79986             3"
      ]
     },
     "execution_count": 335,
     "metadata": {},
     "output_type": "execute_result"
    }
   ],
   "source": [
    "submission_df.head()"
   ]
  },
  {
   "cell_type": "code",
   "execution_count": 336,
   "metadata": {},
   "outputs": [],
   "source": [
    "final_submission = submission_df.groupby(['ID'],sort=False).agg(lambda x:x.value_counts().index[0])"
   ]
  },
  {
   "cell_type": "code",
   "execution_count": 337,
   "metadata": {},
   "outputs": [
    {
     "data": {
      "text/html": [
       "<div>\n",
       "<style scoped>\n",
       "    .dataframe tbody tr th:only-of-type {\n",
       "        vertical-align: middle;\n",
       "    }\n",
       "\n",
       "    .dataframe tbody tr th {\n",
       "        vertical-align: top;\n",
       "    }\n",
       "\n",
       "    .dataframe thead th {\n",
       "        text-align: right;\n",
       "    }\n",
       "</style>\n",
       "<table border=\"1\" class=\"dataframe\">\n",
       "  <thead>\n",
       "    <tr style=\"text-align: right;\">\n",
       "      <th></th>\n",
       "      <th>DrivingStyle</th>\n",
       "    </tr>\n",
       "    <tr>\n",
       "      <th>ID</th>\n",
       "      <th></th>\n",
       "    </tr>\n",
       "  </thead>\n",
       "  <tbody>\n",
       "    <tr>\n",
       "      <th>DR_79986</th>\n",
       "      <td>3</td>\n",
       "    </tr>\n",
       "    <tr>\n",
       "      <th>DR_82800</th>\n",
       "      <td>2</td>\n",
       "    </tr>\n",
       "    <tr>\n",
       "      <th>DR_93526</th>\n",
       "      <td>2</td>\n",
       "    </tr>\n",
       "    <tr>\n",
       "      <th>DR_94423</th>\n",
       "      <td>2</td>\n",
       "    </tr>\n",
       "    <tr>\n",
       "      <th>DR_93909</th>\n",
       "      <td>2</td>\n",
       "    </tr>\n",
       "  </tbody>\n",
       "</table>\n",
       "</div>"
      ],
      "text/plain": [
       "          DrivingStyle\n",
       "ID                    \n",
       "DR_79986             3\n",
       "DR_82800             2\n",
       "DR_93526             2\n",
       "DR_94423             2\n",
       "DR_93909             2"
      ]
     },
     "execution_count": 337,
     "metadata": {},
     "output_type": "execute_result"
    }
   ],
   "source": [
    "final_submission.head()"
   ]
  },
  {
   "cell_type": "code",
   "execution_count": 338,
   "metadata": {},
   "outputs": [],
   "source": [
    "final_submission.to_csv(\"final_submission_1.csv\")"
   ]
  },
  {
   "cell_type": "code",
   "execution_count": 228,
   "metadata": {},
   "outputs": [],
   "source": [
    "temp = submission_df.groupby(['ID','DrivingStyle']).size().to_frame()\n",
    "# temp = temp.reset_index()\n",
    "# temp.columns = ['DrivingStyle','weather_road_cond','Count']"
   ]
  },
  {
   "cell_type": "code",
   "execution_count": 247,
   "metadata": {},
   "outputs": [
    {
     "data": {
      "text/html": [
       "<div>\n",
       "<style scoped>\n",
       "    .dataframe tbody tr th:only-of-type {\n",
       "        vertical-align: middle;\n",
       "    }\n",
       "\n",
       "    .dataframe tbody tr th {\n",
       "        vertical-align: top;\n",
       "    }\n",
       "\n",
       "    .dataframe thead th {\n",
       "        text-align: right;\n",
       "    }\n",
       "</style>\n",
       "<table border=\"1\" class=\"dataframe\">\n",
       "  <thead>\n",
       "    <tr style=\"text-align: right;\">\n",
       "      <th></th>\n",
       "      <th>ID</th>\n",
       "      <th>DrivingStyle</th>\n",
       "    </tr>\n",
       "  </thead>\n",
       "  <tbody>\n",
       "    <tr>\n",
       "      <th>0</th>\n",
       "      <td>DR_79986</td>\n",
       "      <td>3</td>\n",
       "    </tr>\n",
       "    <tr>\n",
       "      <th>1</th>\n",
       "      <td>DR_79986</td>\n",
       "      <td>3</td>\n",
       "    </tr>\n",
       "    <tr>\n",
       "      <th>2</th>\n",
       "      <td>DR_79986</td>\n",
       "      <td>3</td>\n",
       "    </tr>\n",
       "    <tr>\n",
       "      <th>3</th>\n",
       "      <td>DR_79986</td>\n",
       "      <td>3</td>\n",
       "    </tr>\n",
       "    <tr>\n",
       "      <th>4</th>\n",
       "      <td>DR_79986</td>\n",
       "      <td>3</td>\n",
       "    </tr>\n",
       "    <tr>\n",
       "      <th>5</th>\n",
       "      <td>DR_79986</td>\n",
       "      <td>3</td>\n",
       "    </tr>\n",
       "    <tr>\n",
       "      <th>6</th>\n",
       "      <td>DR_79986</td>\n",
       "      <td>3</td>\n",
       "    </tr>\n",
       "    <tr>\n",
       "      <th>7</th>\n",
       "      <td>DR_79986</td>\n",
       "      <td>3</td>\n",
       "    </tr>\n",
       "    <tr>\n",
       "      <th>8</th>\n",
       "      <td>DR_79986</td>\n",
       "      <td>3</td>\n",
       "    </tr>\n",
       "    <tr>\n",
       "      <th>9</th>\n",
       "      <td>DR_79986</td>\n",
       "      <td>3</td>\n",
       "    </tr>\n",
       "    <tr>\n",
       "      <th>10</th>\n",
       "      <td>DR_79986</td>\n",
       "      <td>3</td>\n",
       "    </tr>\n",
       "    <tr>\n",
       "      <th>11</th>\n",
       "      <td>DR_79986</td>\n",
       "      <td>3</td>\n",
       "    </tr>\n",
       "    <tr>\n",
       "      <th>12</th>\n",
       "      <td>DR_79986</td>\n",
       "      <td>2</td>\n",
       "    </tr>\n",
       "    <tr>\n",
       "      <th>13</th>\n",
       "      <td>DR_82800</td>\n",
       "      <td>2</td>\n",
       "    </tr>\n",
       "    <tr>\n",
       "      <th>14</th>\n",
       "      <td>DR_82800</td>\n",
       "      <td>2</td>\n",
       "    </tr>\n",
       "    <tr>\n",
       "      <th>15</th>\n",
       "      <td>DR_82800</td>\n",
       "      <td>2</td>\n",
       "    </tr>\n",
       "    <tr>\n",
       "      <th>16</th>\n",
       "      <td>DR_82800</td>\n",
       "      <td>2</td>\n",
       "    </tr>\n",
       "    <tr>\n",
       "      <th>17</th>\n",
       "      <td>DR_82800</td>\n",
       "      <td>2</td>\n",
       "    </tr>\n",
       "    <tr>\n",
       "      <th>18</th>\n",
       "      <td>DR_82800</td>\n",
       "      <td>2</td>\n",
       "    </tr>\n",
       "    <tr>\n",
       "      <th>19</th>\n",
       "      <td>DR_82800</td>\n",
       "      <td>2</td>\n",
       "    </tr>\n",
       "  </tbody>\n",
       "</table>\n",
       "</div>"
      ],
      "text/plain": [
       "          ID  DrivingStyle\n",
       "0   DR_79986             3\n",
       "1   DR_79986             3\n",
       "2   DR_79986             3\n",
       "3   DR_79986             3\n",
       "4   DR_79986             3\n",
       "5   DR_79986             3\n",
       "6   DR_79986             3\n",
       "7   DR_79986             3\n",
       "8   DR_79986             3\n",
       "9   DR_79986             3\n",
       "10  DR_79986             3\n",
       "11  DR_79986             3\n",
       "12  DR_79986             2\n",
       "13  DR_82800             2\n",
       "14  DR_82800             2\n",
       "15  DR_82800             2\n",
       "16  DR_82800             2\n",
       "17  DR_82800             2\n",
       "18  DR_82800             2\n",
       "19  DR_82800             2"
      ]
     },
     "execution_count": 247,
     "metadata": {},
     "output_type": "execute_result"
    }
   ],
   "source": [
    "submission_df.head(20)"
   ]
  },
  {
   "cell_type": "code",
   "execution_count": 684,
   "metadata": {},
   "outputs": [
    {
     "data": {
      "text/plain": [
       "Index(['ID', 'vehicle_length_cm', 'vehicle_weight_kg', 'number_of_axles',\n",
       "       'DrivingStyle', 'trip_datetime', 'lane_no', 'vehicle_speed',\n",
       "       'pvehicle_id', 'pvehicle_speed_kph', 'pvehicle_weight_kg',\n",
       "       'pvehicle_length_cm', 'pvehicle_timegap', 'weather_road_cond',\n",
       "       'air_temp', 'prep_type', 'prep_intensity', 'realtive_humidity',\n",
       "       'wind_direction', 'wind_speed_ms', 'daylight_cond', 'trip_date',\n",
       "       'trip_date_day', 'trip_month', 'trip_year', 'trip_time', 'trip_hour',\n",
       "       'trip_minute', 'trip_sec', 'speed_difference', 'distance',\n",
       "       'binned_distance'],\n",
       "      dtype='object')"
      ]
     },
     "execution_count": 684,
     "metadata": {},
     "output_type": "execute_result"
    }
   ],
   "source": [
    "data.columns"
   ]
  },
  {
   "cell_type": "code",
   "execution_count": 689,
   "metadata": {},
   "outputs": [],
   "source": [
    "from statistics import mean,mode"
   ]
  },
  {
   "cell_type": "code",
   "execution_count": 690,
   "metadata": {
    "collapsed": true
   },
   "outputs": [
    {
     "ename": "TypeError",
     "evalue": "can't convert type 'str' to numerator/denominator",
     "output_type": "error",
     "traceback": [
      "\u001b[1;31m---------------------------------------------------------------------------\u001b[0m",
      "\u001b[1;31mTypeError\u001b[0m                                 Traceback (most recent call last)",
      "\u001b[1;32m<ipython-input-690-dfbf11273ccb>\u001b[0m in \u001b[0;36m<module>\u001b[1;34m()\u001b[0m\n\u001b[1;32m----> 1\u001b[1;33m \u001b[0mtemp\u001b[0m \u001b[1;33m=\u001b[0m \u001b[0mdata\u001b[0m\u001b[1;33m.\u001b[0m\u001b[0mgroupby\u001b[0m\u001b[1;33m(\u001b[0m\u001b[1;33m[\u001b[0m\u001b[1;34m'ID'\u001b[0m\u001b[1;33m,\u001b[0m\u001b[1;34m'DrivingStyle'\u001b[0m\u001b[1;33m,\u001b[0m\u001b[1;34m'vehicle_length_cm'\u001b[0m\u001b[1;33m,\u001b[0m \u001b[1;34m'vehicle_weight_kg'\u001b[0m\u001b[1;33m,\u001b[0m \u001b[1;34m'number_of_axles'\u001b[0m\u001b[1;33m]\u001b[0m\u001b[1;33m)\u001b[0m\u001b[1;33m.\u001b[0m\u001b[0magg\u001b[0m\u001b[1;33m(\u001b[0m\u001b[0mmode\u001b[0m\u001b[1;33m(\u001b[0m\u001b[1;34m'lane_no'\u001b[0m\u001b[1;33m)\u001b[0m\u001b[1;33m,\u001b[0m                                                    \u001b[0mmean\u001b[0m\u001b[1;33m(\u001b[0m\u001b[1;34m'vehicle_speed'\u001b[0m\u001b[1;33m)\u001b[0m\u001b[1;33m,\u001b[0m                                                    \u001b[0mmode\u001b[0m\u001b[1;33m(\u001b[0m\u001b[1;34m'weather_road_cond'\u001b[0m\u001b[1;33m)\u001b[0m\u001b[1;33m,\u001b[0m                                                    \u001b[0mmean\u001b[0m\u001b[1;33m(\u001b[0m\u001b[1;34m'air_temp'\u001b[0m\u001b[1;33m)\u001b[0m\u001b[1;33m,\u001b[0m                                                    \u001b[0mmode\u001b[0m\u001b[1;33m(\u001b[0m\u001b[1;34m'prep_type'\u001b[0m\u001b[1;33m)\u001b[0m\u001b[1;33m,\u001b[0m                                                    \u001b[0mmode\u001b[0m\u001b[1;33m(\u001b[0m\u001b[1;34m'prep_intensity'\u001b[0m\u001b[1;33m)\u001b[0m\u001b[1;33m,\u001b[0m                                                    \u001b[0mmean\u001b[0m\u001b[1;33m(\u001b[0m\u001b[1;34m'realtive_humidity'\u001b[0m\u001b[1;33m,\u001b[0m                                                    \u001b[0mmean\u001b[0m\u001b[1;33m(\u001b[0m\u001b[1;34m'wind_direction'\u001b[0m\u001b[1;33m)\u001b[0m\u001b[1;33m,\u001b[0m                                                    \u001b[0mmean\u001b[0m\u001b[1;33m(\u001b[0m\u001b[1;34m'wind_speed_ms'\u001b[0m\u001b[1;33m)\u001b[0m\u001b[1;33m,\u001b[0m                                                    \u001b[0mmode\u001b[0m\u001b[1;33m(\u001b[0m\u001b[1;34m'daylight_cond'\u001b[0m\u001b[1;33m)\u001b[0m\u001b[1;33m)\u001b[0m\u001b[1;33m)\u001b[0m\u001b[1;33m.\u001b[0m\u001b[0msize\u001b[0m\u001b[1;33m(\u001b[0m\u001b[1;33m)\u001b[0m\u001b[1;33m.\u001b[0m\u001b[0mto_frame\u001b[0m\u001b[1;33m(\u001b[0m\u001b[1;33m)\u001b[0m\u001b[1;33m\u001b[0m\u001b[0m\n\u001b[0m",
      "\u001b[1;32mD:\\Users\\BULLET\\Anaconda3\\lib\\statistics.py\u001b[0m in \u001b[0;36mmean\u001b[1;34m(data)\u001b[0m\n\u001b[0;32m    310\u001b[0m     \u001b[1;32mif\u001b[0m \u001b[0mn\u001b[0m \u001b[1;33m<\u001b[0m \u001b[1;36m1\u001b[0m\u001b[1;33m:\u001b[0m\u001b[1;33m\u001b[0m\u001b[0m\n\u001b[0;32m    311\u001b[0m         \u001b[1;32mraise\u001b[0m \u001b[0mStatisticsError\u001b[0m\u001b[1;33m(\u001b[0m\u001b[1;34m'mean requires at least one data point'\u001b[0m\u001b[1;33m)\u001b[0m\u001b[1;33m\u001b[0m\u001b[0m\n\u001b[1;32m--> 312\u001b[1;33m     \u001b[0mT\u001b[0m\u001b[1;33m,\u001b[0m \u001b[0mtotal\u001b[0m\u001b[1;33m,\u001b[0m \u001b[0mcount\u001b[0m \u001b[1;33m=\u001b[0m \u001b[0m_sum\u001b[0m\u001b[1;33m(\u001b[0m\u001b[0mdata\u001b[0m\u001b[1;33m)\u001b[0m\u001b[1;33m\u001b[0m\u001b[0m\n\u001b[0m\u001b[0;32m    313\u001b[0m     \u001b[1;32massert\u001b[0m \u001b[0mcount\u001b[0m \u001b[1;33m==\u001b[0m \u001b[0mn\u001b[0m\u001b[1;33m\u001b[0m\u001b[0m\n\u001b[0;32m    314\u001b[0m     \u001b[1;32mreturn\u001b[0m \u001b[0m_convert\u001b[0m\u001b[1;33m(\u001b[0m\u001b[0mtotal\u001b[0m\u001b[1;33m/\u001b[0m\u001b[0mn\u001b[0m\u001b[1;33m,\u001b[0m \u001b[0mT\u001b[0m\u001b[1;33m)\u001b[0m\u001b[1;33m\u001b[0m\u001b[0m\n",
      "\u001b[1;32mD:\\Users\\BULLET\\Anaconda3\\lib\\statistics.py\u001b[0m in \u001b[0;36m_sum\u001b[1;34m(data, start)\u001b[0m\n\u001b[0;32m    146\u001b[0m     \u001b[1;32mfor\u001b[0m \u001b[0mtyp\u001b[0m\u001b[1;33m,\u001b[0m \u001b[0mvalues\u001b[0m \u001b[1;32min\u001b[0m \u001b[0mgroupby\u001b[0m\u001b[1;33m(\u001b[0m\u001b[0mdata\u001b[0m\u001b[1;33m,\u001b[0m \u001b[0mtype\u001b[0m\u001b[1;33m)\u001b[0m\u001b[1;33m:\u001b[0m\u001b[1;33m\u001b[0m\u001b[0m\n\u001b[0;32m    147\u001b[0m         \u001b[0mT\u001b[0m \u001b[1;33m=\u001b[0m \u001b[0m_coerce\u001b[0m\u001b[1;33m(\u001b[0m\u001b[0mT\u001b[0m\u001b[1;33m,\u001b[0m \u001b[0mtyp\u001b[0m\u001b[1;33m)\u001b[0m  \u001b[1;31m# or raise TypeError\u001b[0m\u001b[1;33m\u001b[0m\u001b[0m\n\u001b[1;32m--> 148\u001b[1;33m         \u001b[1;32mfor\u001b[0m \u001b[0mn\u001b[0m\u001b[1;33m,\u001b[0m\u001b[0md\u001b[0m \u001b[1;32min\u001b[0m \u001b[0mmap\u001b[0m\u001b[1;33m(\u001b[0m\u001b[0m_exact_ratio\u001b[0m\u001b[1;33m,\u001b[0m \u001b[0mvalues\u001b[0m\u001b[1;33m)\u001b[0m\u001b[1;33m:\u001b[0m\u001b[1;33m\u001b[0m\u001b[0m\n\u001b[0m\u001b[0;32m    149\u001b[0m             \u001b[0mcount\u001b[0m \u001b[1;33m+=\u001b[0m \u001b[1;36m1\u001b[0m\u001b[1;33m\u001b[0m\u001b[0m\n\u001b[0;32m    150\u001b[0m             \u001b[0mpartials\u001b[0m\u001b[1;33m[\u001b[0m\u001b[0md\u001b[0m\u001b[1;33m]\u001b[0m \u001b[1;33m=\u001b[0m \u001b[0mpartials_get\u001b[0m\u001b[1;33m(\u001b[0m\u001b[0md\u001b[0m\u001b[1;33m,\u001b[0m \u001b[1;36m0\u001b[0m\u001b[1;33m)\u001b[0m \u001b[1;33m+\u001b[0m \u001b[0mn\u001b[0m\u001b[1;33m\u001b[0m\u001b[0m\n",
      "\u001b[1;32mD:\\Users\\BULLET\\Anaconda3\\lib\\statistics.py\u001b[0m in \u001b[0;36m_exact_ratio\u001b[1;34m(x)\u001b[0m\n\u001b[0;32m    228\u001b[0m         \u001b[1;32mreturn\u001b[0m \u001b[1;33m(\u001b[0m\u001b[0mx\u001b[0m\u001b[1;33m,\u001b[0m \u001b[1;32mNone\u001b[0m\u001b[1;33m)\u001b[0m\u001b[1;33m\u001b[0m\u001b[0m\n\u001b[0;32m    229\u001b[0m     \u001b[0mmsg\u001b[0m \u001b[1;33m=\u001b[0m \u001b[1;34m\"can't convert type '{}' to numerator/denominator\"\u001b[0m\u001b[1;33m\u001b[0m\u001b[0m\n\u001b[1;32m--> 230\u001b[1;33m     \u001b[1;32mraise\u001b[0m \u001b[0mTypeError\u001b[0m\u001b[1;33m(\u001b[0m\u001b[0mmsg\u001b[0m\u001b[1;33m.\u001b[0m\u001b[0mformat\u001b[0m\u001b[1;33m(\u001b[0m\u001b[0mtype\u001b[0m\u001b[1;33m(\u001b[0m\u001b[0mx\u001b[0m\u001b[1;33m)\u001b[0m\u001b[1;33m.\u001b[0m\u001b[0m__name__\u001b[0m\u001b[1;33m)\u001b[0m\u001b[1;33m)\u001b[0m\u001b[1;33m\u001b[0m\u001b[0m\n\u001b[0m\u001b[0;32m    231\u001b[0m \u001b[1;33m\u001b[0m\u001b[0m\n\u001b[0;32m    232\u001b[0m \u001b[1;33m\u001b[0m\u001b[0m\n",
      "\u001b[1;31mTypeError\u001b[0m: can't convert type 'str' to numerator/denominator"
     ]
    }
   ],
   "source": [
    "temp = data.groupby(['ID','DrivingStyle','vehicle_length_cm', 'vehicle_weight_kg', 'number_of_axles']).agg(mode('lane_no'),\\\n",
    "                                                    mean('vehicle_speed'),\\\n",
    "                                                    mode('weather_road_cond'),\\\n",
    "                                                    mean('air_temp'),\\\n",
    "                                                    mode('prep_type'),\\\n",
    "                                                    mode('prep_intensity'),\\\n",
    "                                                    mean('realtive_humidity',\\\n",
    "                                                    mean('wind_direction'),\\\n",
    "                                                    mean('wind_speed_ms'),\\\n",
    "                                                    mode('daylight_cond'))).size().to_frame()"
   ]
  },
  {
   "cell_type": "code",
   "execution_count": 731,
   "metadata": {
    "scrolled": false
   },
   "outputs": [],
   "source": [
    "temp = data.groupby(['ID','vehicle_length_cm', 'vehicle_weight_kg', 'number_of_axles']) \\\n",
    "  .apply(lambda x: pd.DataFrame({\n",
    "    'ID'               : x['ID'],\n",
    "    'vehicle_length_cm': x['vehicle_length_cm'].mean(),\n",
    "    'vehicle_weight_kg': x['vehicle_weight_kg'].mean(),\n",
    "    'number_of_axles'  : x['number_of_axles'].mode(),\n",
    "    'lane_no'          : x['lane_no'].mode(),\n",
    "    'vehicle_speed'    : x['vehicle_speed'].mean(),\n",
    "    'weather_road_cond': x['weather_road_cond'].mode(),\n",
    "    'air_temp'         : x['air_temp'].mean(),\n",
    "    'prep_type'        : x['prep_type'].mode(),\n",
    "    'prep_intensity'   : x['prep_intensity'].mode(),\n",
    "    'realtive_humidity': x['realtive_humidity'].mean(),\n",
    "    'wind_direction'   : x['wind_direction'].mean(),\n",
    "    'wind_speed_ms'    : x['wind_speed_ms'].mean(),\n",
    "    'daylight_cond'    : x['daylight_cond'].mode(),\n",
    "    'DrivingStyle'     : x['DrivingStyle'].mode()\n",
    "  })\n",
    ")"
   ]
  },
  {
   "cell_type": "code",
   "execution_count": 734,
   "metadata": {},
   "outputs": [],
   "source": [
    "temp = data.groupby(['ID','vehicle_length_cm', 'vehicle_weight_kg', 'number_of_axles']) \\\n",
    "  .apply(lambda x: pd.DataFrame({\n",
    "    'ID'               : x['ID'],\n",
    "    'lane_no'          : x['lane_no'].mode(),\n",
    "    'vehicle_speed'    : x['vehicle_speed'].mean(),\n",
    "    'weather_road_cond': x['weather_road_cond'].mode(),\n",
    "    'air_temp'         : x['air_temp'].mean(),\n",
    "    'prep_type'        : x['prep_type'].mode(),\n",
    "    'prep_intensity'   : x['prep_intensity'].mode(),\n",
    "    'realtive_humidity': x['realtive_humidity'].mean(),\n",
    "    'wind_direction'   : x['wind_direction'].mean(),\n",
    "    'wind_speed_ms'    : x['wind_speed_ms'].mean(),\n",
    "    'daylight_cond'    : x['daylight_cond'].mode(),\n",
    "    'DrivingStyle'     : x['DrivingStyle'].mode()\n",
    "  })\n",
    ")"
   ]
  },
  {
   "cell_type": "code",
   "execution_count": 733,
   "metadata": {
    "scrolled": false
   },
   "outputs": [
    {
     "data": {
      "text/html": [
       "<div>\n",
       "<style scoped>\n",
       "    .dataframe tbody tr th:only-of-type {\n",
       "        vertical-align: middle;\n",
       "    }\n",
       "\n",
       "    .dataframe tbody tr th {\n",
       "        vertical-align: top;\n",
       "    }\n",
       "\n",
       "    .dataframe thead th {\n",
       "        text-align: right;\n",
       "    }\n",
       "</style>\n",
       "<table border=\"1\" class=\"dataframe\">\n",
       "  <thead>\n",
       "    <tr style=\"text-align: right;\">\n",
       "      <th></th>\n",
       "      <th></th>\n",
       "      <th></th>\n",
       "      <th></th>\n",
       "      <th></th>\n",
       "      <th>ID</th>\n",
       "      <th>vehicle_length_cm</th>\n",
       "      <th>vehicle_weight_kg</th>\n",
       "      <th>number_of_axles</th>\n",
       "      <th>lane_no</th>\n",
       "      <th>vehicle_speed</th>\n",
       "      <th>weather_road_cond</th>\n",
       "      <th>air_temp</th>\n",
       "      <th>prep_type</th>\n",
       "      <th>prep_intensity</th>\n",
       "      <th>realtive_humidity</th>\n",
       "      <th>wind_direction</th>\n",
       "      <th>wind_speed_ms</th>\n",
       "      <th>daylight_cond</th>\n",
       "      <th>DrivingStyle</th>\n",
       "    </tr>\n",
       "    <tr>\n",
       "      <th>ID</th>\n",
       "      <th>vehicle_length_cm</th>\n",
       "      <th>vehicle_weight_kg</th>\n",
       "      <th>number_of_axles</th>\n",
       "      <th></th>\n",
       "      <th></th>\n",
       "      <th></th>\n",
       "      <th></th>\n",
       "      <th></th>\n",
       "      <th></th>\n",
       "      <th></th>\n",
       "      <th></th>\n",
       "      <th></th>\n",
       "      <th></th>\n",
       "      <th></th>\n",
       "      <th></th>\n",
       "      <th></th>\n",
       "      <th></th>\n",
       "      <th></th>\n",
       "      <th></th>\n",
       "    </tr>\n",
       "  </thead>\n",
       "  <tbody>\n",
       "    <tr>\n",
       "      <th rowspan=\"10\" valign=\"top\">DR_10013</th>\n",
       "      <th rowspan=\"10\" valign=\"top\">1709</th>\n",
       "      <th rowspan=\"10\" valign=\"top\">18599</th>\n",
       "      <th rowspan=\"10\" valign=\"top\">6</th>\n",
       "      <th>0</th>\n",
       "      <td>NaN</td>\n",
       "      <td>1709.0</td>\n",
       "      <td>18599.0</td>\n",
       "      <td>6.0</td>\n",
       "      <td>1.0</td>\n",
       "      <td>86.555556</td>\n",
       "      <td>Dry</td>\n",
       "      <td>4.0</td>\n",
       "      <td>clear</td>\n",
       "      <td>None</td>\n",
       "      <td>58.0</td>\n",
       "      <td>163.0</td>\n",
       "      <td>8.0</td>\n",
       "      <td>night</td>\n",
       "      <td>3.0</td>\n",
       "    </tr>\n",
       "    <tr>\n",
       "      <th>93208</th>\n",
       "      <td>DR_10013</td>\n",
       "      <td>1709.0</td>\n",
       "      <td>18599.0</td>\n",
       "      <td>NaN</td>\n",
       "      <td>NaN</td>\n",
       "      <td>86.555556</td>\n",
       "      <td>NaN</td>\n",
       "      <td>4.0</td>\n",
       "      <td>NaN</td>\n",
       "      <td>NaN</td>\n",
       "      <td>58.0</td>\n",
       "      <td>163.0</td>\n",
       "      <td>8.0</td>\n",
       "      <td>NaN</td>\n",
       "      <td>NaN</td>\n",
       "    </tr>\n",
       "    <tr>\n",
       "      <th>93209</th>\n",
       "      <td>DR_10013</td>\n",
       "      <td>1709.0</td>\n",
       "      <td>18599.0</td>\n",
       "      <td>NaN</td>\n",
       "      <td>NaN</td>\n",
       "      <td>86.555556</td>\n",
       "      <td>NaN</td>\n",
       "      <td>4.0</td>\n",
       "      <td>NaN</td>\n",
       "      <td>NaN</td>\n",
       "      <td>58.0</td>\n",
       "      <td>163.0</td>\n",
       "      <td>8.0</td>\n",
       "      <td>NaN</td>\n",
       "      <td>NaN</td>\n",
       "    </tr>\n",
       "    <tr>\n",
       "      <th>93210</th>\n",
       "      <td>DR_10013</td>\n",
       "      <td>1709.0</td>\n",
       "      <td>18599.0</td>\n",
       "      <td>NaN</td>\n",
       "      <td>NaN</td>\n",
       "      <td>86.555556</td>\n",
       "      <td>NaN</td>\n",
       "      <td>4.0</td>\n",
       "      <td>NaN</td>\n",
       "      <td>NaN</td>\n",
       "      <td>58.0</td>\n",
       "      <td>163.0</td>\n",
       "      <td>8.0</td>\n",
       "      <td>NaN</td>\n",
       "      <td>NaN</td>\n",
       "    </tr>\n",
       "    <tr>\n",
       "      <th>93211</th>\n",
       "      <td>DR_10013</td>\n",
       "      <td>1709.0</td>\n",
       "      <td>18599.0</td>\n",
       "      <td>NaN</td>\n",
       "      <td>NaN</td>\n",
       "      <td>86.555556</td>\n",
       "      <td>NaN</td>\n",
       "      <td>4.0</td>\n",
       "      <td>NaN</td>\n",
       "      <td>NaN</td>\n",
       "      <td>58.0</td>\n",
       "      <td>163.0</td>\n",
       "      <td>8.0</td>\n",
       "      <td>NaN</td>\n",
       "      <td>NaN</td>\n",
       "    </tr>\n",
       "    <tr>\n",
       "      <th>93212</th>\n",
       "      <td>DR_10013</td>\n",
       "      <td>1709.0</td>\n",
       "      <td>18599.0</td>\n",
       "      <td>NaN</td>\n",
       "      <td>NaN</td>\n",
       "      <td>86.555556</td>\n",
       "      <td>NaN</td>\n",
       "      <td>4.0</td>\n",
       "      <td>NaN</td>\n",
       "      <td>NaN</td>\n",
       "      <td>58.0</td>\n",
       "      <td>163.0</td>\n",
       "      <td>8.0</td>\n",
       "      <td>NaN</td>\n",
       "      <td>NaN</td>\n",
       "    </tr>\n",
       "    <tr>\n",
       "      <th>93213</th>\n",
       "      <td>DR_10013</td>\n",
       "      <td>1709.0</td>\n",
       "      <td>18599.0</td>\n",
       "      <td>NaN</td>\n",
       "      <td>NaN</td>\n",
       "      <td>86.555556</td>\n",
       "      <td>NaN</td>\n",
       "      <td>4.0</td>\n",
       "      <td>NaN</td>\n",
       "      <td>NaN</td>\n",
       "      <td>58.0</td>\n",
       "      <td>163.0</td>\n",
       "      <td>8.0</td>\n",
       "      <td>NaN</td>\n",
       "      <td>NaN</td>\n",
       "    </tr>\n",
       "    <tr>\n",
       "      <th>93214</th>\n",
       "      <td>DR_10013</td>\n",
       "      <td>1709.0</td>\n",
       "      <td>18599.0</td>\n",
       "      <td>NaN</td>\n",
       "      <td>NaN</td>\n",
       "      <td>86.555556</td>\n",
       "      <td>NaN</td>\n",
       "      <td>4.0</td>\n",
       "      <td>NaN</td>\n",
       "      <td>NaN</td>\n",
       "      <td>58.0</td>\n",
       "      <td>163.0</td>\n",
       "      <td>8.0</td>\n",
       "      <td>NaN</td>\n",
       "      <td>NaN</td>\n",
       "    </tr>\n",
       "    <tr>\n",
       "      <th>93215</th>\n",
       "      <td>DR_10013</td>\n",
       "      <td>1709.0</td>\n",
       "      <td>18599.0</td>\n",
       "      <td>NaN</td>\n",
       "      <td>NaN</td>\n",
       "      <td>86.555556</td>\n",
       "      <td>NaN</td>\n",
       "      <td>4.0</td>\n",
       "      <td>NaN</td>\n",
       "      <td>NaN</td>\n",
       "      <td>58.0</td>\n",
       "      <td>163.0</td>\n",
       "      <td>8.0</td>\n",
       "      <td>NaN</td>\n",
       "      <td>NaN</td>\n",
       "    </tr>\n",
       "    <tr>\n",
       "      <th>93216</th>\n",
       "      <td>DR_10013</td>\n",
       "      <td>1709.0</td>\n",
       "      <td>18599.0</td>\n",
       "      <td>NaN</td>\n",
       "      <td>NaN</td>\n",
       "      <td>86.555556</td>\n",
       "      <td>NaN</td>\n",
       "      <td>4.0</td>\n",
       "      <td>NaN</td>\n",
       "      <td>NaN</td>\n",
       "      <td>58.0</td>\n",
       "      <td>163.0</td>\n",
       "      <td>8.0</td>\n",
       "      <td>NaN</td>\n",
       "      <td>NaN</td>\n",
       "    </tr>\n",
       "    <tr>\n",
       "      <th rowspan=\"7\" valign=\"top\">DR_10024</th>\n",
       "      <th rowspan=\"7\" valign=\"top\">1768</th>\n",
       "      <th rowspan=\"7\" valign=\"top\">14588</th>\n",
       "      <th rowspan=\"7\" valign=\"top\">5</th>\n",
       "      <th>0</th>\n",
       "      <td>NaN</td>\n",
       "      <td>1768.0</td>\n",
       "      <td>14588.0</td>\n",
       "      <td>5.0</td>\n",
       "      <td>1.0</td>\n",
       "      <td>86.666667</td>\n",
       "      <td>Dry</td>\n",
       "      <td>5.0</td>\n",
       "      <td>snow</td>\n",
       "      <td>None</td>\n",
       "      <td>61.0</td>\n",
       "      <td>180.0</td>\n",
       "      <td>4.0</td>\n",
       "      <td>twilight</td>\n",
       "      <td>1.0</td>\n",
       "    </tr>\n",
       "    <tr>\n",
       "      <th>17429</th>\n",
       "      <td>DR_10024</td>\n",
       "      <td>1768.0</td>\n",
       "      <td>14588.0</td>\n",
       "      <td>NaN</td>\n",
       "      <td>NaN</td>\n",
       "      <td>86.666667</td>\n",
       "      <td>NaN</td>\n",
       "      <td>5.0</td>\n",
       "      <td>NaN</td>\n",
       "      <td>NaN</td>\n",
       "      <td>61.0</td>\n",
       "      <td>180.0</td>\n",
       "      <td>4.0</td>\n",
       "      <td>NaN</td>\n",
       "      <td>NaN</td>\n",
       "    </tr>\n",
       "    <tr>\n",
       "      <th>17430</th>\n",
       "      <td>DR_10024</td>\n",
       "      <td>1768.0</td>\n",
       "      <td>14588.0</td>\n",
       "      <td>NaN</td>\n",
       "      <td>NaN</td>\n",
       "      <td>86.666667</td>\n",
       "      <td>NaN</td>\n",
       "      <td>5.0</td>\n",
       "      <td>NaN</td>\n",
       "      <td>NaN</td>\n",
       "      <td>61.0</td>\n",
       "      <td>180.0</td>\n",
       "      <td>4.0</td>\n",
       "      <td>NaN</td>\n",
       "      <td>NaN</td>\n",
       "    </tr>\n",
       "    <tr>\n",
       "      <th>17431</th>\n",
       "      <td>DR_10024</td>\n",
       "      <td>1768.0</td>\n",
       "      <td>14588.0</td>\n",
       "      <td>NaN</td>\n",
       "      <td>NaN</td>\n",
       "      <td>86.666667</td>\n",
       "      <td>NaN</td>\n",
       "      <td>5.0</td>\n",
       "      <td>NaN</td>\n",
       "      <td>NaN</td>\n",
       "      <td>61.0</td>\n",
       "      <td>180.0</td>\n",
       "      <td>4.0</td>\n",
       "      <td>NaN</td>\n",
       "      <td>NaN</td>\n",
       "    </tr>\n",
       "    <tr>\n",
       "      <th>17432</th>\n",
       "      <td>DR_10024</td>\n",
       "      <td>1768.0</td>\n",
       "      <td>14588.0</td>\n",
       "      <td>NaN</td>\n",
       "      <td>NaN</td>\n",
       "      <td>86.666667</td>\n",
       "      <td>NaN</td>\n",
       "      <td>5.0</td>\n",
       "      <td>NaN</td>\n",
       "      <td>NaN</td>\n",
       "      <td>61.0</td>\n",
       "      <td>180.0</td>\n",
       "      <td>4.0</td>\n",
       "      <td>NaN</td>\n",
       "      <td>NaN</td>\n",
       "    </tr>\n",
       "    <tr>\n",
       "      <th>17433</th>\n",
       "      <td>DR_10024</td>\n",
       "      <td>1768.0</td>\n",
       "      <td>14588.0</td>\n",
       "      <td>NaN</td>\n",
       "      <td>NaN</td>\n",
       "      <td>86.666667</td>\n",
       "      <td>NaN</td>\n",
       "      <td>5.0</td>\n",
       "      <td>NaN</td>\n",
       "      <td>NaN</td>\n",
       "      <td>61.0</td>\n",
       "      <td>180.0</td>\n",
       "      <td>4.0</td>\n",
       "      <td>NaN</td>\n",
       "      <td>NaN</td>\n",
       "    </tr>\n",
       "    <tr>\n",
       "      <th>17434</th>\n",
       "      <td>DR_10024</td>\n",
       "      <td>1768.0</td>\n",
       "      <td>14588.0</td>\n",
       "      <td>NaN</td>\n",
       "      <td>NaN</td>\n",
       "      <td>86.666667</td>\n",
       "      <td>NaN</td>\n",
       "      <td>5.0</td>\n",
       "      <td>NaN</td>\n",
       "      <td>NaN</td>\n",
       "      <td>61.0</td>\n",
       "      <td>180.0</td>\n",
       "      <td>4.0</td>\n",
       "      <td>NaN</td>\n",
       "      <td>NaN</td>\n",
       "    </tr>\n",
       "    <tr>\n",
       "      <th rowspan=\"3\" valign=\"top\">DR_10025</th>\n",
       "      <th rowspan=\"3\" valign=\"top\">1734</th>\n",
       "      <th rowspan=\"3\" valign=\"top\">16708</th>\n",
       "      <th rowspan=\"3\" valign=\"top\">5</th>\n",
       "      <th>0</th>\n",
       "      <td>NaN</td>\n",
       "      <td>1734.0</td>\n",
       "      <td>16708.0</td>\n",
       "      <td>5.0</td>\n",
       "      <td>1.0</td>\n",
       "      <td>81.500000</td>\n",
       "      <td>Wet</td>\n",
       "      <td>1.0</td>\n",
       "      <td>clear</td>\n",
       "      <td>None</td>\n",
       "      <td>87.0</td>\n",
       "      <td>11.0</td>\n",
       "      <td>3.0</td>\n",
       "      <td>night</td>\n",
       "      <td>3.0</td>\n",
       "    </tr>\n",
       "    <tr>\n",
       "      <th>102026</th>\n",
       "      <td>DR_10025</td>\n",
       "      <td>1734.0</td>\n",
       "      <td>16708.0</td>\n",
       "      <td>NaN</td>\n",
       "      <td>NaN</td>\n",
       "      <td>81.500000</td>\n",
       "      <td>NaN</td>\n",
       "      <td>1.0</td>\n",
       "      <td>NaN</td>\n",
       "      <td>NaN</td>\n",
       "      <td>87.0</td>\n",
       "      <td>11.0</td>\n",
       "      <td>3.0</td>\n",
       "      <td>NaN</td>\n",
       "      <td>NaN</td>\n",
       "    </tr>\n",
       "    <tr>\n",
       "      <th>102027</th>\n",
       "      <td>DR_10025</td>\n",
       "      <td>1734.0</td>\n",
       "      <td>16708.0</td>\n",
       "      <td>NaN</td>\n",
       "      <td>NaN</td>\n",
       "      <td>81.500000</td>\n",
       "      <td>NaN</td>\n",
       "      <td>1.0</td>\n",
       "      <td>NaN</td>\n",
       "      <td>NaN</td>\n",
       "      <td>87.0</td>\n",
       "      <td>11.0</td>\n",
       "      <td>3.0</td>\n",
       "      <td>NaN</td>\n",
       "      <td>NaN</td>\n",
       "    </tr>\n",
       "  </tbody>\n",
       "</table>\n",
       "</div>"
      ],
      "text/plain": [
       "                                                                           ID  \\\n",
       "ID       vehicle_length_cm vehicle_weight_kg number_of_axles                    \n",
       "DR_10013 1709              18599             6               0            NaN   \n",
       "                                                             93208   DR_10013   \n",
       "                                                             93209   DR_10013   \n",
       "                                                             93210   DR_10013   \n",
       "                                                             93211   DR_10013   \n",
       "                                                             93212   DR_10013   \n",
       "                                                             93213   DR_10013   \n",
       "                                                             93214   DR_10013   \n",
       "                                                             93215   DR_10013   \n",
       "                                                             93216   DR_10013   \n",
       "DR_10024 1768              14588             5               0            NaN   \n",
       "                                                             17429   DR_10024   \n",
       "                                                             17430   DR_10024   \n",
       "                                                             17431   DR_10024   \n",
       "                                                             17432   DR_10024   \n",
       "                                                             17433   DR_10024   \n",
       "                                                             17434   DR_10024   \n",
       "DR_10025 1734              16708             5               0            NaN   \n",
       "                                                             102026  DR_10025   \n",
       "                                                             102027  DR_10025   \n",
       "\n",
       "                                                                     vehicle_length_cm  \\\n",
       "ID       vehicle_length_cm vehicle_weight_kg number_of_axles                             \n",
       "DR_10013 1709              18599             6               0                  1709.0   \n",
       "                                                             93208              1709.0   \n",
       "                                                             93209              1709.0   \n",
       "                                                             93210              1709.0   \n",
       "                                                             93211              1709.0   \n",
       "                                                             93212              1709.0   \n",
       "                                                             93213              1709.0   \n",
       "                                                             93214              1709.0   \n",
       "                                                             93215              1709.0   \n",
       "                                                             93216              1709.0   \n",
       "DR_10024 1768              14588             5               0                  1768.0   \n",
       "                                                             17429              1768.0   \n",
       "                                                             17430              1768.0   \n",
       "                                                             17431              1768.0   \n",
       "                                                             17432              1768.0   \n",
       "                                                             17433              1768.0   \n",
       "                                                             17434              1768.0   \n",
       "DR_10025 1734              16708             5               0                  1734.0   \n",
       "                                                             102026             1734.0   \n",
       "                                                             102027             1734.0   \n",
       "\n",
       "                                                                     vehicle_weight_kg  \\\n",
       "ID       vehicle_length_cm vehicle_weight_kg number_of_axles                             \n",
       "DR_10013 1709              18599             6               0                 18599.0   \n",
       "                                                             93208             18599.0   \n",
       "                                                             93209             18599.0   \n",
       "                                                             93210             18599.0   \n",
       "                                                             93211             18599.0   \n",
       "                                                             93212             18599.0   \n",
       "                                                             93213             18599.0   \n",
       "                                                             93214             18599.0   \n",
       "                                                             93215             18599.0   \n",
       "                                                             93216             18599.0   \n",
       "DR_10024 1768              14588             5               0                 14588.0   \n",
       "                                                             17429             14588.0   \n",
       "                                                             17430             14588.0   \n",
       "                                                             17431             14588.0   \n",
       "                                                             17432             14588.0   \n",
       "                                                             17433             14588.0   \n",
       "                                                             17434             14588.0   \n",
       "DR_10025 1734              16708             5               0                 16708.0   \n",
       "                                                             102026            16708.0   \n",
       "                                                             102027            16708.0   \n",
       "\n",
       "                                                                     number_of_axles  \\\n",
       "ID       vehicle_length_cm vehicle_weight_kg number_of_axles                           \n",
       "DR_10013 1709              18599             6               0                   6.0   \n",
       "                                                             93208               NaN   \n",
       "                                                             93209               NaN   \n",
       "                                                             93210               NaN   \n",
       "                                                             93211               NaN   \n",
       "                                                             93212               NaN   \n",
       "                                                             93213               NaN   \n",
       "                                                             93214               NaN   \n",
       "                                                             93215               NaN   \n",
       "                                                             93216               NaN   \n",
       "DR_10024 1768              14588             5               0                   5.0   \n",
       "                                                             17429               NaN   \n",
       "                                                             17430               NaN   \n",
       "                                                             17431               NaN   \n",
       "                                                             17432               NaN   \n",
       "                                                             17433               NaN   \n",
       "                                                             17434               NaN   \n",
       "DR_10025 1734              16708             5               0                   5.0   \n",
       "                                                             102026              NaN   \n",
       "                                                             102027              NaN   \n",
       "\n",
       "                                                                     lane_no  \\\n",
       "ID       vehicle_length_cm vehicle_weight_kg number_of_axles                   \n",
       "DR_10013 1709              18599             6               0           1.0   \n",
       "                                                             93208       NaN   \n",
       "                                                             93209       NaN   \n",
       "                                                             93210       NaN   \n",
       "                                                             93211       NaN   \n",
       "                                                             93212       NaN   \n",
       "                                                             93213       NaN   \n",
       "                                                             93214       NaN   \n",
       "                                                             93215       NaN   \n",
       "                                                             93216       NaN   \n",
       "DR_10024 1768              14588             5               0           1.0   \n",
       "                                                             17429       NaN   \n",
       "                                                             17430       NaN   \n",
       "                                                             17431       NaN   \n",
       "                                                             17432       NaN   \n",
       "                                                             17433       NaN   \n",
       "                                                             17434       NaN   \n",
       "DR_10025 1734              16708             5               0           1.0   \n",
       "                                                             102026      NaN   \n",
       "                                                             102027      NaN   \n",
       "\n",
       "                                                                     vehicle_speed  \\\n",
       "ID       vehicle_length_cm vehicle_weight_kg number_of_axles                         \n",
       "DR_10013 1709              18599             6               0           86.555556   \n",
       "                                                             93208       86.555556   \n",
       "                                                             93209       86.555556   \n",
       "                                                             93210       86.555556   \n",
       "                                                             93211       86.555556   \n",
       "                                                             93212       86.555556   \n",
       "                                                             93213       86.555556   \n",
       "                                                             93214       86.555556   \n",
       "                                                             93215       86.555556   \n",
       "                                                             93216       86.555556   \n",
       "DR_10024 1768              14588             5               0           86.666667   \n",
       "                                                             17429       86.666667   \n",
       "                                                             17430       86.666667   \n",
       "                                                             17431       86.666667   \n",
       "                                                             17432       86.666667   \n",
       "                                                             17433       86.666667   \n",
       "                                                             17434       86.666667   \n",
       "DR_10025 1734              16708             5               0           81.500000   \n",
       "                                                             102026      81.500000   \n",
       "                                                             102027      81.500000   \n",
       "\n",
       "                                                                    weather_road_cond  \\\n",
       "ID       vehicle_length_cm vehicle_weight_kg number_of_axles                            \n",
       "DR_10013 1709              18599             6               0                    Dry   \n",
       "                                                             93208                NaN   \n",
       "                                                             93209                NaN   \n",
       "                                                             93210                NaN   \n",
       "                                                             93211                NaN   \n",
       "                                                             93212                NaN   \n",
       "                                                             93213                NaN   \n",
       "                                                             93214                NaN   \n",
       "                                                             93215                NaN   \n",
       "                                                             93216                NaN   \n",
       "DR_10024 1768              14588             5               0                    Dry   \n",
       "                                                             17429                NaN   \n",
       "                                                             17430                NaN   \n",
       "                                                             17431                NaN   \n",
       "                                                             17432                NaN   \n",
       "                                                             17433                NaN   \n",
       "                                                             17434                NaN   \n",
       "DR_10025 1734              16708             5               0                    Wet   \n",
       "                                                             102026               NaN   \n",
       "                                                             102027               NaN   \n",
       "\n",
       "                                                                     air_temp  \\\n",
       "ID       vehicle_length_cm vehicle_weight_kg number_of_axles                    \n",
       "DR_10013 1709              18599             6               0            4.0   \n",
       "                                                             93208        4.0   \n",
       "                                                             93209        4.0   \n",
       "                                                             93210        4.0   \n",
       "                                                             93211        4.0   \n",
       "                                                             93212        4.0   \n",
       "                                                             93213        4.0   \n",
       "                                                             93214        4.0   \n",
       "                                                             93215        4.0   \n",
       "                                                             93216        4.0   \n",
       "DR_10024 1768              14588             5               0            5.0   \n",
       "                                                             17429        5.0   \n",
       "                                                             17430        5.0   \n",
       "                                                             17431        5.0   \n",
       "                                                             17432        5.0   \n",
       "                                                             17433        5.0   \n",
       "                                                             17434        5.0   \n",
       "DR_10025 1734              16708             5               0            1.0   \n",
       "                                                             102026       1.0   \n",
       "                                                             102027       1.0   \n",
       "\n",
       "                                                                    prep_type  \\\n",
       "ID       vehicle_length_cm vehicle_weight_kg number_of_axles                    \n",
       "DR_10013 1709              18599             6               0          clear   \n",
       "                                                             93208        NaN   \n",
       "                                                             93209        NaN   \n",
       "                                                             93210        NaN   \n",
       "                                                             93211        NaN   \n",
       "                                                             93212        NaN   \n",
       "                                                             93213        NaN   \n",
       "                                                             93214        NaN   \n",
       "                                                             93215        NaN   \n",
       "                                                             93216        NaN   \n",
       "DR_10024 1768              14588             5               0           snow   \n",
       "                                                             17429        NaN   \n",
       "                                                             17430        NaN   \n",
       "                                                             17431        NaN   \n",
       "                                                             17432        NaN   \n",
       "                                                             17433        NaN   \n",
       "                                                             17434        NaN   \n",
       "DR_10025 1734              16708             5               0          clear   \n",
       "                                                             102026       NaN   \n",
       "                                                             102027       NaN   \n",
       "\n",
       "                                                                    prep_intensity  \\\n",
       "ID       vehicle_length_cm vehicle_weight_kg number_of_axles                         \n",
       "DR_10013 1709              18599             6               0                None   \n",
       "                                                             93208             NaN   \n",
       "                                                             93209             NaN   \n",
       "                                                             93210             NaN   \n",
       "                                                             93211             NaN   \n",
       "                                                             93212             NaN   \n",
       "                                                             93213             NaN   \n",
       "                                                             93214             NaN   \n",
       "                                                             93215             NaN   \n",
       "                                                             93216             NaN   \n",
       "DR_10024 1768              14588             5               0                None   \n",
       "                                                             17429             NaN   \n",
       "                                                             17430             NaN   \n",
       "                                                             17431             NaN   \n",
       "                                                             17432             NaN   \n",
       "                                                             17433             NaN   \n",
       "                                                             17434             NaN   \n",
       "DR_10025 1734              16708             5               0                None   \n",
       "                                                             102026            NaN   \n",
       "                                                             102027            NaN   \n",
       "\n",
       "                                                                     realtive_humidity  \\\n",
       "ID       vehicle_length_cm vehicle_weight_kg number_of_axles                             \n",
       "DR_10013 1709              18599             6               0                    58.0   \n",
       "                                                             93208                58.0   \n",
       "                                                             93209                58.0   \n",
       "                                                             93210                58.0   \n",
       "                                                             93211                58.0   \n",
       "                                                             93212                58.0   \n",
       "                                                             93213                58.0   \n",
       "                                                             93214                58.0   \n",
       "                                                             93215                58.0   \n",
       "                                                             93216                58.0   \n",
       "DR_10024 1768              14588             5               0                    61.0   \n",
       "                                                             17429                61.0   \n",
       "                                                             17430                61.0   \n",
       "                                                             17431                61.0   \n",
       "                                                             17432                61.0   \n",
       "                                                             17433                61.0   \n",
       "                                                             17434                61.0   \n",
       "DR_10025 1734              16708             5               0                    87.0   \n",
       "                                                             102026               87.0   \n",
       "                                                             102027               87.0   \n",
       "\n",
       "                                                                     wind_direction  \\\n",
       "ID       vehicle_length_cm vehicle_weight_kg number_of_axles                          \n",
       "DR_10013 1709              18599             6               0                163.0   \n",
       "                                                             93208            163.0   \n",
       "                                                             93209            163.0   \n",
       "                                                             93210            163.0   \n",
       "                                                             93211            163.0   \n",
       "                                                             93212            163.0   \n",
       "                                                             93213            163.0   \n",
       "                                                             93214            163.0   \n",
       "                                                             93215            163.0   \n",
       "                                                             93216            163.0   \n",
       "DR_10024 1768              14588             5               0                180.0   \n",
       "                                                             17429            180.0   \n",
       "                                                             17430            180.0   \n",
       "                                                             17431            180.0   \n",
       "                                                             17432            180.0   \n",
       "                                                             17433            180.0   \n",
       "                                                             17434            180.0   \n",
       "DR_10025 1734              16708             5               0                 11.0   \n",
       "                                                             102026            11.0   \n",
       "                                                             102027            11.0   \n",
       "\n",
       "                                                                     wind_speed_ms  \\\n",
       "ID       vehicle_length_cm vehicle_weight_kg number_of_axles                         \n",
       "DR_10013 1709              18599             6               0                 8.0   \n",
       "                                                             93208             8.0   \n",
       "                                                             93209             8.0   \n",
       "                                                             93210             8.0   \n",
       "                                                             93211             8.0   \n",
       "                                                             93212             8.0   \n",
       "                                                             93213             8.0   \n",
       "                                                             93214             8.0   \n",
       "                                                             93215             8.0   \n",
       "                                                             93216             8.0   \n",
       "DR_10024 1768              14588             5               0                 4.0   \n",
       "                                                             17429             4.0   \n",
       "                                                             17430             4.0   \n",
       "                                                             17431             4.0   \n",
       "                                                             17432             4.0   \n",
       "                                                             17433             4.0   \n",
       "                                                             17434             4.0   \n",
       "DR_10025 1734              16708             5               0                 3.0   \n",
       "                                                             102026            3.0   \n",
       "                                                             102027            3.0   \n",
       "\n",
       "                                                                    daylight_cond  \\\n",
       "ID       vehicle_length_cm vehicle_weight_kg number_of_axles                        \n",
       "DR_10013 1709              18599             6               0              night   \n",
       "                                                             93208            NaN   \n",
       "                                                             93209            NaN   \n",
       "                                                             93210            NaN   \n",
       "                                                             93211            NaN   \n",
       "                                                             93212            NaN   \n",
       "                                                             93213            NaN   \n",
       "                                                             93214            NaN   \n",
       "                                                             93215            NaN   \n",
       "                                                             93216            NaN   \n",
       "DR_10024 1768              14588             5               0           twilight   \n",
       "                                                             17429            NaN   \n",
       "                                                             17430            NaN   \n",
       "                                                             17431            NaN   \n",
       "                                                             17432            NaN   \n",
       "                                                             17433            NaN   \n",
       "                                                             17434            NaN   \n",
       "DR_10025 1734              16708             5               0              night   \n",
       "                                                             102026           NaN   \n",
       "                                                             102027           NaN   \n",
       "\n",
       "                                                                     DrivingStyle  \n",
       "ID       vehicle_length_cm vehicle_weight_kg number_of_axles                       \n",
       "DR_10013 1709              18599             6               0                3.0  \n",
       "                                                             93208            NaN  \n",
       "                                                             93209            NaN  \n",
       "                                                             93210            NaN  \n",
       "                                                             93211            NaN  \n",
       "                                                             93212            NaN  \n",
       "                                                             93213            NaN  \n",
       "                                                             93214            NaN  \n",
       "                                                             93215            NaN  \n",
       "                                                             93216            NaN  \n",
       "DR_10024 1768              14588             5               0                1.0  \n",
       "                                                             17429            NaN  \n",
       "                                                             17430            NaN  \n",
       "                                                             17431            NaN  \n",
       "                                                             17432            NaN  \n",
       "                                                             17433            NaN  \n",
       "                                                             17434            NaN  \n",
       "DR_10025 1734              16708             5               0                3.0  \n",
       "                                                             102026           NaN  \n",
       "                                                             102027           NaN  "
      ]
     },
     "execution_count": 733,
     "metadata": {},
     "output_type": "execute_result"
    }
   ],
   "source": [
    "temp.head(20)"
   ]
  },
  {
   "cell_type": "code",
   "execution_count": 727,
   "metadata": {},
   "outputs": [
    {
     "data": {
      "text/plain": [
       "ID                     9408\n",
       "vehicle_length_cm      9408\n",
       "vehicle_weight_kg      9408\n",
       "number_of_axles        9408\n",
       "lane_no              103155\n",
       "vehicle_speed             0\n",
       "weather_road_cond    104236\n",
       "air_temp                  0\n",
       "prep_type            104241\n",
       "prep_intensity       104241\n",
       "realtive_humidity         0\n",
       "wind_direction            0\n",
       "wind_speed_ms             0\n",
       "daylight_cond        104241\n",
       "dtype: int64"
      ]
     },
     "execution_count": 727,
     "metadata": {},
     "output_type": "execute_result"
    }
   ],
   "source": [
    "temp.isnull().sum()"
   ]
  },
  {
   "cell_type": "code",
   "execution_count": 728,
   "metadata": {},
   "outputs": [
    {
     "data": {
      "text/plain": [
       "(112563, 14)"
      ]
     },
     "execution_count": 728,
     "metadata": {},
     "output_type": "execute_result"
    }
   ],
   "source": [
    "temp.shape"
   ]
  },
  {
   "cell_type": "code",
   "execution_count": 723,
   "metadata": {},
   "outputs": [
    {
     "data": {
      "text/plain": [
       "(9410, 10)"
      ]
     },
     "execution_count": 723,
     "metadata": {},
     "output_type": "execute_result"
    }
   ],
   "source": [
    "temp.shape"
   ]
  },
  {
   "cell_type": "code",
   "execution_count": 724,
   "metadata": {},
   "outputs": [],
   "source": [
    "temp.to_csv(\"temp.csv\",index=None)"
   ]
  },
  {
   "cell_type": "code",
   "execution_count": 714,
   "metadata": {},
   "outputs": [
    {
     "data": {
      "text/plain": [
       "3    2774\n",
       "2    2774\n",
       "1    2774\n",
       "Name: DrivingStyle, dtype: int64"
      ]
     },
     "execution_count": 714,
     "metadata": {},
     "output_type": "execute_result"
    }
   ],
   "source": [
    "temp['DrivingStyle'].value_counts()"
   ]
  },
  {
   "cell_type": "code",
   "execution_count": null,
   "metadata": {},
   "outputs": [],
   "source": []
  }
 ],
 "metadata": {
  "kernelspec": {
   "display_name": "Python 3",
   "language": "python",
   "name": "python3"
  },
  "language_info": {
   "codemirror_mode": {
    "name": "ipython",
    "version": 3
   },
   "file_extension": ".py",
   "mimetype": "text/x-python",
   "name": "python",
   "nbconvert_exporter": "python",
   "pygments_lexer": "ipython3",
   "version": "3.6.5"
  }
 },
 "nbformat": 4,
 "nbformat_minor": 2
}
